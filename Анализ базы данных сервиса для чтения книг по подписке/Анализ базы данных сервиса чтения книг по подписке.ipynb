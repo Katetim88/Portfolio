{
 "cells": [
  {
   "cell_type": "markdown",
   "id": "18fa5bea",
   "metadata": {
    "toc": true
   },
   "source": [
    "<h1>Содержание<span class=\"tocSkip\"></span></h1>\n",
    "<div class=\"toc\"><ul class=\"toc-item\"><li><span><a href=\"#Загрузка-и-исследование-таблиц\" data-toc-modified-id=\"Загрузка-и-исследование-таблиц-1\"><span class=\"toc-item-num\">1&nbsp;&nbsp;</span>Загрузка и исследование таблиц</a></span></li><li><span><a href=\"#Анализ-базы-данных\" data-toc-modified-id=\"Анализ-базы-данных-2\"><span class=\"toc-item-num\">2&nbsp;&nbsp;</span>Анализ базы данных</a></span><ul class=\"toc-item\"><li><span><a href=\"#Cколько-книг-вышло-после-1-января-2000-года\" data-toc-modified-id=\"Cколько-книг-вышло-после-1-января-2000-года-2.1\"><span class=\"toc-item-num\">2.1&nbsp;&nbsp;</span>Cколько книг вышло после 1 января 2000 года</a></span></li><li><span><a href=\"#Количество-обзоров-и-средняя-оценка-книг\" data-toc-modified-id=\"Количество-обзоров-и-средняя-оценка-книг-2.2\"><span class=\"toc-item-num\">2.2&nbsp;&nbsp;</span>Количество обзоров и средняя оценка книг</a></span></li><li><span><a href=\"#Издательство,-которое-выпустило-наибольшее-число-книг-толще-50-страниц\" data-toc-modified-id=\"Издательство,-которое-выпустило-наибольшее-число-книг-толще-50-страниц-2.3\"><span class=\"toc-item-num\">2.3&nbsp;&nbsp;</span>Издательство, которое выпустило наибольшее число книг толще 50 страниц</a></span></li><li><span><a href=\"#Автор-с-самой-высокой-средней-оценкой-книг.\" data-toc-modified-id=\"Автор-с-самой-высокой-средней-оценкой-книг.-2.4\"><span class=\"toc-item-num\">2.4&nbsp;&nbsp;</span>Автор с самой высокой средней оценкой книг.</a></span></li><li><span><a href=\"#Cреднее-количество-обзоров-от-пользователей,-которые-поставили-больше-50-оценок.\" data-toc-modified-id=\"Cреднее-количество-обзоров-от-пользователей,-которые-поставили-больше-50-оценок.-2.5\"><span class=\"toc-item-num\">2.5&nbsp;&nbsp;</span>Cреднее количество обзоров от пользователей, которые поставили больше 50 оценок.</a></span></li></ul></li><li><span><a href=\"#Выводы\" data-toc-modified-id=\"Выводы-3\"><span class=\"toc-item-num\">3&nbsp;&nbsp;</span>Выводы</a></span></li></ul></div>"
   ]
  },
  {
   "cell_type": "markdown",
   "id": "749922de",
   "metadata": {},
   "source": [
    "**Анализ базы данных сервиса для чтения книг по подписке**\n",
    "\n",
    "Наша задача — проанализировать базу данных крупного сервиса для чтения книг по подписке. В ней — информация о книгах, издательствах, авторах, а также пользовательские обзоры книг. Эти данные помогут сформулировать ценностное предложение для нового продукта.\n",
    "\n",
    "## Загрузка и исследование таблиц"
   ]
  },
  {
   "cell_type": "code",
   "execution_count": 1,
   "id": "08ed4158",
   "metadata": {},
   "outputs": [],
   "source": [
    "# импортируем библиотеки\n",
    "import pandas as pd\n",
    "from sqlalchemy import create_engine\n",
    "import seaborn as sns\n",
    "import matplotlib.pyplot as plt"
   ]
  },
  {
   "cell_type": "code",
   "execution_count": 2,
   "id": "82ec496a",
   "metadata": {},
   "outputs": [],
   "source": [
    "# устанавливаем параметры\n",
    "db_config = {'user': 'praktikum_student', # имя пользователя\n",
    "'pwd': 'Sdf4$2;d-d30pp', # пароль\n",
    "'host': 'rc1b-wcoijxj3yxfsf3fs.mdb.yandexcloud.net',\n",
    "'port': 6432, # порт подключения\n",
    "'db': 'data-analyst-final-project-db'} # название базы данных\n",
    "connection_string = 'postgresql://{}:{}@{}:{}/{}'.format(db_config['user'],\n",
    " db_config['pwd'],\n",
    " db_config['host'],\n",
    " db_config['port'],\n",
    " db_config['db'])\n",
    "# сохраняем коннектор\n",
    "engine = create_engine(connection_string, connect_args={'sslmode':'require'}) "
   ]
  },
  {
   "cell_type": "code",
   "execution_count": 3,
   "id": "0e949236",
   "metadata": {},
   "outputs": [
    {
     "name": "stdout",
     "output_type": "stream",
     "text": [
      "<class 'pandas.core.frame.DataFrame'>\n",
      "RangeIndex: 1000 entries, 0 to 999\n",
      "Data columns (total 6 columns):\n",
      " #   Column            Non-Null Count  Dtype \n",
      "---  ------            --------------  ----- \n",
      " 0   book_id           1000 non-null   int64 \n",
      " 1   author_id         1000 non-null   int64 \n",
      " 2   title             1000 non-null   object\n",
      " 3   num_pages         1000 non-null   int64 \n",
      " 4   publication_date  1000 non-null   object\n",
      " 5   publisher_id      1000 non-null   int64 \n",
      "dtypes: int64(4), object(2)\n",
      "memory usage: 47.0+ KB\n"
     ]
    },
    {
     "data": {
      "text/html": [
       "<div>\n",
       "<style scoped>\n",
       "    .dataframe tbody tr th:only-of-type {\n",
       "        vertical-align: middle;\n",
       "    }\n",
       "\n",
       "    .dataframe tbody tr th {\n",
       "        vertical-align: top;\n",
       "    }\n",
       "\n",
       "    .dataframe thead th {\n",
       "        text-align: right;\n",
       "    }\n",
       "</style>\n",
       "<table border=\"1\" class=\"dataframe\">\n",
       "  <thead>\n",
       "    <tr style=\"text-align: right;\">\n",
       "      <th></th>\n",
       "      <th>book_id</th>\n",
       "      <th>author_id</th>\n",
       "      <th>title</th>\n",
       "      <th>num_pages</th>\n",
       "      <th>publication_date</th>\n",
       "      <th>publisher_id</th>\n",
       "    </tr>\n",
       "  </thead>\n",
       "  <tbody>\n",
       "    <tr>\n",
       "      <th>0</th>\n",
       "      <td>1</td>\n",
       "      <td>546</td>\n",
       "      <td>'Salem's Lot</td>\n",
       "      <td>594</td>\n",
       "      <td>2005-11-01</td>\n",
       "      <td>93</td>\n",
       "    </tr>\n",
       "    <tr>\n",
       "      <th>1</th>\n",
       "      <td>2</td>\n",
       "      <td>465</td>\n",
       "      <td>1 000 Places to See Before You Die</td>\n",
       "      <td>992</td>\n",
       "      <td>2003-05-22</td>\n",
       "      <td>336</td>\n",
       "    </tr>\n",
       "  </tbody>\n",
       "</table>\n",
       "</div>"
      ],
      "text/plain": [
       "   book_id  author_id                               title  num_pages  \\\n",
       "0        1        546                        'Salem's Lot        594   \n",
       "1        2        465  1 000 Places to See Before You Die        992   \n",
       "\n",
       "  publication_date  publisher_id  \n",
       "0       2005-11-01            93  \n",
       "1       2003-05-22           336  "
      ]
     },
     "execution_count": 3,
     "metadata": {},
     "output_type": "execute_result"
    }
   ],
   "source": [
    "query = ''' SELECT *\n",
    "            FROM books\n",
    "        '''\n",
    "books = pd.io.sql.read_sql(query, con = engine) \n",
    "books.info()\n",
    "books.head(2)"
   ]
  },
  {
   "cell_type": "code",
   "execution_count": 4,
   "id": "7a7c98bf",
   "metadata": {},
   "outputs": [
    {
     "name": "stdout",
     "output_type": "stream",
     "text": [
      "<class 'pandas.core.frame.DataFrame'>\n",
      "RangeIndex: 636 entries, 0 to 635\n",
      "Data columns (total 2 columns):\n",
      " #   Column     Non-Null Count  Dtype \n",
      "---  ------     --------------  ----- \n",
      " 0   author_id  636 non-null    int64 \n",
      " 1   author     636 non-null    object\n",
      "dtypes: int64(1), object(1)\n",
      "memory usage: 10.1+ KB\n"
     ]
    },
    {
     "data": {
      "text/html": [
       "<div>\n",
       "<style scoped>\n",
       "    .dataframe tbody tr th:only-of-type {\n",
       "        vertical-align: middle;\n",
       "    }\n",
       "\n",
       "    .dataframe tbody tr th {\n",
       "        vertical-align: top;\n",
       "    }\n",
       "\n",
       "    .dataframe thead th {\n",
       "        text-align: right;\n",
       "    }\n",
       "</style>\n",
       "<table border=\"1\" class=\"dataframe\">\n",
       "  <thead>\n",
       "    <tr style=\"text-align: right;\">\n",
       "      <th></th>\n",
       "      <th>author_id</th>\n",
       "      <th>author</th>\n",
       "    </tr>\n",
       "  </thead>\n",
       "  <tbody>\n",
       "    <tr>\n",
       "      <th>0</th>\n",
       "      <td>1</td>\n",
       "      <td>A.S. Byatt</td>\n",
       "    </tr>\n",
       "    <tr>\n",
       "      <th>1</th>\n",
       "      <td>2</td>\n",
       "      <td>Aesop/Laura Harris/Laura Gibbs</td>\n",
       "    </tr>\n",
       "  </tbody>\n",
       "</table>\n",
       "</div>"
      ],
      "text/plain": [
       "   author_id                          author\n",
       "0          1                      A.S. Byatt\n",
       "1          2  Aesop/Laura Harris/Laura Gibbs"
      ]
     },
     "execution_count": 4,
     "metadata": {},
     "output_type": "execute_result"
    }
   ],
   "source": [
    "query = ''' SELECT *\n",
    "            FROM authors\n",
    "        '''\n",
    "authors = pd.io.sql.read_sql(query, con = engine) \n",
    "authors.info()\n",
    "authors.head(2)"
   ]
  },
  {
   "cell_type": "code",
   "execution_count": 5,
   "id": "06dc67b3",
   "metadata": {},
   "outputs": [
    {
     "name": "stdout",
     "output_type": "stream",
     "text": [
      "<class 'pandas.core.frame.DataFrame'>\n",
      "RangeIndex: 340 entries, 0 to 339\n",
      "Data columns (total 2 columns):\n",
      " #   Column        Non-Null Count  Dtype \n",
      "---  ------        --------------  ----- \n",
      " 0   publisher_id  340 non-null    int64 \n",
      " 1   publisher     340 non-null    object\n",
      "dtypes: int64(1), object(1)\n",
      "memory usage: 5.4+ KB\n"
     ]
    },
    {
     "data": {
      "text/html": [
       "<div>\n",
       "<style scoped>\n",
       "    .dataframe tbody tr th:only-of-type {\n",
       "        vertical-align: middle;\n",
       "    }\n",
       "\n",
       "    .dataframe tbody tr th {\n",
       "        vertical-align: top;\n",
       "    }\n",
       "\n",
       "    .dataframe thead th {\n",
       "        text-align: right;\n",
       "    }\n",
       "</style>\n",
       "<table border=\"1\" class=\"dataframe\">\n",
       "  <thead>\n",
       "    <tr style=\"text-align: right;\">\n",
       "      <th></th>\n",
       "      <th>publisher_id</th>\n",
       "      <th>publisher</th>\n",
       "    </tr>\n",
       "  </thead>\n",
       "  <tbody>\n",
       "    <tr>\n",
       "      <th>0</th>\n",
       "      <td>1</td>\n",
       "      <td>Ace</td>\n",
       "    </tr>\n",
       "    <tr>\n",
       "      <th>1</th>\n",
       "      <td>2</td>\n",
       "      <td>Ace Book</td>\n",
       "    </tr>\n",
       "    <tr>\n",
       "      <th>2</th>\n",
       "      <td>3</td>\n",
       "      <td>Ace Books</td>\n",
       "    </tr>\n",
       "    <tr>\n",
       "      <th>3</th>\n",
       "      <td>4</td>\n",
       "      <td>Ace Hardcover</td>\n",
       "    </tr>\n",
       "    <tr>\n",
       "      <th>4</th>\n",
       "      <td>5</td>\n",
       "      <td>Addison Wesley Publishing Company</td>\n",
       "    </tr>\n",
       "  </tbody>\n",
       "</table>\n",
       "</div>"
      ],
      "text/plain": [
       "   publisher_id                          publisher\n",
       "0             1                                Ace\n",
       "1             2                           Ace Book\n",
       "2             3                          Ace Books\n",
       "3             4                      Ace Hardcover\n",
       "4             5  Addison Wesley Publishing Company"
      ]
     },
     "execution_count": 5,
     "metadata": {},
     "output_type": "execute_result"
    }
   ],
   "source": [
    "query = ''' SELECT *\n",
    "            FROM publishers\n",
    "        '''\n",
    "publishers = pd.io.sql.read_sql(query, con = engine) \n",
    "publishers.info()\n",
    "publishers.head()"
   ]
  },
  {
   "cell_type": "code",
   "execution_count": 6,
   "id": "5e4b6bb3",
   "metadata": {},
   "outputs": [
    {
     "name": "stdout",
     "output_type": "stream",
     "text": [
      "<class 'pandas.core.frame.DataFrame'>\n",
      "RangeIndex: 6456 entries, 0 to 6455\n",
      "Data columns (total 4 columns):\n",
      " #   Column     Non-Null Count  Dtype \n",
      "---  ------     --------------  ----- \n",
      " 0   rating_id  6456 non-null   int64 \n",
      " 1   book_id    6456 non-null   int64 \n",
      " 2   username   6456 non-null   object\n",
      " 3   rating     6456 non-null   int64 \n",
      "dtypes: int64(3), object(1)\n",
      "memory usage: 201.9+ KB\n"
     ]
    },
    {
     "data": {
      "text/html": [
       "<div>\n",
       "<style scoped>\n",
       "    .dataframe tbody tr th:only-of-type {\n",
       "        vertical-align: middle;\n",
       "    }\n",
       "\n",
       "    .dataframe tbody tr th {\n",
       "        vertical-align: top;\n",
       "    }\n",
       "\n",
       "    .dataframe thead th {\n",
       "        text-align: right;\n",
       "    }\n",
       "</style>\n",
       "<table border=\"1\" class=\"dataframe\">\n",
       "  <thead>\n",
       "    <tr style=\"text-align: right;\">\n",
       "      <th></th>\n",
       "      <th>rating_id</th>\n",
       "      <th>book_id</th>\n",
       "      <th>username</th>\n",
       "      <th>rating</th>\n",
       "    </tr>\n",
       "  </thead>\n",
       "  <tbody>\n",
       "    <tr>\n",
       "      <th>0</th>\n",
       "      <td>1</td>\n",
       "      <td>1</td>\n",
       "      <td>ryanfranco</td>\n",
       "      <td>4</td>\n",
       "    </tr>\n",
       "    <tr>\n",
       "      <th>1</th>\n",
       "      <td>2</td>\n",
       "      <td>1</td>\n",
       "      <td>grantpatricia</td>\n",
       "      <td>2</td>\n",
       "    </tr>\n",
       "  </tbody>\n",
       "</table>\n",
       "</div>"
      ],
      "text/plain": [
       "   rating_id  book_id       username  rating\n",
       "0          1        1     ryanfranco       4\n",
       "1          2        1  grantpatricia       2"
      ]
     },
     "execution_count": 6,
     "metadata": {},
     "output_type": "execute_result"
    }
   ],
   "source": [
    "query = ''' SELECT *\n",
    "            FROM ratings\n",
    "        '''\n",
    "ratings = pd.io.sql.read_sql(query, con = engine) \n",
    "ratings.info()\n",
    "ratings.head(2)"
   ]
  },
  {
   "cell_type": "code",
   "execution_count": 7,
   "id": "beb073a9",
   "metadata": {},
   "outputs": [
    {
     "name": "stdout",
     "output_type": "stream",
     "text": [
      "<class 'pandas.core.frame.DataFrame'>\n",
      "RangeIndex: 2793 entries, 0 to 2792\n",
      "Data columns (total 4 columns):\n",
      " #   Column     Non-Null Count  Dtype \n",
      "---  ------     --------------  ----- \n",
      " 0   review_id  2793 non-null   int64 \n",
      " 1   book_id    2793 non-null   int64 \n",
      " 2   username   2793 non-null   object\n",
      " 3   text       2793 non-null   object\n",
      "dtypes: int64(2), object(2)\n",
      "memory usage: 87.4+ KB\n"
     ]
    },
    {
     "data": {
      "text/html": [
       "<div>\n",
       "<style scoped>\n",
       "    .dataframe tbody tr th:only-of-type {\n",
       "        vertical-align: middle;\n",
       "    }\n",
       "\n",
       "    .dataframe tbody tr th {\n",
       "        vertical-align: top;\n",
       "    }\n",
       "\n",
       "    .dataframe thead th {\n",
       "        text-align: right;\n",
       "    }\n",
       "</style>\n",
       "<table border=\"1\" class=\"dataframe\">\n",
       "  <thead>\n",
       "    <tr style=\"text-align: right;\">\n",
       "      <th></th>\n",
       "      <th>review_id</th>\n",
       "      <th>book_id</th>\n",
       "      <th>username</th>\n",
       "      <th>text</th>\n",
       "    </tr>\n",
       "  </thead>\n",
       "  <tbody>\n",
       "    <tr>\n",
       "      <th>0</th>\n",
       "      <td>1</td>\n",
       "      <td>1</td>\n",
       "      <td>brandtandrea</td>\n",
       "      <td>Mention society tell send professor analysis. ...</td>\n",
       "    </tr>\n",
       "    <tr>\n",
       "      <th>1</th>\n",
       "      <td>2</td>\n",
       "      <td>1</td>\n",
       "      <td>ryanfranco</td>\n",
       "      <td>Foot glass pretty audience hit themselves. Amo...</td>\n",
       "    </tr>\n",
       "  </tbody>\n",
       "</table>\n",
       "</div>"
      ],
      "text/plain": [
       "   review_id  book_id      username  \\\n",
       "0          1        1  brandtandrea   \n",
       "1          2        1    ryanfranco   \n",
       "\n",
       "                                                text  \n",
       "0  Mention society tell send professor analysis. ...  \n",
       "1  Foot glass pretty audience hit themselves. Amo...  "
      ]
     },
     "execution_count": 7,
     "metadata": {},
     "output_type": "execute_result"
    }
   ],
   "source": [
    "query = ''' SELECT *\n",
    "            FROM reviews\n",
    "        '''\n",
    "reviews = pd.io.sql.read_sql(query, con = engine) \n",
    "reviews.info()\n",
    "reviews.head(2)"
   ]
  },
  {
   "cell_type": "code",
   "execution_count": 8,
   "id": "fc09be39",
   "metadata": {},
   "outputs": [
    {
     "data": {
      "text/plain": [
       "0"
      ]
     },
     "execution_count": 8,
     "metadata": {},
     "output_type": "execute_result"
    }
   ],
   "source": [
    "books.duplicated().sum()"
   ]
  },
  {
   "cell_type": "code",
   "execution_count": 9,
   "id": "cf667ed5",
   "metadata": {},
   "outputs": [
    {
     "data": {
      "text/plain": [
       "0"
      ]
     },
     "execution_count": 9,
     "metadata": {},
     "output_type": "execute_result"
    }
   ],
   "source": [
    "authors.duplicated().sum()"
   ]
  },
  {
   "cell_type": "code",
   "execution_count": 10,
   "id": "546e63e0",
   "metadata": {},
   "outputs": [
    {
     "data": {
      "text/plain": [
       "0"
      ]
     },
     "execution_count": 10,
     "metadata": {},
     "output_type": "execute_result"
    }
   ],
   "source": [
    "publishers.duplicated().sum()"
   ]
  },
  {
   "cell_type": "code",
   "execution_count": 11,
   "id": "4a2abec1",
   "metadata": {},
   "outputs": [
    {
     "data": {
      "text/plain": [
       "0"
      ]
     },
     "execution_count": 11,
     "metadata": {},
     "output_type": "execute_result"
    }
   ],
   "source": [
    "ratings.duplicated().sum()"
   ]
  },
  {
   "cell_type": "code",
   "execution_count": 12,
   "id": "8e48ba20",
   "metadata": {},
   "outputs": [
    {
     "data": {
      "text/plain": [
       "0"
      ]
     },
     "execution_count": 12,
     "metadata": {},
     "output_type": "execute_result"
    }
   ],
   "source": [
    "reviews.duplicated().sum()"
   ]
  },
  {
   "cell_type": "markdown",
   "id": "65f744ce",
   "metadata": {},
   "source": [
    "Пропусков и дубликатов в данных не обнаружено."
   ]
  },
  {
   "cell_type": "markdown",
   "id": "adcc5879",
   "metadata": {},
   "source": [
    "## Анализ базы данных\n",
    "\n",
    "###  Cколько книг вышло после 1 января 2000 года"
   ]
  },
  {
   "cell_type": "code",
   "execution_count": 13,
   "id": "af6f5afc",
   "metadata": {},
   "outputs": [
    {
     "data": {
      "text/html": [
       "<div>\n",
       "<style scoped>\n",
       "    .dataframe tbody tr th:only-of-type {\n",
       "        vertical-align: middle;\n",
       "    }\n",
       "\n",
       "    .dataframe tbody tr th {\n",
       "        vertical-align: top;\n",
       "    }\n",
       "\n",
       "    .dataframe thead th {\n",
       "        text-align: right;\n",
       "    }\n",
       "</style>\n",
       "<table border=\"1\" class=\"dataframe\">\n",
       "  <thead>\n",
       "    <tr style=\"text-align: right;\">\n",
       "      <th></th>\n",
       "      <th>count</th>\n",
       "    </tr>\n",
       "  </thead>\n",
       "  <tbody>\n",
       "    <tr>\n",
       "      <th>0</th>\n",
       "      <td>819</td>\n",
       "    </tr>\n",
       "  </tbody>\n",
       "</table>\n",
       "</div>"
      ],
      "text/plain": [
       "   count\n",
       "0    819"
      ]
     },
     "execution_count": 13,
     "metadata": {},
     "output_type": "execute_result"
    }
   ],
   "source": [
    "query = ''' SELECT COUNT(book_id)\n",
    "            FROM books\n",
    "            WHERE publication_date > '2000-01-01'\n",
    "        '''\n",
    "pd.io.sql.read_sql(query, con = engine) "
   ]
  },
  {
   "cell_type": "markdown",
   "id": "fb79376d",
   "metadata": {},
   "source": [
    "После 1 января 2000 года вышло 819 книг.\n",
    "\n",
    "### Количество обзоров и средняя оценка книг"
   ]
  },
  {
   "cell_type": "code",
   "execution_count": 14,
   "id": "bb86166c",
   "metadata": {},
   "outputs": [
    {
     "data": {
      "text/html": [
       "<div>\n",
       "<style scoped>\n",
       "    .dataframe tbody tr th:only-of-type {\n",
       "        vertical-align: middle;\n",
       "    }\n",
       "\n",
       "    .dataframe tbody tr th {\n",
       "        vertical-align: top;\n",
       "    }\n",
       "\n",
       "    .dataframe thead th {\n",
       "        text-align: right;\n",
       "    }\n",
       "</style>\n",
       "<table border=\"1\" class=\"dataframe\">\n",
       "  <thead>\n",
       "    <tr style=\"text-align: right;\">\n",
       "      <th></th>\n",
       "      <th>book_id</th>\n",
       "      <th>reviews</th>\n",
       "      <th>avg_rating</th>\n",
       "    </tr>\n",
       "  </thead>\n",
       "  <tbody>\n",
       "    <tr>\n",
       "      <th>0</th>\n",
       "      <td>652</td>\n",
       "      <td>4</td>\n",
       "      <td>4.50</td>\n",
       "    </tr>\n",
       "    <tr>\n",
       "      <th>1</th>\n",
       "      <td>273</td>\n",
       "      <td>4</td>\n",
       "      <td>4.50</td>\n",
       "    </tr>\n",
       "    <tr>\n",
       "      <th>2</th>\n",
       "      <td>51</td>\n",
       "      <td>60</td>\n",
       "      <td>4.25</td>\n",
       "    </tr>\n",
       "    <tr>\n",
       "      <th>3</th>\n",
       "      <td>951</td>\n",
       "      <td>4</td>\n",
       "      <td>4.00</td>\n",
       "    </tr>\n",
       "    <tr>\n",
       "      <th>4</th>\n",
       "      <td>839</td>\n",
       "      <td>28</td>\n",
       "      <td>4.29</td>\n",
       "    </tr>\n",
       "    <tr>\n",
       "      <th>...</th>\n",
       "      <td>...</td>\n",
       "      <td>...</td>\n",
       "      <td>...</td>\n",
       "    </tr>\n",
       "    <tr>\n",
       "      <th>995</th>\n",
       "      <td>64</td>\n",
       "      <td>52</td>\n",
       "      <td>4.23</td>\n",
       "    </tr>\n",
       "    <tr>\n",
       "      <th>996</th>\n",
       "      <td>55</td>\n",
       "      <td>4</td>\n",
       "      <td>5.00</td>\n",
       "    </tr>\n",
       "    <tr>\n",
       "      <th>997</th>\n",
       "      <td>148</td>\n",
       "      <td>21</td>\n",
       "      <td>3.43</td>\n",
       "    </tr>\n",
       "    <tr>\n",
       "      <th>998</th>\n",
       "      <td>790</td>\n",
       "      <td>4</td>\n",
       "      <td>3.50</td>\n",
       "    </tr>\n",
       "    <tr>\n",
       "      <th>999</th>\n",
       "      <td>828</td>\n",
       "      <td>4</td>\n",
       "      <td>3.00</td>\n",
       "    </tr>\n",
       "  </tbody>\n",
       "</table>\n",
       "<p>1000 rows × 3 columns</p>\n",
       "</div>"
      ],
      "text/plain": [
       "     book_id  reviews  avg_rating\n",
       "0        652        4        4.50\n",
       "1        273        4        4.50\n",
       "2         51       60        4.25\n",
       "3        951        4        4.00\n",
       "4        839       28        4.29\n",
       "..       ...      ...         ...\n",
       "995       64       52        4.23\n",
       "996       55        4        5.00\n",
       "997      148       21        3.43\n",
       "998      790        4        3.50\n",
       "999      828        4        3.00\n",
       "\n",
       "[1000 rows x 3 columns]"
      ]
     },
     "execution_count": 14,
     "metadata": {},
     "output_type": "execute_result"
    }
   ],
   "source": [
    "query = '''     \n",
    "            SELECT  rat.book_id, \n",
    "                    COUNT(review_id) AS reviews,\n",
    "                    ROUND(AVG(rating),2) AS avg_rating                 \n",
    "            FROM ratings rat LEFT JOIN reviews AS rev ON rat.book_id=rev.book_id   \n",
    "            GROUP BY rat.book_id\n",
    "            ;\n",
    "        '''\n",
    "rev_rat=pd.io.sql.read_sql(query, con = engine) \n",
    "rev_rat"
   ]
  },
  {
   "cell_type": "code",
   "execution_count": 15,
   "id": "8de059d9",
   "metadata": {},
   "outputs": [
    {
     "data": {
      "image/png": "[encoded data removed]",
      "text/plain": [
       "<Figure size 864x360 with 1 Axes>"
      ]
     },
     "metadata": {
      "needs_background": "light"
     },
     "output_type": "display_data"
    }
   ],
   "source": [
    "plt.figure(figsize=(12,5))\n",
    "sns.histplot(x= rev_rat['reviews'], bins=50)\n",
    "plt.title('Количество обзоров книг')\n",
    "plt.ylabel(None)\n",
    "plt.xlabel('Количество обзоров')\n",
    "sns.despine() "
   ]
  },
  {
   "cell_type": "markdown",
   "id": "73897f05",
   "metadata": {},
   "source": [
    "На большинство книг до 10 обзоров, но есть немного супер популярных книг на которые от 200 до 1000 обзоров."
   ]
  },
  {
   "cell_type": "code",
   "execution_count": 16,
   "id": "34016781",
   "metadata": {},
   "outputs": [
    {
     "data": {
      "image/png": "[encoded data removed]",
      "text/plain": [
       "<Figure size 864x360 with 1 Axes>"
      ]
     },
     "metadata": {
      "needs_background": "light"
     },
     "output_type": "display_data"
    }
   ],
   "source": [
    "plt.figure(figsize=(12,5))\n",
    "sns.histplot(x= rev_rat['avg_rating'], bins=50)\n",
    "plt.title('Средняя оценка книг')\n",
    "plt.ylabel(None)\n",
    "plt.xlabel('Средняя оценка')\n",
    "sns.despine() "
   ]
  },
  {
   "cell_type": "markdown",
   "id": "9e7cb233",
   "metadata": {},
   "source": [
    "Больше всего книг со средней оценкой 4.\n",
    "\n",
    "###  Издательство, которое выпустило наибольшее число книг толще 50 страниц "
   ]
  },
  {
   "cell_type": "code",
   "execution_count": 17,
   "id": "9d22b678",
   "metadata": {},
   "outputs": [
    {
     "data": {
      "text/html": [
       "<div>\n",
       "<style scoped>\n",
       "    .dataframe tbody tr th:only-of-type {\n",
       "        vertical-align: middle;\n",
       "    }\n",
       "\n",
       "    .dataframe tbody tr th {\n",
       "        vertical-align: top;\n",
       "    }\n",
       "\n",
       "    .dataframe thead th {\n",
       "        text-align: right;\n",
       "    }\n",
       "</style>\n",
       "<table border=\"1\" class=\"dataframe\">\n",
       "  <thead>\n",
       "    <tr style=\"text-align: right;\">\n",
       "      <th></th>\n",
       "      <th>publisher_id</th>\n",
       "      <th>publisher</th>\n",
       "      <th>count</th>\n",
       "    </tr>\n",
       "  </thead>\n",
       "  <tbody>\n",
       "    <tr>\n",
       "      <th>0</th>\n",
       "      <td>212</td>\n",
       "      <td>Penguin Books</td>\n",
       "      <td>42</td>\n",
       "    </tr>\n",
       "  </tbody>\n",
       "</table>\n",
       "</div>"
      ],
      "text/plain": [
       "   publisher_id      publisher  count\n",
       "0           212  Penguin Books     42"
      ]
     },
     "execution_count": 17,
     "metadata": {},
     "output_type": "execute_result"
    }
   ],
   "source": [
    "query = '''     \n",
    "            SELECT p.publisher_id,\n",
    "                   publisher,\n",
    "                   COUNT(book_id)       \n",
    "            FROM books AS b JOIN publishers AS p ON b.publisher_id=p.publisher_id\n",
    "            WHERE num_pages>50\n",
    "            GROUP BY p.publisher_id,\n",
    "                     publisher\n",
    "            ORDER BY COUNT(book_id) DESC \n",
    "            LIMIT 1        \n",
    "            ;\n",
    "        '''\n",
    "pd.io.sql.read_sql(query, con = engine) "
   ]
  },
  {
   "cell_type": "markdown",
   "id": "c7cae844",
   "metadata": {},
   "source": [
    "Больше всего книг толще 50 страниц выпустило издательство Penguin Books.\n",
    "\n",
    "### Автор с самой высокой средней оценкой книг."
   ]
  },
  {
   "cell_type": "code",
   "execution_count": 18,
   "id": "cd81478e",
   "metadata": {},
   "outputs": [
    {
     "data": {
      "text/html": [
       "<div>\n",
       "<style scoped>\n",
       "    .dataframe tbody tr th:only-of-type {\n",
       "        vertical-align: middle;\n",
       "    }\n",
       "\n",
       "    .dataframe tbody tr th {\n",
       "        vertical-align: top;\n",
       "    }\n",
       "\n",
       "    .dataframe thead th {\n",
       "        text-align: right;\n",
       "    }\n",
       "</style>\n",
       "<table border=\"1\" class=\"dataframe\">\n",
       "  <thead>\n",
       "    <tr style=\"text-align: right;\">\n",
       "      <th></th>\n",
       "      <th>author</th>\n",
       "      <th>avg</th>\n",
       "    </tr>\n",
       "  </thead>\n",
       "  <tbody>\n",
       "    <tr>\n",
       "      <th>0</th>\n",
       "      <td>J.K. Rowling/Mary GrandPré</td>\n",
       "      <td>4.283844</td>\n",
       "    </tr>\n",
       "  </tbody>\n",
       "</table>\n",
       "</div>"
      ],
      "text/plain": [
       "                       author       avg\n",
       "0  J.K. Rowling/Mary GrandPré  4.283844"
      ]
     },
     "execution_count": 18,
     "metadata": {},
     "output_type": "execute_result"
    }
   ],
   "source": [
    "query = '''     \n",
    "            WITH r AS (\n",
    "                   SELECT book_id,\n",
    "                          AVG(rating) avg_rating,\n",
    "                          COUNT(book_id) ratings\n",
    "                   FROM ratings \n",
    "                   GROUP BY book_id)\n",
    "            SELECT author,\n",
    "                   AVG(avg_rating)\n",
    "            FROM books b JOIN authors a ON b.author_id=a.author_id JOIN r ON r.book_id=b.book_id\n",
    "            WHERE ratings>=50\n",
    "            GROUP BY a.author_id, author\n",
    "            ORDER BY AVG(avg_rating) DESC \n",
    "            LIMIT 1\n",
    "           \n",
    "        '''\n",
    "pd.io.sql.read_sql(query, con = engine) "
   ]
  },
  {
   "cell_type": "markdown",
   "id": "6881dae7",
   "metadata": {},
   "source": [
    "Автор с самой высокой средней оценкой книг — J.K. Rowling/Mary GrandPré.\n",
    "\n",
    "### Cреднее количество обзоров от пользователей, которые поставили больше 50 оценок."
   ]
  },
  {
   "cell_type": "code",
   "execution_count": 19,
   "id": "c744e7bf",
   "metadata": {},
   "outputs": [
    {
     "data": {
      "text/html": [
       "<div>\n",
       "<style scoped>\n",
       "    .dataframe tbody tr th:only-of-type {\n",
       "        vertical-align: middle;\n",
       "    }\n",
       "\n",
       "    .dataframe tbody tr th {\n",
       "        vertical-align: top;\n",
       "    }\n",
       "\n",
       "    .dataframe thead th {\n",
       "        text-align: right;\n",
       "    }\n",
       "</style>\n",
       "<table border=\"1\" class=\"dataframe\">\n",
       "  <thead>\n",
       "    <tr style=\"text-align: right;\">\n",
       "      <th></th>\n",
       "      <th>round</th>\n",
       "    </tr>\n",
       "  </thead>\n",
       "  <tbody>\n",
       "    <tr>\n",
       "      <th>0</th>\n",
       "      <td>24.0</td>\n",
       "    </tr>\n",
       "  </tbody>\n",
       "</table>\n",
       "</div>"
      ],
      "text/plain": [
       "   round\n",
       "0   24.0"
      ]
     },
     "execution_count": 19,
     "metadata": {},
     "output_type": "execute_result"
    }
   ],
   "source": [
    "query = '''     \n",
    "         WITH rat AS (\n",
    "                      SELECT username,\n",
    "                             COUNT(rating_id) AS ratings\n",
    "                      FROM ratings\n",
    "                      GROUP BY username),\n",
    "              rew AS (SELECT COUNT(review_id) AS reviews\n",
    "                      FROM reviews AS rev RIGHT JOIN rat ON rev.username=rat.username\n",
    "                      WHERE ratings>50 \n",
    "                      GROUP BY rat.username)\n",
    "          SELECT ROUND(AVG(reviews))\n",
    "          FROM rew\n",
    "        '''\n",
    "pd.io.sql.read_sql(query, con = engine) "
   ]
  },
  {
   "cell_type": "markdown",
   "id": "b5933984",
   "metadata": {},
   "source": [
    " Cреднее количество обзоров от пользователей, которые поставили больше 50 оценок 24.33.\n",
    " \n",
    " ## Выводы\n",
    " \n",
    " Мы проанализировали базу данных крупного сервиса для чтения книг по подписке, и выяснили, что:\n",
    " - После 1 января 2000 года вышло 819 книг.\n",
    " - На большинство книг до 10 обзоров, но есть немного супер популярных книг на которые от 200 до 1000 обзоров.\n",
    " - Больше всего книг со средней оценкой 4.\n",
    " - Больше всего книг толще 50 страниц выпустило издательство Penguin Books.\n",
    " - Автор с самой высокой средней оценкой книг — J.K. Rowling/Mary GrandPré.\n",
    " - Cреднее количество обзоров от пользователей, которые поставили больше 50 оценок 24.33.\n",
    " \n",
    " "
   ]
  },
  {
   "cell_type": "code",
   "execution_count": null,
   "id": "b0b12df8",
   "metadata": {},
   "outputs": [],
   "source": []
  }
 ],
 "metadata": {
  "ExecuteTimeLog": [
   {
    "duration": 1357,
    "start_time": "2023-03-06T07:20:23.528Z"
   },
   {
    "duration": 9494,
    "start_time": "2023-03-06T07:20:24.887Z"
   },
   {
    "duration": 245,
    "start_time": "2023-03-06T07:20:34.383Z"
   },
   {
    "duration": 69,
    "start_time": "2023-03-06T07:20:34.630Z"
   },
   {
    "duration": 68,
    "start_time": "2023-03-06T07:20:34.701Z"
   },
   {
    "duration": 69,
    "start_time": "2023-03-06T07:20:34.771Z"
   },
   {
    "duration": 72,
    "start_time": "2023-03-06T07:20:34.842Z"
   },
   {
    "duration": 72,
    "start_time": "2023-03-06T07:20:34.916Z"
   },
   {
    "duration": 93,
    "start_time": "2023-03-06T07:20:34.989Z"
   },
   {
    "duration": 228,
    "start_time": "2023-03-06T07:20:35.084Z"
   },
   {
    "duration": 228,
    "start_time": "2023-03-06T07:20:35.314Z"
   },
   {
    "duration": 72,
    "start_time": "2023-03-06T07:20:35.543Z"
   },
   {
    "duration": 74,
    "start_time": "2023-03-06T07:20:35.616Z"
   },
   {
    "duration": 73,
    "start_time": "2023-03-06T07:20:35.691Z"
   },
   {
    "duration": 82,
    "start_time": "2023-03-06T07:30:42.266Z"
   },
   {
    "duration": 72,
    "start_time": "2023-03-06T07:31:10.789Z"
   },
   {
    "duration": 101,
    "start_time": "2023-03-06T07:31:32.720Z"
   },
   {
    "duration": 75,
    "start_time": "2023-03-06T07:32:09.231Z"
   },
   {
    "duration": 86,
    "start_time": "2023-03-06T07:32:17.326Z"
   },
   {
    "duration": 82,
    "start_time": "2023-03-06T07:32:50.371Z"
   },
   {
    "duration": 211,
    "start_time": "2023-03-06T07:33:29.966Z"
   },
   {
    "duration": 133,
    "start_time": "2023-03-06T07:33:39.006Z"
   },
   {
    "duration": 133,
    "start_time": "2023-03-06T07:34:23.049Z"
   },
   {
    "duration": 131,
    "start_time": "2023-03-06T07:34:31.220Z"
   },
   {
    "duration": 91,
    "start_time": "2023-03-06T07:34:38.619Z"
   },
   {
    "duration": 99,
    "start_time": "2023-03-06T07:39:02.345Z"
   },
   {
    "duration": 7,
    "start_time": "2023-03-06T07:41:08.103Z"
   },
   {
    "duration": 7,
    "start_time": "2023-03-06T07:41:36.242Z"
   },
   {
    "duration": 5,
    "start_time": "2023-03-06T07:42:03.594Z"
   },
   {
    "duration": 9,
    "start_time": "2023-03-06T07:42:26.224Z"
   },
   {
    "duration": 8,
    "start_time": "2023-03-06T07:43:05.204Z"
   },
   {
    "duration": 72,
    "start_time": "2023-03-06T07:51:22.380Z"
   },
   {
    "duration": 176,
    "start_time": "2023-03-06T07:52:28.803Z"
   },
   {
    "duration": 291,
    "start_time": "2023-03-06T07:52:43.185Z"
   },
   {
    "duration": 175,
    "start_time": "2023-03-06T07:54:24.443Z"
   },
   {
    "duration": 156,
    "start_time": "2023-03-06T07:54:37.900Z"
   },
   {
    "duration": 77,
    "start_time": "2023-03-06T07:55:29.287Z"
   },
   {
    "duration": 167,
    "start_time": "2023-03-06T07:57:15.085Z"
   },
   {
    "duration": 80,
    "start_time": "2023-03-06T07:57:35.783Z"
   },
   {
    "duration": 159,
    "start_time": "2023-03-06T07:57:50.151Z"
   },
   {
    "duration": 81,
    "start_time": "2023-03-06T07:58:07.051Z"
   },
   {
    "duration": 79,
    "start_time": "2023-03-06T07:58:20.734Z"
   },
   {
    "duration": 155,
    "start_time": "2023-03-06T07:58:59.879Z"
   },
   {
    "duration": 148,
    "start_time": "2023-03-06T07:59:07.525Z"
   },
   {
    "duration": 87,
    "start_time": "2023-03-06T07:59:41.537Z"
   },
   {
    "duration": 181,
    "start_time": "2023-03-06T08:00:36.387Z"
   },
   {
    "duration": 163,
    "start_time": "2023-03-06T08:00:59.021Z"
   },
   {
    "duration": 71,
    "start_time": "2023-03-06T08:01:19.531Z"
   },
   {
    "duration": 155,
    "start_time": "2023-03-06T08:02:56.779Z"
   },
   {
    "duration": 88,
    "start_time": "2023-03-06T08:03:11.916Z"
   },
   {
    "duration": 346,
    "start_time": "2023-03-06T12:44:31.708Z"
   },
   {
    "duration": 103,
    "start_time": "2023-03-06T12:45:22.319Z"
   },
   {
    "duration": 106,
    "start_time": "2023-03-06T12:45:43.101Z"
   },
   {
    "duration": 201,
    "start_time": "2023-03-06T12:46:51.645Z"
   },
   {
    "duration": 108,
    "start_time": "2023-03-06T12:47:03.522Z"
   },
   {
    "duration": 99,
    "start_time": "2023-03-06T12:56:45.890Z"
   },
   {
    "duration": 102,
    "start_time": "2023-03-06T12:57:37.029Z"
   },
   {
    "duration": 117,
    "start_time": "2023-03-06T12:58:25.997Z"
   },
   {
    "duration": 209,
    "start_time": "2023-03-06T12:59:59.761Z"
   },
   {
    "duration": 111,
    "start_time": "2023-03-06T13:00:19.929Z"
   },
   {
    "duration": 119,
    "start_time": "2023-03-06T13:00:45.341Z"
   },
   {
    "duration": 125,
    "start_time": "2023-03-06T13:01:30.684Z"
   },
   {
    "duration": 230,
    "start_time": "2023-03-06T13:01:47.771Z"
   },
   {
    "duration": 214,
    "start_time": "2023-03-06T13:01:53.576Z"
   },
   {
    "duration": 1306,
    "start_time": "2023-03-06T13:03:13.711Z"
   },
   {
    "duration": 13629,
    "start_time": "2023-03-06T13:03:15.019Z"
   },
   {
    "duration": 380,
    "start_time": "2023-03-06T13:03:28.657Z"
   },
   {
    "duration": 105,
    "start_time": "2023-03-06T13:03:29.039Z"
   },
   {
    "duration": 85,
    "start_time": "2023-03-06T13:03:29.146Z"
   },
   {
    "duration": 143,
    "start_time": "2023-03-06T13:03:29.233Z"
   },
   {
    "duration": 113,
    "start_time": "2023-03-06T13:03:29.377Z"
   },
   {
    "duration": 8,
    "start_time": "2023-03-06T13:03:29.493Z"
   },
   {
    "duration": 9,
    "start_time": "2023-03-06T13:03:29.503Z"
   },
   {
    "duration": 6,
    "start_time": "2023-03-06T13:03:29.515Z"
   },
   {
    "duration": 21,
    "start_time": "2023-03-06T13:03:29.524Z"
   },
   {
    "duration": 29,
    "start_time": "2023-03-06T13:03:29.547Z"
   },
   {
    "duration": 97,
    "start_time": "2023-03-06T13:03:29.577Z"
   },
   {
    "duration": 107,
    "start_time": "2023-03-06T13:03:29.676Z"
   },
   {
    "duration": 217,
    "start_time": "2023-03-06T13:03:29.784Z"
   },
   {
    "duration": 295,
    "start_time": "2023-03-06T13:03:30.002Z"
   },
   {
    "duration": 101,
    "start_time": "2023-03-06T13:03:30.299Z"
   },
   {
    "duration": 98,
    "start_time": "2023-03-06T13:03:30.402Z"
   },
   {
    "duration": 94,
    "start_time": "2023-03-06T13:03:30.501Z"
   }
  ],
  "kernelspec": {
   "display_name": "Python 3 (ipykernel)",
   "language": "python",
   "name": "python3"
  },
  "language_info": {
   "codemirror_mode": {
    "name": "ipython",
    "version": 3
   },
   "file_extension": ".py",
   "mimetype": "text/x-python",
   "name": "python",
   "nbconvert_exporter": "python",
   "pygments_lexer": "ipython3",
   "version": "3.9.5"
  },
  "toc": {
   "base_numbering": 1,
   "nav_menu": {},
   "number_sections": true,
   "sideBar": true,
   "skip_h1_title": false,
   "title_cell": "Содержание",
   "title_sidebar": "Contents",
   "toc_cell": true,
   "toc_position": {
    "height": "calc(100% - 180px)",
    "left": "10px",
    "top": "150px",
    "width": "165px"
   },
   "toc_section_display": true,
   "toc_window_display": true
  }
 },
 "nbformat": 4,
 "nbformat_minor": 5
}
