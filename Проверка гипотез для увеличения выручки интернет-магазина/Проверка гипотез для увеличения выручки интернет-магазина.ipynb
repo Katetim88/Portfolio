{
 "cells": [
  {
   "cell_type": "markdown",
   "metadata": {
    "toc": true
   },
   "source": [
    "<h1>Содержание<span class=\"tocSkip\"></span></h1>\n",
    "<div class=\"toc\"><ul class=\"toc-item\"><li><span><a href=\"#Приоритизация-гипотез\" data-toc-modified-id=\"Приоритизация-гипотез-1\"><span class=\"toc-item-num\">1&nbsp;&nbsp;</span>Приоритизация гипотез</a></span><ul class=\"toc-item\"><li><span><a href=\"#Приоритизация-гипотез-при-помощи-фреймворка-ICE\" data-toc-modified-id=\"Приоритизация-гипотез-при-помощи-фреймворка-ICE-1.1\"><span class=\"toc-item-num\">1.1&nbsp;&nbsp;</span>Приоритизация гипотез при помощи фреймворка ICE</a></span></li><li><span><a href=\"#Приоритизация-гипотез-при-помощи-фреймворка-RICE\" data-toc-modified-id=\"Приоритизация-гипотез-при-помощи-фреймворка-RICE-1.2\"><span class=\"toc-item-num\">1.2&nbsp;&nbsp;</span>Приоритизация гипотез при помощи фреймворка RICE</a></span></li></ul></li><li><span><a href=\"#Анализ-A/B-теста\" data-toc-modified-id=\"Анализ-A/B-теста-2\"><span class=\"toc-item-num\">2&nbsp;&nbsp;</span>Анализ A/B-теста</a></span><ul class=\"toc-item\"><li><span><a href=\"#Предобработка-данных\" data-toc-modified-id=\"Предобработка-данных-2.1\"><span class=\"toc-item-num\">2.1&nbsp;&nbsp;</span>Предобработка данных</a></span></li><li><span><a href=\"#График-кумулятивной-выручки-по-группам.\" data-toc-modified-id=\"График-кумулятивной-выручки-по-группам.-2.2\"><span class=\"toc-item-num\">2.2&nbsp;&nbsp;</span>График кумулятивной выручки по группам.</a></span></li><li><span><a href=\"#График-кумулятивного-среднего-чека-по-группам\" data-toc-modified-id=\"График-кумулятивного-среднего-чека-по-группам-2.3\"><span class=\"toc-item-num\">2.3&nbsp;&nbsp;</span>График кумулятивного среднего чека по группам</a></span></li><li><span><a href=\"#График-относительного-изменения-кумулятивного-среднего-чека-группы-B-к-группе-A\" data-toc-modified-id=\"График-относительного-изменения-кумулятивного-среднего-чека-группы-B-к-группе-A-2.4\"><span class=\"toc-item-num\">2.4&nbsp;&nbsp;</span>График относительного изменения кумулятивного среднего чека группы B к группе A</a></span></li><li><span><a href=\"#График-кумулятивного-среднего-количества-заказов-на-посетителя-по-группам\" data-toc-modified-id=\"График-кумулятивного-среднего-количества-заказов-на-посетителя-по-группам-2.5\"><span class=\"toc-item-num\">2.5&nbsp;&nbsp;</span>График кумулятивного среднего количества заказов на посетителя по группам</a></span></li><li><span><a href=\"#График-относительного-изменения-кумулятивного-среднего-количества-заказов-на-посетителя-группы-B-к-группе-A.\" data-toc-modified-id=\"График-относительного-изменения-кумулятивного-среднего-количества-заказов-на-посетителя-группы-B-к-группе-A.-2.6\"><span class=\"toc-item-num\">2.6&nbsp;&nbsp;</span>График относительного изменения кумулятивного среднего количества заказов на посетителя группы B к группе A.</a></span></li><li><span><a href=\"#Точечный-график-количества-заказов-по-пользователям\" data-toc-modified-id=\"Точечный-график-количества-заказов-по-пользователям-2.7\"><span class=\"toc-item-num\">2.7&nbsp;&nbsp;</span>Точечный график количества заказов по пользователям</a></span></li><li><span><a href=\"#Анализ-95-й-и-99-й-перцентили-количества-заказов-на-пользователя.\" data-toc-modified-id=\"Анализ-95-й-и-99-й-перцентили-количества-заказов-на-пользователя.-2.8\"><span class=\"toc-item-num\">2.8&nbsp;&nbsp;</span>Анализ 95-й и 99-й перцентили количества заказов на пользователя.</a></span></li><li><span><a href=\"#Точечный-график-стоимостей-заказов\" data-toc-modified-id=\"Точечный-график-стоимостей-заказов-2.9\"><span class=\"toc-item-num\">2.9&nbsp;&nbsp;</span>Точечный график стоимостей заказов</a></span></li><li><span><a href=\"#Анализ-95-й-и-99-й-перцентили-стоимости-заказов\" data-toc-modified-id=\"Анализ-95-й-и-99-й-перцентили-стоимости-заказов-2.10\"><span class=\"toc-item-num\">2.10&nbsp;&nbsp;</span>Анализ 95-й и 99-й перцентили стоимости заказов</a></span></li><li><span><a href=\"#Расчет-статистической-значимости-различий-в-среднем-количестве-заказов-на-посетителя-между-группами-по-«сырым»-данным\" data-toc-modified-id=\"Расчет-статистической-значимости-различий-в-среднем-количестве-заказов-на-посетителя-между-группами-по-«сырым»-данным-2.11\"><span class=\"toc-item-num\">2.11&nbsp;&nbsp;</span>Расчет статистической значимости различий в среднем количестве заказов на посетителя между группами по «сырым» данным</a></span></li><li><span><a href=\"#Анализ-статистической-значимости-различий-в-среднем-чеке-заказа-между-группами-по-«сырым»-данным\" data-toc-modified-id=\"Анализ-статистической-значимости-различий-в-среднем-чеке-заказа-между-группами-по-«сырым»-данным-2.12\"><span class=\"toc-item-num\">2.12&nbsp;&nbsp;</span>Анализ статистической значимости различий в среднем чеке заказа между группами по «сырым» данным</a></span></li><li><span><a href=\"#Анализ-статистической-значимости-различий-в-среднем-количестве-заказов-на-посетителя-между-группами-по-«очищенным»-данным\" data-toc-modified-id=\"Анализ-статистической-значимости-различий-в-среднем-количестве-заказов-на-посетителя-между-группами-по-«очищенным»-данным-2.13\"><span class=\"toc-item-num\">2.13&nbsp;&nbsp;</span>Анализ статистической значимости различий в среднем количестве заказов на посетителя между группами по «очищенным» данным</a></span></li><li><span><a href=\"#Анализ-статистической-значимости-различий-в-среднем-чеке-заказа-между-группами-по-«очищенным»-данным\" data-toc-modified-id=\"Анализ-статистической-значимости-различий-в-среднем-чеке-заказа-между-группами-по-«очищенным»-данным-2.14\"><span class=\"toc-item-num\">2.14&nbsp;&nbsp;</span>Анализ статистической значимости различий в среднем чеке заказа между группами по «очищенным» данным</a></span></li><li><span><a href=\"#Решение-по-результатам-А/В-теста\" data-toc-modified-id=\"Решение-по-результатам-А/В-теста-2.15\"><span class=\"toc-item-num\">2.15&nbsp;&nbsp;</span>Решение по результатам А/В-теста</a></span></li></ul></li><li><span><a href=\"#Выводы\" data-toc-modified-id=\"Выводы-3\"><span class=\"toc-item-num\">3&nbsp;&nbsp;</span>Выводы</a></span></li></ul></div>"
   ]
  },
  {
   "cell_type": "markdown",
   "metadata": {},
   "source": [
    "# Проверка гипотез для увеличения выручки интернет-магазина\n",
    "\n",
    "В нашем распоряжении данные крупного интернет-магазина. Вместе с отделом маркетинга был подготовлен список гипотез для увеличения выручки.\n",
    "\n",
    "Цель проекта понять применение какой из гипотез приведет к увеличению выручки.\n",
    "\n",
    "В ходе исследования мы проведем приоритизацию гипотез с целью определить гипотезу, воплощение которой в жизнь будет иметь наибольший эффект. Затем мы проанализируем А/В-тест этой гипотезы и сделаем выводы о целесообразности ее применения. \n",
    "Таким образом исследование пройдет такие этапы:\n",
    "\n",
    " - приоритизация гипотез\n",
    " - анализ А/В теста\n",
    " - выводы\n",
    " \n",
    " Для приоритизации гипотез будем использовать фреймворки ICE и RICE. Фреймворк ICE состоит из трех компонент:\n",
    "Impact — насколько сильно изменение повлияет на пользователей, их опыт и удовлетворение от продукта;\n",
    "Confidence — насколько вы уверены, что это изменение повлияет на пользователей именно так; \n",
    "Efforts — сколько стоит протестировать эту гипотезу. Фреймворк RICE помимо этих трех компонентов учитывает так же параметр Reach — скольких пользователей затронет изменение, которое вы хотите внести.\n",
    " \n",
    "- Структура /datasets/hypothesis.csv\n",
    "  - Hypothesis — краткое описание гипотезы;\n",
    "  - Reach — охват пользователей по 10-балльной шкале;\n",
    "  - Impact — влияние на пользователей по 10-балльной шкале;\n",
    "  - Confidence — уверенность в гипотезе по 10-балльной шкале;\n",
    "  - Efforts — затраты ресурсов на проверку гипотезы по 10-балльной шкале. \n",
    "- Структура /datasets/orders.csv\n",
    "  - transactionId — идентификатор заказа;\n",
    "  - visitorId — идентификатор пользователя, совершившего заказ;\n",
    "  - date — дата, когда был совершён заказ;\n",
    "  - revenue — выручка заказа;\n",
    "  - group — группа A/B-теста, в которую попал заказ.\n",
    "- Структура /datasets/visitors.csv  \n",
    "  - date — дата;\n",
    "  - group — группа A/B-теста;\n",
    "  - visitors — количество пользователей в указанную дату в указанной группе A/B-теста"
   ]
  },
  {
   "cell_type": "markdown",
   "metadata": {},
   "source": [
    "## Приоритизация гипотез"
   ]
  },
  {
   "cell_type": "code",
   "execution_count": 1,
   "metadata": {},
   "outputs": [],
   "source": [
    "import pandas as pd\n",
    "import datetime as dt\n",
    "import numpy as np\n",
    "import matplotlib.pyplot as plt\n",
    "import scipy.stats as stats\n",
    "from IPython.display import display"
   ]
  },
  {
   "cell_type": "code",
   "execution_count": 2,
   "metadata": {},
   "outputs": [
    {
     "data": {
      "text/html": [
       "<div>\n",
       "<style scoped>\n",
       "    .dataframe tbody tr th:only-of-type {\n",
       "        vertical-align: middle;\n",
       "    }\n",
       "\n",
       "    .dataframe tbody tr th {\n",
       "        vertical-align: top;\n",
       "    }\n",
       "\n",
       "    .dataframe thead th {\n",
       "        text-align: right;\n",
       "    }\n",
       "</style>\n",
       "<table border=\"1\" class=\"dataframe\">\n",
       "  <thead>\n",
       "    <tr style=\"text-align: right;\">\n",
       "      <th></th>\n",
       "      <th>Hypothesis</th>\n",
       "      <th>Reach</th>\n",
       "      <th>Impact</th>\n",
       "      <th>Confidence</th>\n",
       "      <th>Efforts</th>\n",
       "    </tr>\n",
       "  </thead>\n",
       "  <tbody>\n",
       "    <tr>\n",
       "      <th>0</th>\n",
       "      <td>Добавить два новых канала привлечения трафика, что позволит привлекать на 30% больше пользователей</td>\n",
       "      <td>3</td>\n",
       "      <td>10</td>\n",
       "      <td>8</td>\n",
       "      <td>6</td>\n",
       "    </tr>\n",
       "    <tr>\n",
       "      <th>1</th>\n",
       "      <td>Запустить собственную службу доставки, что сократит срок доставки заказов</td>\n",
       "      <td>2</td>\n",
       "      <td>5</td>\n",
       "      <td>4</td>\n",
       "      <td>10</td>\n",
       "    </tr>\n",
       "    <tr>\n",
       "      <th>2</th>\n",
       "      <td>Добавить блоки рекомендаций товаров на сайт интернет магазина, чтобы повысить конверсию и средний чек заказа</td>\n",
       "      <td>8</td>\n",
       "      <td>3</td>\n",
       "      <td>7</td>\n",
       "      <td>3</td>\n",
       "    </tr>\n",
       "    <tr>\n",
       "      <th>3</th>\n",
       "      <td>Изменить структура категорий, что увеличит конверсию, т.к. пользователи быстрее найдут нужный товар</td>\n",
       "      <td>8</td>\n",
       "      <td>3</td>\n",
       "      <td>3</td>\n",
       "      <td>8</td>\n",
       "    </tr>\n",
       "    <tr>\n",
       "      <th>4</th>\n",
       "      <td>Изменить цвет фона главной страницы, чтобы увеличить вовлеченность пользователей</td>\n",
       "      <td>3</td>\n",
       "      <td>1</td>\n",
       "      <td>1</td>\n",
       "      <td>1</td>\n",
       "    </tr>\n",
       "    <tr>\n",
       "      <th>5</th>\n",
       "      <td>Добавить страницу отзывов клиентов о магазине, что позволит увеличить количество заказов</td>\n",
       "      <td>3</td>\n",
       "      <td>2</td>\n",
       "      <td>2</td>\n",
       "      <td>3</td>\n",
       "    </tr>\n",
       "    <tr>\n",
       "      <th>6</th>\n",
       "      <td>Показать на главной странице баннеры с актуальными акциями и распродажами, чтобы увеличить конверсию</td>\n",
       "      <td>5</td>\n",
       "      <td>3</td>\n",
       "      <td>8</td>\n",
       "      <td>3</td>\n",
       "    </tr>\n",
       "    <tr>\n",
       "      <th>7</th>\n",
       "      <td>Добавить форму подписки на все основные страницы, чтобы собрать базу клиентов для email-рассылок</td>\n",
       "      <td>10</td>\n",
       "      <td>7</td>\n",
       "      <td>8</td>\n",
       "      <td>5</td>\n",
       "    </tr>\n",
       "    <tr>\n",
       "      <th>8</th>\n",
       "      <td>Запустить акцию, дающую скидку на товар в день рождения</td>\n",
       "      <td>1</td>\n",
       "      <td>9</td>\n",
       "      <td>9</td>\n",
       "      <td>5</td>\n",
       "    </tr>\n",
       "  </tbody>\n",
       "</table>\n",
       "</div>"
      ],
      "text/plain": [
       "                                                                                                     Hypothesis  \\\n",
       "0            Добавить два новых канала привлечения трафика, что позволит привлекать на 30% больше пользователей   \n",
       "1                                     Запустить собственную службу доставки, что сократит срок доставки заказов   \n",
       "2  Добавить блоки рекомендаций товаров на сайт интернет магазина, чтобы повысить конверсию и средний чек заказа   \n",
       "3           Изменить структура категорий, что увеличит конверсию, т.к. пользователи быстрее найдут нужный товар   \n",
       "4                              Изменить цвет фона главной страницы, чтобы увеличить вовлеченность пользователей   \n",
       "5                      Добавить страницу отзывов клиентов о магазине, что позволит увеличить количество заказов   \n",
       "6          Показать на главной странице баннеры с актуальными акциями и распродажами, чтобы увеличить конверсию   \n",
       "7              Добавить форму подписки на все основные страницы, чтобы собрать базу клиентов для email-рассылок   \n",
       "8                                                       Запустить акцию, дающую скидку на товар в день рождения   \n",
       "\n",
       "   Reach  Impact  Confidence  Efforts  \n",
       "0      3      10           8        6  \n",
       "1      2       5           4       10  \n",
       "2      8       3           7        3  \n",
       "3      8       3           3        8  \n",
       "4      3       1           1        1  \n",
       "5      3       2           2        3  \n",
       "6      5       3           8        3  \n",
       "7     10       7           8        5  \n",
       "8      1       9           9        5  "
      ]
     },
     "metadata": {},
     "output_type": "display_data"
    }
   ],
   "source": [
    "hypothesis = pd.read_csv('/datasets/hypothesis.csv', sep=',')\n",
    "pd.options.display.max_colwidth = 110\n",
    "display(hypothesis)"
   ]
  },
  {
   "cell_type": "code",
   "execution_count": 3,
   "metadata": {},
   "outputs": [],
   "source": [
    "# приведем названия столбцов к нижнему регистру\n",
    "hypothesis.columns = hypothesis.columns.str.lower()"
   ]
  },
  {
   "cell_type": "markdown",
   "metadata": {},
   "source": [
    "### Приоритизация гипотез при помощи фреймворка ICE"
   ]
  },
  {
   "cell_type": "code",
   "execution_count": 4,
   "metadata": {},
   "outputs": [
    {
     "data": {
      "text/html": [
       "<div>\n",
       "<style scoped>\n",
       "    .dataframe tbody tr th:only-of-type {\n",
       "        vertical-align: middle;\n",
       "    }\n",
       "\n",
       "    .dataframe tbody tr th {\n",
       "        vertical-align: top;\n",
       "    }\n",
       "\n",
       "    .dataframe thead th {\n",
       "        text-align: right;\n",
       "    }\n",
       "</style>\n",
       "<table border=\"1\" class=\"dataframe\">\n",
       "  <thead>\n",
       "    <tr style=\"text-align: right;\">\n",
       "      <th></th>\n",
       "      <th>hypothesis</th>\n",
       "      <th>ICE</th>\n",
       "    </tr>\n",
       "  </thead>\n",
       "  <tbody>\n",
       "    <tr>\n",
       "      <th>8</th>\n",
       "      <td>Запустить акцию, дающую скидку на товар в день рождения</td>\n",
       "      <td>16.20</td>\n",
       "    </tr>\n",
       "    <tr>\n",
       "      <th>0</th>\n",
       "      <td>Добавить два новых канала привлечения трафика, что позволит привлекать на 30% больше пользователей</td>\n",
       "      <td>13.33</td>\n",
       "    </tr>\n",
       "    <tr>\n",
       "      <th>7</th>\n",
       "      <td>Добавить форму подписки на все основные страницы, чтобы собрать базу клиентов для email-рассылок</td>\n",
       "      <td>11.20</td>\n",
       "    </tr>\n",
       "    <tr>\n",
       "      <th>6</th>\n",
       "      <td>Показать на главной странице баннеры с актуальными акциями и распродажами, чтобы увеличить конверсию</td>\n",
       "      <td>8.00</td>\n",
       "    </tr>\n",
       "    <tr>\n",
       "      <th>2</th>\n",
       "      <td>Добавить блоки рекомендаций товаров на сайт интернет магазина, чтобы повысить конверсию и средний чек заказа</td>\n",
       "      <td>7.00</td>\n",
       "    </tr>\n",
       "    <tr>\n",
       "      <th>1</th>\n",
       "      <td>Запустить собственную службу доставки, что сократит срок доставки заказов</td>\n",
       "      <td>2.00</td>\n",
       "    </tr>\n",
       "    <tr>\n",
       "      <th>5</th>\n",
       "      <td>Добавить страницу отзывов клиентов о магазине, что позволит увеличить количество заказов</td>\n",
       "      <td>1.33</td>\n",
       "    </tr>\n",
       "    <tr>\n",
       "      <th>3</th>\n",
       "      <td>Изменить структура категорий, что увеличит конверсию, т.к. пользователи быстрее найдут нужный товар</td>\n",
       "      <td>1.12</td>\n",
       "    </tr>\n",
       "    <tr>\n",
       "      <th>4</th>\n",
       "      <td>Изменить цвет фона главной страницы, чтобы увеличить вовлеченность пользователей</td>\n",
       "      <td>1.00</td>\n",
       "    </tr>\n",
       "  </tbody>\n",
       "</table>\n",
       "</div>"
      ],
      "text/plain": [
       "                                                                                                     hypothesis  \\\n",
       "8                                                       Запустить акцию, дающую скидку на товар в день рождения   \n",
       "0            Добавить два новых канала привлечения трафика, что позволит привлекать на 30% больше пользователей   \n",
       "7              Добавить форму подписки на все основные страницы, чтобы собрать базу клиентов для email-рассылок   \n",
       "6          Показать на главной странице баннеры с актуальными акциями и распродажами, чтобы увеличить конверсию   \n",
       "2  Добавить блоки рекомендаций товаров на сайт интернет магазина, чтобы повысить конверсию и средний чек заказа   \n",
       "1                                     Запустить собственную службу доставки, что сократит срок доставки заказов   \n",
       "5                      Добавить страницу отзывов клиентов о магазине, что позволит увеличить количество заказов   \n",
       "3           Изменить структура категорий, что увеличит конверсию, т.к. пользователи быстрее найдут нужный товар   \n",
       "4                              Изменить цвет фона главной страницы, чтобы увеличить вовлеченность пользователей   \n",
       "\n",
       "     ICE  \n",
       "8  16.20  \n",
       "0  13.33  \n",
       "7  11.20  \n",
       "6   8.00  \n",
       "2   7.00  \n",
       "1   2.00  \n",
       "5   1.33  \n",
       "3   1.12  \n",
       "4   1.00  "
      ]
     },
     "metadata": {},
     "output_type": "display_data"
    }
   ],
   "source": [
    "hypothesis['ICE']=round((hypothesis['impact']*hypothesis['confidence'])/hypothesis['efforts'],2)\n",
    "display(hypothesis[['hypothesis','ICE']].sort_values(by='ICE', ascending=False))"
   ]
  },
  {
   "cell_type": "markdown",
   "metadata": {},
   "source": [
    "Наиболее перспективные гипотезы по ICE: 8.Запустить акцию, дающую скидку на товар в день рождения, 0.Добавить два новых канала привлечения трафика, что позволит привлекать на 30% больше пользователей, 7.Добавить форму подписки на все основные страницы, чтобы собрать базу клиентов для email-рассылок, 6.Показать на главной странице баннеры с актуальными акциями и распродажами, чтобы увеличить конверсию. Посмотрим какие результаты даст фреймворк RICE\n",
    "\n",
    "### Приоритизация гипотез при помощи фреймворка RICE"
   ]
  },
  {
   "cell_type": "code",
   "execution_count": 5,
   "metadata": {},
   "outputs": [
    {
     "data": {
      "text/html": [
       "<div>\n",
       "<style scoped>\n",
       "    .dataframe tbody tr th:only-of-type {\n",
       "        vertical-align: middle;\n",
       "    }\n",
       "\n",
       "    .dataframe tbody tr th {\n",
       "        vertical-align: top;\n",
       "    }\n",
       "\n",
       "    .dataframe thead th {\n",
       "        text-align: right;\n",
       "    }\n",
       "</style>\n",
       "<table border=\"1\" class=\"dataframe\">\n",
       "  <thead>\n",
       "    <tr style=\"text-align: right;\">\n",
       "      <th></th>\n",
       "      <th>hypothesis</th>\n",
       "      <th>RICE</th>\n",
       "    </tr>\n",
       "  </thead>\n",
       "  <tbody>\n",
       "    <tr>\n",
       "      <th>7</th>\n",
       "      <td>Добавить форму подписки на все основные страницы, чтобы собрать базу клиентов для email-рассылок</td>\n",
       "      <td>112.0</td>\n",
       "    </tr>\n",
       "    <tr>\n",
       "      <th>2</th>\n",
       "      <td>Добавить блоки рекомендаций товаров на сайт интернет магазина, чтобы повысить конверсию и средний чек заказа</td>\n",
       "      <td>56.0</td>\n",
       "    </tr>\n",
       "    <tr>\n",
       "      <th>0</th>\n",
       "      <td>Добавить два новых канала привлечения трафика, что позволит привлекать на 30% больше пользователей</td>\n",
       "      <td>40.0</td>\n",
       "    </tr>\n",
       "    <tr>\n",
       "      <th>6</th>\n",
       "      <td>Показать на главной странице баннеры с актуальными акциями и распродажами, чтобы увеличить конверсию</td>\n",
       "      <td>40.0</td>\n",
       "    </tr>\n",
       "    <tr>\n",
       "      <th>8</th>\n",
       "      <td>Запустить акцию, дающую скидку на товар в день рождения</td>\n",
       "      <td>16.2</td>\n",
       "    </tr>\n",
       "    <tr>\n",
       "      <th>3</th>\n",
       "      <td>Изменить структура категорий, что увеличит конверсию, т.к. пользователи быстрее найдут нужный товар</td>\n",
       "      <td>9.0</td>\n",
       "    </tr>\n",
       "    <tr>\n",
       "      <th>1</th>\n",
       "      <td>Запустить собственную службу доставки, что сократит срок доставки заказов</td>\n",
       "      <td>4.0</td>\n",
       "    </tr>\n",
       "    <tr>\n",
       "      <th>5</th>\n",
       "      <td>Добавить страницу отзывов клиентов о магазине, что позволит увеличить количество заказов</td>\n",
       "      <td>4.0</td>\n",
       "    </tr>\n",
       "    <tr>\n",
       "      <th>4</th>\n",
       "      <td>Изменить цвет фона главной страницы, чтобы увеличить вовлеченность пользователей</td>\n",
       "      <td>3.0</td>\n",
       "    </tr>\n",
       "  </tbody>\n",
       "</table>\n",
       "</div>"
      ],
      "text/plain": [
       "                                                                                                     hypothesis  \\\n",
       "7              Добавить форму подписки на все основные страницы, чтобы собрать базу клиентов для email-рассылок   \n",
       "2  Добавить блоки рекомендаций товаров на сайт интернет магазина, чтобы повысить конверсию и средний чек заказа   \n",
       "0            Добавить два новых канала привлечения трафика, что позволит привлекать на 30% больше пользователей   \n",
       "6          Показать на главной странице баннеры с актуальными акциями и распродажами, чтобы увеличить конверсию   \n",
       "8                                                       Запустить акцию, дающую скидку на товар в день рождения   \n",
       "3           Изменить структура категорий, что увеличит конверсию, т.к. пользователи быстрее найдут нужный товар   \n",
       "1                                     Запустить собственную службу доставки, что сократит срок доставки заказов   \n",
       "5                      Добавить страницу отзывов клиентов о магазине, что позволит увеличить количество заказов   \n",
       "4                              Изменить цвет фона главной страницы, чтобы увеличить вовлеченность пользователей   \n",
       "\n",
       "    RICE  \n",
       "7  112.0  \n",
       "2   56.0  \n",
       "0   40.0  \n",
       "6   40.0  \n",
       "8   16.2  \n",
       "3    9.0  \n",
       "1    4.0  \n",
       "5    4.0  \n",
       "4    3.0  "
      ]
     },
     "metadata": {},
     "output_type": "display_data"
    }
   ],
   "source": [
    "hypothesis['RICE']=(hypothesis['reach']*hypothesis['impact']*hypothesis['confidence'])/hypothesis['efforts']\n",
    "display(hypothesis[['hypothesis','RICE']].sort_values(by='RICE', ascending=False))"
   ]
  },
  {
   "cell_type": "markdown",
   "metadata": {},
   "source": [
    "Наиболее перспективные гипотезы по RICE: 7.Добавить форму подписки на все основные страницы, чтобы собрать базу клиентов для email-рассылок\t, 2.Добавить блоки рекомендаций товаров на сайт интернет магазина, чтобы повысить конверсию и средний чек заказа, 0.Добавить два новых канала привлечения трафика, что позволит привлекать на 30% больше пользователей, 6.Показать на главной странице баннеры с актуальными акциями и распродажами, чтобы увеличить конверсию.\t Гипотеза 8.Запустить акцию, дающую скидку на товар в день рождения, которая лидирует по ICE, по RICE находится на 5 месте, зато гипотеза 7.Добавить форму подписки на все основные страницы, чтобы собрать базу клиентов для email-рассылок лидирует с большим отрывом. Так получилось потому что параметр Reach 7-й гипотезы равен 10, то есть она затронет всех пользователей интернет-магазина, у других гипотез этот параметр меньше. \n",
    "\n",
    "На основании фреймворков ICE и RICE можно сделать вывод, что наиболее приоритетной является гипотеза номер 7.Добавить форму подписки на все основные страницы, чтобы собрать базу клиентов для email-рассылок\n",
    "\n",
    "## Анализ A/B-теста\n",
    "\n",
    "### Предобработка данных"
   ]
  },
  {
   "cell_type": "code",
   "execution_count": 6,
   "metadata": {},
   "outputs": [],
   "source": [
    "orders, visitors = pd.read_csv('/datasets/orders.csv', sep=','), pd.read_csv('/datasets/visitors.csv', sep=',')"
   ]
  },
  {
   "cell_type": "code",
   "execution_count": 7,
   "metadata": {},
   "outputs": [
    {
     "name": "stdout",
     "output_type": "stream",
     "text": [
      "<class 'pandas.core.frame.DataFrame'>\n",
      "RangeIndex: 1197 entries, 0 to 1196\n",
      "Data columns (total 5 columns):\n",
      " #   Column         Non-Null Count  Dtype \n",
      "---  ------         --------------  ----- \n",
      " 0   transactionId  1197 non-null   int64 \n",
      " 1   visitorId      1197 non-null   int64 \n",
      " 2   date           1197 non-null   object\n",
      " 3   revenue        1197 non-null   int64 \n",
      " 4   group          1197 non-null   object\n",
      "dtypes: int64(3), object(2)\n",
      "memory usage: 46.9+ KB\n"
     ]
    }
   ],
   "source": [
    "orders.info()"
   ]
  },
  {
   "cell_type": "code",
   "execution_count": 8,
   "metadata": {},
   "outputs": [
    {
     "data": {
      "text/html": [
       "<div>\n",
       "<style scoped>\n",
       "    .dataframe tbody tr th:only-of-type {\n",
       "        vertical-align: middle;\n",
       "    }\n",
       "\n",
       "    .dataframe tbody tr th {\n",
       "        vertical-align: top;\n",
       "    }\n",
       "\n",
       "    .dataframe thead th {\n",
       "        text-align: right;\n",
       "    }\n",
       "</style>\n",
       "<table border=\"1\" class=\"dataframe\">\n",
       "  <thead>\n",
       "    <tr style=\"text-align: right;\">\n",
       "      <th></th>\n",
       "      <th>transactionId</th>\n",
       "      <th>visitorId</th>\n",
       "      <th>date</th>\n",
       "      <th>revenue</th>\n",
       "      <th>group</th>\n",
       "    </tr>\n",
       "  </thead>\n",
       "  <tbody>\n",
       "    <tr>\n",
       "      <th>0</th>\n",
       "      <td>3667963787</td>\n",
       "      <td>3312258926</td>\n",
       "      <td>2019-08-15</td>\n",
       "      <td>1650</td>\n",
       "      <td>B</td>\n",
       "    </tr>\n",
       "    <tr>\n",
       "      <th>1</th>\n",
       "      <td>2804400009</td>\n",
       "      <td>3642806036</td>\n",
       "      <td>2019-08-15</td>\n",
       "      <td>730</td>\n",
       "      <td>B</td>\n",
       "    </tr>\n",
       "    <tr>\n",
       "      <th>2</th>\n",
       "      <td>2961555356</td>\n",
       "      <td>4069496402</td>\n",
       "      <td>2019-08-15</td>\n",
       "      <td>400</td>\n",
       "      <td>A</td>\n",
       "    </tr>\n",
       "    <tr>\n",
       "      <th>3</th>\n",
       "      <td>3797467345</td>\n",
       "      <td>1196621759</td>\n",
       "      <td>2019-08-15</td>\n",
       "      <td>9759</td>\n",
       "      <td>B</td>\n",
       "    </tr>\n",
       "    <tr>\n",
       "      <th>4</th>\n",
       "      <td>2282983706</td>\n",
       "      <td>2322279887</td>\n",
       "      <td>2019-08-15</td>\n",
       "      <td>2308</td>\n",
       "      <td>B</td>\n",
       "    </tr>\n",
       "  </tbody>\n",
       "</table>\n",
       "</div>"
      ],
      "text/plain": [
       "   transactionId   visitorId        date  revenue group\n",
       "0     3667963787  3312258926  2019-08-15     1650     B\n",
       "1     2804400009  3642806036  2019-08-15      730     B\n",
       "2     2961555356  4069496402  2019-08-15      400     A\n",
       "3     3797467345  1196621759  2019-08-15     9759     B\n",
       "4     2282983706  2322279887  2019-08-15     2308     B"
      ]
     },
     "metadata": {},
     "output_type": "display_data"
    }
   ],
   "source": [
    "display(orders.head())"
   ]
  },
  {
   "cell_type": "code",
   "execution_count": 9,
   "metadata": {},
   "outputs": [
    {
     "data": {
      "text/plain": [
       "0"
      ]
     },
     "execution_count": 9,
     "metadata": {},
     "output_type": "execute_result"
    }
   ],
   "source": [
    "orders.duplicated().sum()"
   ]
  },
  {
   "cell_type": "markdown",
   "metadata": {},
   "source": [
    "Явных дубликатов в данных не обнаруженно. Приведем дату к типу данных datetime64, переименуем колонки."
   ]
  },
  {
   "cell_type": "code",
   "execution_count": 10,
   "metadata": {},
   "outputs": [],
   "source": [
    "orders['date'] = pd.to_datetime(orders['date'], format='%Y-%m-%d')\n",
    "orders = orders.rename(columns={'transactionId':'transaction_id', 'visitorId':'visitor_id'})"
   ]
  },
  {
   "cell_type": "code",
   "execution_count": 11,
   "metadata": {},
   "outputs": [
    {
     "name": "stdout",
     "output_type": "stream",
     "text": [
      "<class 'pandas.core.frame.DataFrame'>\n",
      "RangeIndex: 62 entries, 0 to 61\n",
      "Data columns (total 3 columns):\n",
      " #   Column    Non-Null Count  Dtype \n",
      "---  ------    --------------  ----- \n",
      " 0   date      62 non-null     object\n",
      " 1   group     62 non-null     object\n",
      " 2   visitors  62 non-null     int64 \n",
      "dtypes: int64(1), object(2)\n",
      "memory usage: 1.6+ KB\n"
     ]
    }
   ],
   "source": [
    "visitors.info()"
   ]
  },
  {
   "cell_type": "code",
   "execution_count": 12,
   "metadata": {},
   "outputs": [
    {
     "data": {
      "text/html": [
       "<div>\n",
       "<style scoped>\n",
       "    .dataframe tbody tr th:only-of-type {\n",
       "        vertical-align: middle;\n",
       "    }\n",
       "\n",
       "    .dataframe tbody tr th {\n",
       "        vertical-align: top;\n",
       "    }\n",
       "\n",
       "    .dataframe thead th {\n",
       "        text-align: right;\n",
       "    }\n",
       "</style>\n",
       "<table border=\"1\" class=\"dataframe\">\n",
       "  <thead>\n",
       "    <tr style=\"text-align: right;\">\n",
       "      <th></th>\n",
       "      <th>date</th>\n",
       "      <th>group</th>\n",
       "      <th>visitors</th>\n",
       "    </tr>\n",
       "  </thead>\n",
       "  <tbody>\n",
       "    <tr>\n",
       "      <th>0</th>\n",
       "      <td>2019-08-01</td>\n",
       "      <td>A</td>\n",
       "      <td>719</td>\n",
       "    </tr>\n",
       "    <tr>\n",
       "      <th>1</th>\n",
       "      <td>2019-08-02</td>\n",
       "      <td>A</td>\n",
       "      <td>619</td>\n",
       "    </tr>\n",
       "    <tr>\n",
       "      <th>2</th>\n",
       "      <td>2019-08-03</td>\n",
       "      <td>A</td>\n",
       "      <td>507</td>\n",
       "    </tr>\n",
       "    <tr>\n",
       "      <th>3</th>\n",
       "      <td>2019-08-04</td>\n",
       "      <td>A</td>\n",
       "      <td>717</td>\n",
       "    </tr>\n",
       "    <tr>\n",
       "      <th>4</th>\n",
       "      <td>2019-08-05</td>\n",
       "      <td>A</td>\n",
       "      <td>756</td>\n",
       "    </tr>\n",
       "  </tbody>\n",
       "</table>\n",
       "</div>"
      ],
      "text/plain": [
       "         date group  visitors\n",
       "0  2019-08-01     A       719\n",
       "1  2019-08-02     A       619\n",
       "2  2019-08-03     A       507\n",
       "3  2019-08-04     A       717\n",
       "4  2019-08-05     A       756"
      ]
     },
     "metadata": {},
     "output_type": "display_data"
    }
   ],
   "source": [
    "display(visitors.head())"
   ]
  },
  {
   "cell_type": "code",
   "execution_count": 13,
   "metadata": {},
   "outputs": [
    {
     "data": {
      "text/plain": [
       "0"
      ]
     },
     "execution_count": 13,
     "metadata": {},
     "output_type": "execute_result"
    }
   ],
   "source": [
    "visitors.duplicated().sum()"
   ]
  },
  {
   "cell_type": "markdown",
   "metadata": {},
   "source": [
    "Явных дубликатов в данных не обнаруженно. Приведем дату к типу данных datetime64."
   ]
  },
  {
   "cell_type": "code",
   "execution_count": 14,
   "metadata": {},
   "outputs": [],
   "source": [
    "visitors['date'] = pd.to_datetime(visitors['date'], format='%Y-%m-%d')"
   ]
  },
  {
   "cell_type": "markdown",
   "metadata": {},
   "source": [
    "Проверим, есть ли пользователи, которые попали в обе группы А/В-теста одновременно:"
   ]
  },
  {
   "cell_type": "code",
   "execution_count": 15,
   "metadata": {},
   "outputs": [
    {
     "name": "stdout",
     "output_type": "stream",
     "text": [
      "58\n"
     ]
    },
    {
     "data": {
      "text/html": [
       "<div>\n",
       "<style scoped>\n",
       "    .dataframe tbody tr th:only-of-type {\n",
       "        vertical-align: middle;\n",
       "    }\n",
       "\n",
       "    .dataframe tbody tr th {\n",
       "        vertical-align: top;\n",
       "    }\n",
       "\n",
       "    .dataframe thead th {\n",
       "        text-align: right;\n",
       "    }\n",
       "</style>\n",
       "<table border=\"1\" class=\"dataframe\">\n",
       "  <thead>\n",
       "    <tr style=\"text-align: right;\">\n",
       "      <th></th>\n",
       "      <th>visitor_id</th>\n",
       "      <th>group</th>\n",
       "    </tr>\n",
       "  </thead>\n",
       "  <tbody>\n",
       "    <tr>\n",
       "      <th>0</th>\n",
       "      <td>8300375</td>\n",
       "      <td>2</td>\n",
       "    </tr>\n",
       "    <tr>\n",
       "      <th>1</th>\n",
       "      <td>199603092</td>\n",
       "      <td>2</td>\n",
       "    </tr>\n",
       "    <tr>\n",
       "      <th>2</th>\n",
       "      <td>232979603</td>\n",
       "      <td>2</td>\n",
       "    </tr>\n",
       "    <tr>\n",
       "      <th>3</th>\n",
       "      <td>237748145</td>\n",
       "      <td>2</td>\n",
       "    </tr>\n",
       "    <tr>\n",
       "      <th>4</th>\n",
       "      <td>276558944</td>\n",
       "      <td>2</td>\n",
       "    </tr>\n",
       "  </tbody>\n",
       "</table>\n",
       "</div>"
      ],
      "text/plain": [
       "   visitor_id  group\n",
       "0     8300375      2\n",
       "1   199603092      2\n",
       "2   232979603      2\n",
       "3   237748145      2\n",
       "4   276558944      2"
      ]
     },
     "metadata": {},
     "output_type": "display_data"
    }
   ],
   "source": [
    "dupl_users = orders.groupby('visitor_id').agg({'group':'nunique'}).query('group > 1').reset_index()\n",
    "print(len(dupl_users))\n",
    "display(dupl_users.head(5))"
   ]
  },
  {
   "cell_type": "markdown",
   "metadata": {},
   "source": [
    "В обе группы теста попали 58 пользователей. Так как данные в таблице visitors обезличены, мы можем удалить дублирующихся пользователей только из таблицы orders. "
   ]
  },
  {
   "cell_type": "code",
   "execution_count": 37,
   "metadata": {},
   "outputs": [
    {
     "data": {
      "text/plain": [
       "0"
      ]
     },
     "execution_count": 37,
     "metadata": {},
     "output_type": "execute_result"
    }
   ],
   "source": [
    "duplicates = list(dupl_users['visitor_id'])\n",
    "orders = orders.query('visitor_id not in @duplicates')\n",
    "len(orders.groupby('visitor_id').agg({'group':'nunique'}).query('group > 1').reset_index())"
   ]
  },
  {
   "cell_type": "markdown",
   "metadata": {},
   "source": [
    "Пропусков и явных дубликатов в данных не обнаружено. В ходе предобработки данных привели названия столбцов к \"змеиному регистру\", изменили тип данных, где это необходимо и удалили пользователей которые попали в обе группы AB-теста. С аномальными значениями будем работать на следующих этапах анализа.\n",
    "\n",
    "### График кумулятивной выручки по группам."
   ]
  },
  {
   "cell_type": "code",
   "execution_count": 17,
   "metadata": {},
   "outputs": [
    {
     "data": {
      "image/png": "[encoded data removed]",
      "text/plain": [
       "<Figure size 864x576 with 1 Axes>"
      ]
     },
     "metadata": {
      "needs_background": "light"
     },
     "output_type": "display_data"
    }
   ],
   "source": [
    "datesGroups = orders[['date', 'group']].drop_duplicates()\n",
    "\n",
    "ordersAggregated = datesGroups.apply(\n",
    "    lambda x: orders[\n",
    "        np.logical_and(\n",
    "            orders['date'] <= x['date'], orders['group'] == x['group']\n",
    "        )\n",
    "    ].agg(\n",
    "        {\n",
    "            'date': 'max',\n",
    "            'group': 'max',\n",
    "            'transaction_id': 'nunique',\n",
    "            'visitor_id': 'nunique',\n",
    "            'revenue': 'sum',\n",
    "        }\n",
    "    ),\n",
    "    axis=1,\n",
    ").sort_values(by=['date', 'group'])\n",
    "\n",
    "visitorsAggregated = datesGroups.apply(\n",
    "    lambda x: visitors[\n",
    "        np.logical_and(\n",
    "            visitors['date'] <= x['date'], visitors['group'] == x['group']\n",
    "        )\n",
    "    ].agg({'date': 'max', 'group': 'max', 'visitors': 'sum'}),\n",
    "    axis=1,\n",
    ").sort_values(by=['date', 'group'])\n",
    "\n",
    "cumulativeData = ordersAggregated.merge(\n",
    "    visitorsAggregated, left_on=['date', 'group'], right_on=['date', 'group']\n",
    ")\n",
    "cumulativeData.columns = [\n",
    "    'date',\n",
    "    'group',\n",
    "    'orders',\n",
    "    'buyers',\n",
    "    'revenue',\n",
    "    'visitors',\n",
    "]\n",
    "\n",
    "# датафрейм с кумулятивным количеством заказов и кумулятивной выручкой по дням в группе А\n",
    "cumulativeRevenueA = cumulativeData[cumulativeData['group']=='A'][['date','revenue', 'orders']]\n",
    "\n",
    "# датафрейм с кумулятивным количеством заказов и кумулятивной выручкой по дням в группе B\n",
    "cumulativeRevenueB = cumulativeData[cumulativeData['group']=='B'][['date','revenue', 'orders']]\n",
    "plt.figure(figsize=(12, 8))\n",
    "# Строим график выручки группы А\n",
    "plt.plot(cumulativeRevenueA['date'], cumulativeRevenueA['revenue'], label='A')\n",
    "\n",
    "# Строим график выручки группы B\n",
    "plt.plot(cumulativeRevenueB['date'], cumulativeRevenueB['revenue'], label='B')\n",
    "plt.legend()\n",
    "plt.title('График кумулятивной выручки по группам')\n",
    "plt.xlabel('Дата')\n",
    "plt.ylabel('Кумулятивная выручка, руб.');"
   ]
  },
  {
   "cell_type": "markdown",
   "metadata": {},
   "source": [
    "Сегмент В графика лидирует, во второй половине теста наблюдаем резкий скачек кумулятивной выручки, что может быть вызвано влиянием аномальных значений.\n",
    "\n",
    "### График кумулятивного среднего чека по группам"
   ]
  },
  {
   "cell_type": "code",
   "execution_count": 18,
   "metadata": {},
   "outputs": [
    {
     "data": {
      "image/png": "[encoded data removed]",
      "text/plain": [
       "<Figure size 864x576 with 1 Axes>"
      ]
     },
     "metadata": {
      "needs_background": "light"
     },
     "output_type": "display_data"
    }
   ],
   "source": [
    "plt.figure(figsize=(12, 8))\n",
    "plt.plot(cumulativeRevenueA['date'], cumulativeRevenueA['revenue']/cumulativeRevenueA['orders'], label='A')\n",
    "plt.plot(cumulativeRevenueB['date'], cumulativeRevenueB['revenue']/cumulativeRevenueB['orders'], label='B')\n",
    "plt.legend() \n",
    "plt.title('График кумулятивного среднего чека по группам')\n",
    "plt.xlabel('Дата')\n",
    "plt.ylabel('Кумулятивный средний чек, руб');"
   ]
  },
  {
   "cell_type": "markdown",
   "metadata": {},
   "source": [
    "Видим, что кумулятивный средний чек по группам ростет, во второй половине теста видим резкий скачек в группе В, аналогичный скачку кумулятивной выручки, скорее всего это влияние выбросов. \n",
    "\n",
    "###  График относительного изменения кумулятивного среднего чека группы B к группе A"
   ]
  },
  {
   "cell_type": "code",
   "execution_count": 19,
   "metadata": {},
   "outputs": [
    {
     "data": {
      "image/png": "[encoded data removed]",
      "text/plain": [
       "<Figure size 864x576 with 1 Axes>"
      ]
     },
     "metadata": {
      "needs_background": "light"
     },
     "output_type": "display_data"
    }
   ],
   "source": [
    "# собираем данные в одном датафрейме\n",
    "mergedCumulativeRevenue = (cumulativeRevenueA\n",
    "                           .merge(cumulativeRevenueB, left_on='date', right_on='date', how='left', suffixes=['A', 'B']))\n",
    "\n",
    "# cтроим отношение средних чеков\n",
    "plt.figure(figsize=(12, 8))\n",
    "plt.plot(mergedCumulativeRevenue['date'], \n",
    "         (mergedCumulativeRevenue['revenueB']/mergedCumulativeRevenue['ordersB'])/\n",
    "         (mergedCumulativeRevenue['revenueA']/mergedCumulativeRevenue['ordersA'])-1)\n",
    "\n",
    "# добавляем ось X\n",
    "plt.axhline(y=0, color='black', linestyle='--') \n",
    "plt.title('График относительного изменения кумулятивного среднего чека группы B к группе A')\n",
    "plt.xlabel('Дата')\n",
    "plt.ylabel('Изменение кумулятивного среднего чека');"
   ]
  },
  {
   "cell_type": "markdown",
   "metadata": {},
   "source": [
    "Видим резкие скачки, связанные с аномальными значениями.\n",
    "\n",
    "### График кумулятивного среднего количества заказов на посетителя по группам"
   ]
  },
  {
   "cell_type": "code",
   "execution_count": 20,
   "metadata": {},
   "outputs": [
    {
     "data": {
      "image/png": "[encoded data removed]",
      "text/plain": [
       "<Figure size 864x576 with 1 Axes>"
      ]
     },
     "metadata": {
      "needs_background": "light"
     },
     "output_type": "display_data"
    }
   ],
   "source": [
    "cumulativeData['conversion']=cumulativeData['orders']/cumulativeData['visitors']\n",
    "cumulativeDataA = cumulativeData[cumulativeData['group']=='A']\n",
    "cumulativeDataB = cumulativeData[cumulativeData['group']=='B']\n",
    "plt.figure(figsize=(12, 8))\n",
    "plt.plot(cumulativeDataA['date'], cumulativeDataA['conversion'], label='A')\n",
    "plt.plot(cumulativeDataB['date'], cumulativeDataB['conversion'], label='B')\n",
    "plt.legend()\n",
    "plt.title('График кумулятивного среднего количества заказов на посетителя по группам')\n",
    "plt.xlabel('Дата')\n",
    "plt.ylabel('Среднее количество заказов');"
   ]
  },
  {
   "cell_type": "markdown",
   "metadata": {},
   "source": [
    "В начале теста группа А показывала большую конверсию, но со временем группа В вырвалась вперед и стабилизировалась. Конверсия группы А продолжает падать.\n",
    "\n",
    "### График относительного изменения кумулятивного среднего количества заказов на посетителя группы B к группе A."
   ]
  },
  {
   "cell_type": "code",
   "execution_count": 21,
   "metadata": {},
   "outputs": [
    {
     "data": {
      "image/png": "[encoded data removed]",
      "text/plain": [
       "<Figure size 864x576 with 1 Axes>"
      ]
     },
     "metadata": {
      "needs_background": "light"
     },
     "output_type": "display_data"
    }
   ],
   "source": [
    "mergedCumulativeConversions = (cumulativeDataA[['date','conversion']]\n",
    "        .merge(cumulativeDataB[['date','conversion']], left_on='date', right_on='date', how='left', suffixes=['A', 'B']))\n",
    "plt.figure(figsize=(12, 8))\n",
    "plt.plot(mergedCumulativeConversions['date'],\n",
    "         mergedCumulativeConversions['conversionB']/mergedCumulativeConversions['conversionA']-1,\n",
    "         label=\"Относительный прирост конверсии группы B относительно группы A\")\n",
    "plt.legend()\n",
    "\n",
    "plt.axhline(y=0, color='black', linestyle='--')\n",
    "plt.axhline(y=0.15, color='grey', linestyle='--')\n",
    "plt.title('График относительного изменения кумулятивного среднего количества заказов на посетителя группы B к группе A')\n",
    "plt.xlabel('Дата')\n",
    "plt.ylabel('Относительное изменение кумулятивного среднего количества заказов');\n"
   ]
  },
  {
   "cell_type": "markdown",
   "metadata": {},
   "source": [
    "Почти с начала теста кумулятивная конверсия группы В превышает конверсию группы А на 15%, а на пиковых значениях даже на 20%. Но на данном этапе мы работаем с 'грязными данными', чтобы обрести уверенность в результатах теста необходимо проанализировать данные без аномальных значений.\n",
    "\n",
    "### Точечный график количества заказов по пользователям"
   ]
  },
  {
   "cell_type": "code",
   "execution_count": 22,
   "metadata": {},
   "outputs": [
    {
     "data": {
      "image/png": "[encoded data removed]",
      "text/plain": [
       "<Figure size 576x360 with 1 Axes>"
      ]
     },
     "metadata": {
      "needs_background": "light"
     },
     "output_type": "display_data"
    }
   ],
   "source": [
    "ordersByUsers = (\n",
    "    orders.groupby('visitor_id', as_index=False)\n",
    "    .agg({'transaction_id': 'nunique'})\n",
    ")\n",
    "ordersByUsers.columns = ['userId', 'orders']\n",
    "\n",
    "# серия из чисел от 0 до количества наблюдений в ordersByUsers\n",
    "x_values = pd.Series(range(0, len(ordersByUsers)))\n",
    "plt.figure(figsize=(8, 5))\n",
    "plt.scatter(x_values, ordersByUsers['orders'])\n",
    "plt.title('Точечный график количества заказов по пользователям')\n",
    "plt.xlabel('Пользователи')\n",
    "plt.ylabel('Количество заказов');"
   ]
  },
  {
   "cell_type": "markdown",
   "metadata": {},
   "source": [
    "Видим, что подавляющее большинство пользователей совершили один заказ, два и три заказа это редкость.\n",
    "\n",
    "### Анализ 95-й и 99-й перцентили количества заказов на пользователя. "
   ]
  },
  {
   "cell_type": "code",
   "execution_count": 23,
   "metadata": {},
   "outputs": [
    {
     "name": "stdout",
     "output_type": "stream",
     "text": [
      "[1. 2.]\n"
     ]
    }
   ],
   "source": [
    "print(np.percentile(ordersByUsers['orders'], [95, 99]))"
   ]
  },
  {
   "cell_type": "markdown",
   "metadata": {},
   "source": [
    "Не более 1% пользователей совершили больше 2-х заказов. Примем 2 заказа, как границу для определения аномальных пользователей. Всех, кто совершил 2 и более заказов исключим из анализа.\n",
    "\n",
    "### Точечный график стоимостей заказов"
   ]
  },
  {
   "cell_type": "code",
   "execution_count": 24,
   "metadata": {},
   "outputs": [
    {
     "data": {
      "text/plain": [
       "Text(0, 0.5, 'Стоимость, руб.')"
      ]
     },
     "execution_count": 24,
     "metadata": {},
     "output_type": "execute_result"
    },
    {
     "data": {
      "image/png": "[encoded data removed]",
      "text/plain": [
       "<Figure size 576x360 with 1 Axes>"
      ]
     },
     "metadata": {
      "needs_background": "light"
     },
     "output_type": "display_data"
    }
   ],
   "source": [
    "x_values = pd.Series(range(0, len(orders['revenue'])))\n",
    "plt.figure(figsize=(8, 5))\n",
    "plt.scatter(x_values, orders['revenue'])\n",
    "plt.title('Точечный график стоимостей заказов')\n",
    "plt.xlabel('Заказы')\n",
    "plt.ylabel('Стоимость, руб.')"
   ]
  },
  {
   "cell_type": "code",
   "execution_count": 25,
   "metadata": {},
   "outputs": [
    {
     "data": {
      "image/png": "[encoded data removed]",
      "text/plain": [
       "<Figure size 576x360 with 1 Axes>"
      ]
     },
     "metadata": {
      "needs_background": "light"
     },
     "output_type": "display_data"
    }
   ],
   "source": [
    "plt.figure(figsize=(8, 5))\n",
    "plt.scatter(x_values, orders['revenue'])\n",
    "plt.title('Точечный график стоимостей заказов')\n",
    "plt.xlabel('Заказы')\n",
    "plt.ylabel('Стоимость, руб.')\n",
    "plt.ylim(0,100000)\n",
    "plt.show();"
   ]
  },
  {
   "cell_type": "markdown",
   "metadata": {},
   "source": [
    "На графике видем аномальный заказ стоимостью более 1 млн. руб., но все же основная масса заказов сосредоточена в диапазоне до 20 тыс. руб..\n",
    "\n",
    "### Анализ 95-й и 99-й перцентили стоимости заказов"
   ]
  },
  {
   "cell_type": "code",
   "execution_count": 26,
   "metadata": {},
   "outputs": [
    {
     "name": "stdout",
     "output_type": "stream",
     "text": [
      "[26785. 53904.]\n"
     ]
    }
   ],
   "source": [
    "print(np.percentile(orders['revenue'], [95,99]))"
   ]
  },
  {
   "cell_type": "markdown",
   "metadata": {},
   "source": [
    "Менее 5% пользователей совершили заказы на сумму более 26785 руб. и менее 1% пользователей совершили заказы на сумму более 53904 руб.. Аномальными примем заказы на сумму 26785 руб. и выше.\n",
    "\n",
    "### Расчет статистической значимости различий в среднем количестве заказов на посетителя между группами по «сырым» данным\n",
    "\n",
    "Сформируем гипотезы: \n",
    "- H0- различий в среднем количестве заказов между группами нет;\n",
    "- Н1- различия в среднем количестве заказов между группами есть."
   ]
  },
  {
   "cell_type": "code",
   "execution_count": 42,
   "metadata": {},
   "outputs": [
    {
     "name": "stdout",
     "output_type": "stream",
     "text": [
      "p-value: 0.011\n",
      "Oтносительное различие в среднем между группами: 0.160\n"
     ]
    }
   ],
   "source": [
    "visitorsADaily = visitors[visitors['group'] == 'A'][['date', 'visitors']]\n",
    "visitorsADaily.columns = ['date', 'visitorsPerDateA']\n",
    "\n",
    "visitorsACummulative = visitorsADaily.apply(\n",
    "    lambda x: visitorsADaily[visitorsADaily['date'] <= x['date']].agg(\n",
    "        {'date': 'max', 'visitorsPerDateA': 'sum'}\n",
    "    ),\n",
    "    axis=1,\n",
    ")\n",
    "visitorsACummulative.columns = ['date', 'visitorsCummulativeA']\n",
    "\n",
    "visitorsBDaily = visitors[visitors['group'] == 'B'][['date', 'visitors']]\n",
    "visitorsBDaily.columns = ['date', 'visitorsPerDateB']\n",
    "\n",
    "visitorsBCummulative = visitorsBDaily.apply(\n",
    "    lambda x: visitorsBDaily[visitorsBDaily['date'] <= x['date']].agg(\n",
    "        {'date': 'max', 'visitorsPerDateB': 'sum'}\n",
    "    ),\n",
    "    axis=1,\n",
    ")\n",
    "visitorsBCummulative.columns = ['date', 'visitorsCummulativeB']\n",
    "\n",
    "ordersADaily = (\n",
    "    orders[orders['group'] == 'A'][['date', 'transaction_id', 'visitor_id', 'revenue']]\n",
    "    .groupby('date', as_index=False)\n",
    "    .agg({'transaction_id': pd.Series.nunique, 'revenue': 'sum'})\n",
    ")\n",
    "ordersADaily.columns = ['date', 'ordersPerDateA', 'revenuePerDateA']\n",
    "\n",
    "ordersACummulative = ordersADaily.apply(\n",
    "    lambda x: ordersADaily[ordersADaily['date'] <= x['date']].agg(\n",
    "        {'date': 'max', 'ordersPerDateA': 'sum', 'revenuePerDateA': 'sum'}\n",
    "    ),\n",
    "    axis=1,\n",
    ").sort_values(by=['date'])\n",
    "ordersACummulative.columns = [\n",
    "    'date',\n",
    "    'ordersCummulativeA',\n",
    "    'revenueCummulativeA',\n",
    "]\n",
    "\n",
    "ordersBDaily = (\n",
    "    orders[orders['group'] == 'B'][['date', 'transaction_id', 'visitor_id', 'revenue']]\n",
    "    .groupby('date', as_index=False)\n",
    "    .agg({'transaction_id': pd.Series.nunique, 'revenue': 'sum'})\n",
    ")\n",
    "ordersBDaily.columns = ['date', 'ordersPerDateB', 'revenuePerDateB']\n",
    "\n",
    "ordersBCummulative = ordersBDaily.apply(\n",
    "    lambda x: ordersBDaily[ordersBDaily['date'] <= x['date']].agg(\n",
    "        {'date': 'max', 'ordersPerDateB': 'sum', 'revenuePerDateB': 'sum'}\n",
    "    ),\n",
    "    axis=1,\n",
    ").sort_values(by=['date'])\n",
    "ordersBCummulative.columns = [\n",
    "    'date',\n",
    "    'ordersCummulativeB',\n",
    "    'revenueCummulativeB',\n",
    "]\n",
    "\n",
    "data = (\n",
    "    ordersADaily.merge(\n",
    "        ordersBDaily, left_on='date', right_on='date', how='left'\n",
    "    )\n",
    "    .merge(ordersACummulative, left_on='date', right_on='date', how='left')\n",
    "    .merge(ordersBCummulative, left_on='date', right_on='date', how='left')\n",
    "    .merge(visitorsADaily, left_on='date', right_on='date', how='left')\n",
    "    .merge(visitorsBDaily, left_on='date', right_on='date', how='left')\n",
    "    .merge(visitorsACummulative, left_on='date', right_on='date', how='left')\n",
    "    .merge(visitorsBCummulative, left_on='date', right_on='date', how='left')\n",
    ")\n",
    "ordersByUsersA = (\n",
    "    orders[orders['group'] == 'A']\n",
    "    .groupby('visitor_id', as_index=False)\n",
    "    .agg({'transaction_id': pd.Series.nunique})\n",
    ")\n",
    "ordersByUsersA.columns = ['userId', 'orders']\n",
    "\n",
    "ordersByUsersB = (\n",
    "    orders[orders['group'] == 'B']\n",
    "    .groupby('visitor_id', as_index=False)\n",
    "    .agg({'transaction_id': pd.Series.nunique})\n",
    ")\n",
    "ordersByUsersB.columns = ['userId', 'orders'] \n",
    "\n",
    "sampleA = pd.concat(\n",
    "    [\n",
    "        ordersByUsersA['orders'],\n",
    "        pd.Series(\n",
    "            0,\n",
    "            index=np.arange(\n",
    "                data['visitorsPerDateA'].sum() - len(ordersByUsersA['orders'])\n",
    "            ),\n",
    "            name='orders',\n",
    "        ),\n",
    "    ],\n",
    "    axis=0,\n",
    ")\n",
    "\n",
    "sampleB = pd.concat(\n",
    "    [\n",
    "        ordersByUsersB['orders'],\n",
    "        pd.Series(\n",
    "            0,\n",
    "            index=np.arange(\n",
    "                data['visitorsPerDateB'].sum() - len(ordersByUsersB['orders'])\n",
    "            ),\n",
    "            name='orders',\n",
    "        ),\n",
    "    ],\n",
    "    axis=0,\n",
    ")\n",
    "print(\"p-value: {0:.3f}\".format(stats.mannwhitneyu(sampleA, sampleB)[1]))\n",
    "\n",
    "print(\"Oтносительное различие в среднем между группами: {0:.3f}\".format(sampleB.mean() / sampleA.mean() - 1))\n"
   ]
  },
  {
   "cell_type": "markdown",
   "metadata": {},
   "source": [
    "P-value = 0.011 меньше 0.05 - нулевую гипотезу отвергаем. Анализ 'сырых' данных показал, что в среднем количестве заказов между группами есть статистически значимые различия. Относительный выиграш группы В равен 16%. \n",
    "\n",
    "### Анализ статистической значимости различий в среднем чеке заказа между группами по «сырым» данным\n",
    "\n",
    "Сформируем гипотезы: \n",
    "- H0- различий в среднем чеке заказа между группами нет;\n",
    "- Н1- различия в среднем чеке заказа между группами есть.\n"
   ]
  },
  {
   "cell_type": "code",
   "execution_count": 53,
   "metadata": {},
   "outputs": [
    {
     "name": "stdout",
     "output_type": "stream",
     "text": [
      "p-value: 0.829\n",
      "Oтносительное различие в среднем между группами: 0.287\n"
     ]
    }
   ],
   "source": [
    "print('p-value: {0:.3f}'.format(stats\n",
    "      .mannwhitneyu(orders[orders['group']=='A']['revenue'], orders[orders['group']=='B']['revenue'])[1]))\n",
    "print('Oтносительное различие в среднем между группами: {0:.3f}'\n",
    "      .format(orders[orders['group']=='B']['revenue'].mean()/orders[orders['group']=='A']['revenue'].mean()-1)) "
   ]
  },
  {
   "cell_type": "markdown",
   "metadata": {},
   "source": [
    "P-value =0.829 больше 0.05, то есть статистически значимых отличий в среднем чеке между группами нет. При этом относительное различие в среднем чеке 28.7% в пользу группы В. Скорее всего на средний чек оказывают  влияние аномальные значения. Посмотрим как изменятся показатели в очищенных от аномалий данных.\n",
    "\n",
    "###  Анализ статистической значимости различий в среднем количестве заказов на посетителя между группами по «очищенным» данным\n",
    "\n",
    "Подготовим очищенные от аномалий данные."
   ]
  },
  {
   "cell_type": "code",
   "execution_count": 51,
   "metadata": {},
   "outputs": [
    {
     "name": "stdout",
     "output_type": "stream",
     "text": [
      "568     113298937\n",
      "1099    148427295\n",
      "928     204675465\n",
      "33      249864742\n",
      "684     358944393\n",
      "dtype: int64\n"
     ]
    }
   ],
   "source": [
    "usersWithManyOrders = pd.concat(\n",
    "    [\n",
    "        ordersByUsersA[ordersByUsersA['orders'] >= np.percentile(ordersByUsers['orders'], 99)]['userId'],\n",
    "        ordersByUsersB[ordersByUsersB['orders'] >= np.percentile(ordersByUsers['orders'], 99)]['userId'],\n",
    "    ],\n",
    "    axis=0,\n",
    ")\n",
    "usersWithExpensiveOrders = orders[orders['revenue'] >= np.percentile(orders['revenue'], 95)]['visitor_id'] \n",
    "abnormalUsers = (\n",
    "    pd.concat([usersWithManyOrders, usersWithExpensiveOrders], axis=0)\n",
    "    .drop_duplicates()\n",
    "    .sort_values()\n",
    ")\n",
    "print(abnormalUsers.head(5))"
   ]
  },
  {
   "cell_type": "markdown",
   "metadata": {},
   "source": [
    "Отфильтруем аномалии и посчитаем статистическую значимость. Сформулируем гипотезы:\n",
    "- H0- различий в среднем количестве заказов между группами нет;\n",
    "- Н1- различия в среднем количестве заказов между группами есть."
   ]
  },
  {
   "cell_type": "code",
   "execution_count": 58,
   "metadata": {},
   "outputs": [
    {
     "name": "stdout",
     "output_type": "stream",
     "text": [
      "p-value: 0.01593\n",
      "Oтносительное различие в среднем между группами: 0.174\n"
     ]
    }
   ],
   "source": [
    "sampleAFiltered = pd.concat(\n",
    "    [\n",
    "        ordersByUsersA[\n",
    "            np.logical_not(ordersByUsersA['userId'].isin(abnormalUsers))\n",
    "        ]['orders'],\n",
    "        pd.Series(\n",
    "            0,\n",
    "            index=np.arange(\n",
    "                data['visitorsPerDateA'].sum() - len(ordersByUsersA['orders'])\n",
    "            ),\n",
    "            name='orders',\n",
    "        ),\n",
    "    ],\n",
    "    axis=0,\n",
    ")\n",
    "\n",
    "sampleBFiltered = pd.concat(\n",
    "    [\n",
    "        ordersByUsersB[\n",
    "            np.logical_not(ordersByUsersB['userId'].isin(abnormalUsers))\n",
    "        ]['orders'],\n",
    "        pd.Series(\n",
    "            0,\n",
    "            index=np.arange(\n",
    "                data['visitorsPerDateB'].sum() - len(ordersByUsersB['orders'])\n",
    "            ),\n",
    "            name='orders',\n",
    "        ),\n",
    "    ],\n",
    "    axis=0,\n",
    ") \n",
    "print('p-value: {0:.5f}'.format(stats.mannwhitneyu(sampleAFiltered, sampleBFiltered)[1]))\n",
    "print('Oтносительное различие в среднем между группами: {0:.3f}'.format(sampleBFiltered.mean()/sampleAFiltered.mean()-1)) \n"
   ]
  },
  {
   "cell_type": "markdown",
   "metadata": {},
   "source": [
    "Как и в случае с 'сырыми' данными p_value<0.05. Что по 'сырым', что по 'очищенным' данным различия в среднем количестве заказов между группами есть. Группа B в оносительном выражении превышает группу А на 17.4%\n",
    "\n",
    "### Анализ статистической значимости различий в среднем чеке заказа между группами по «очищенным» данным\n",
    "\n",
    "Сформируем гипотезы: \n",
    "- H0- различий в среднем чеке заказа между группами нет;\n",
    "- Н1- различия в среднем чеке заказа между группами есть."
   ]
  },
  {
   "cell_type": "code",
   "execution_count": 60,
   "metadata": {},
   "outputs": [
    {
     "name": "stdout",
     "output_type": "stream",
     "text": [
      "p-value: 0.727\n",
      "Oтносительное различие в среднем между группами: -0.034\n"
     ]
    }
   ],
   "source": [
    "print(\n",
    "    'p-value: {0:.3f}'.format(\n",
    "        stats.mannwhitneyu(\n",
    "            orders[\n",
    "                np.logical_and(\n",
    "                    orders['group'] == 'A',\n",
    "                    np.logical_not(orders['visitor_id'].isin(abnormalUsers)),\n",
    "                )\n",
    "            ]['revenue'],\n",
    "            orders[\n",
    "                np.logical_and(\n",
    "                    orders['group'] == 'B',\n",
    "                    np.logical_not(orders['visitor_id'].isin(abnormalUsers)),\n",
    "                )\n",
    "            ]['revenue'],\n",
    "        )[1]\n",
    "    )\n",
    ")\n",
    "\n",
    "print(\n",
    "    \"Oтносительное различие в среднем между группами: {0:.3f}\".format(\n",
    "        orders[\n",
    "            np.logical_and(\n",
    "                orders['group'] == 'B',\n",
    "                np.logical_not(orders['visitor_id'].isin(abnormalUsers)),\n",
    "            )\n",
    "        ]['revenue'].mean()\n",
    "        / orders[\n",
    "            np.logical_and(\n",
    "                orders['group'] == 'A',\n",
    "                np.logical_not(orders['visitor_id'].isin(abnormalUsers)),\n",
    "            )\n",
    "        ]['revenue'].mean()\n",
    "        - 1\n",
    "    )\n",
    ") "
   ]
  },
  {
   "cell_type": "markdown",
   "metadata": {},
   "source": [
    "P-value =0.727, не слишком сильно отличается от 'сырых' данных. Статистически значимых отличий в среднем чеке между группами нет. При этом относительное различие в среднем чеке между группами было 28.7% в 'сырых' данных, стало -3.4% в 'очищенных'. Теперь мы видим насколько сильно аномальные значения искажали данные.\n",
    "\n",
    "### Решение по результатам А/В-теста\n",
    "\n",
    "При проведении А/В-теста мы получили следующие результаты:\n",
    "- График различия конверсии между группами сообщает, что результаты группы B лучше группы A: имеют тенденцию к росту.\n",
    "- График различия среднего чека колеблется: на нем мы можем увидеть аномалии в данных.\n",
    "- Есть статистически значимое различие по конверсии между группами как по сырым данным, так и после фильтрации аномалий.\n",
    "- Нет статистически значимого различия по среднему чеку между группами, как по сырым данным, так и после фильтрации аномалий.\n",
    "\n",
    "При одинаковом среднем чеке группа В имеет большую конверсию из пользователей в покупатели. Решение по результатам А/В-теста - остановить тест и зафиксировать победу группы В. \n",
    "\n",
    "## Выводы\n",
    "\n",
    "\n",
    "В ходе исследования мы провели приоритизацию гипотез, определили применение какой из гипотез приведет к увеличению выручки, проанализировали А/В-тест этой гипотезы. Получили следующие выводы:\n",
    " - На основании фреймворков ICE и RICE наиболее приоритетной является гипотеза номер 7.Добавить форму подписки на все основные страницы, чтобы собрать базу клиентов для email-рассылок. Её применение затронет всех пользователей интернет-магазина.\n",
    " - График различия конверсии между группами сообщает, что результаты группы B лучше группы A: имеют тенденцию к росту.\n",
    " - График различия среднего чека колеблется: на нем мы можем увидеть аномалии в данных.\n",
    " - Есть статистически значимое различие по конверсии между группами как по сырым данным, так и после фильтрации аномалий.\n",
    " - Нет статистически значимого различия по среднему чеку между группами, как по сырым данным, так и после фильтрации аномалий.\n",
    " - При одинаковом среднем чеке группа В имеет большую конверсию из пользователей в покупатели. Решение по результатам А/В-теста - остановить тест и зафиксировать победу группы В. \n",
    " \n",
    "При помощи методов приоритизации гипотез и А/В-теста мы можем сделать вывод, что применение гипотезы 7.Добавить форму подписки на все основные страницы, чтобы собрать базу клиентов для email-рассылок приведет к увеличению выручки."
   ]
  }
 ],
 "metadata": {
  "ExecuteTimeLog": [
   {
    "duration": 4,
    "start_time": "2022-12-26T21:43:04.393Z"
   },
   {
    "duration": 43,
    "start_time": "2022-12-26T21:44:57.708Z"
   },
   {
    "duration": 365,
    "start_time": "2022-12-26T21:45:02.381Z"
   },
   {
    "duration": 71,
    "start_time": "2022-12-26T21:45:05.491Z"
   },
   {
    "duration": 8,
    "start_time": "2022-12-26T21:53:52.689Z"
   },
   {
    "duration": 3,
    "start_time": "2022-12-26T21:54:03.254Z"
   },
   {
    "duration": 9,
    "start_time": "2022-12-26T21:55:12.147Z"
   },
   {
    "duration": 8,
    "start_time": "2022-12-26T22:01:40.074Z"
   },
   {
    "duration": 142,
    "start_time": "2022-12-26T22:17:34.218Z"
   },
   {
    "duration": 11,
    "start_time": "2022-12-26T22:18:03.422Z"
   },
   {
    "duration": 8,
    "start_time": "2022-12-26T22:18:21.404Z"
   },
   {
    "duration": 11,
    "start_time": "2022-12-26T22:19:10.254Z"
   },
   {
    "duration": 7,
    "start_time": "2022-12-26T22:19:21.852Z"
   },
   {
    "duration": 5,
    "start_time": "2022-12-26T22:20:14.373Z"
   },
   {
    "duration": 5,
    "start_time": "2022-12-26T22:20:31.808Z"
   },
   {
    "duration": 359,
    "start_time": "2022-12-26T22:27:50.566Z"
   },
   {
    "duration": 63,
    "start_time": "2022-12-26T22:30:48.522Z"
   },
   {
    "duration": 11,
    "start_time": "2022-12-26T22:31:01.094Z"
   },
   {
    "duration": 7,
    "start_time": "2022-12-26T22:31:12.235Z"
   },
   {
    "duration": 6,
    "start_time": "2022-12-26T22:31:20.849Z"
   },
   {
    "duration": 55,
    "start_time": "2022-12-26T22:31:46.509Z"
   },
   {
    "duration": 13,
    "start_time": "2022-12-26T22:32:15.169Z"
   },
   {
    "duration": 216,
    "start_time": "2022-12-26T22:32:42.043Z"
   },
   {
    "duration": 173,
    "start_time": "2022-12-26T22:33:28.204Z"
   },
   {
    "duration": 4,
    "start_time": "2022-12-26T22:34:13.928Z"
   },
   {
    "duration": 187,
    "start_time": "2022-12-26T22:34:36.648Z"
   },
   {
    "duration": 186,
    "start_time": "2022-12-26T22:34:43.210Z"
   },
   {
    "duration": 582,
    "start_time": "2022-12-26T22:34:50.030Z"
   },
   {
    "duration": 36,
    "start_time": "2022-12-26T22:34:50.614Z"
   },
   {
    "duration": 3,
    "start_time": "2022-12-26T22:34:50.654Z"
   },
   {
    "duration": 26,
    "start_time": "2022-12-26T22:34:50.659Z"
   },
   {
    "duration": 23,
    "start_time": "2022-12-26T22:34:50.687Z"
   },
   {
    "duration": 56,
    "start_time": "2022-12-26T22:34:50.712Z"
   },
   {
    "duration": 11,
    "start_time": "2022-12-26T22:34:50.769Z"
   },
   {
    "duration": 11,
    "start_time": "2022-12-26T22:34:50.781Z"
   },
   {
    "duration": 18,
    "start_time": "2022-12-26T22:34:50.794Z"
   },
   {
    "duration": 30,
    "start_time": "2022-12-26T22:34:50.813Z"
   },
   {
    "duration": 16,
    "start_time": "2022-12-26T22:34:50.844Z"
   },
   {
    "duration": 13,
    "start_time": "2022-12-26T22:34:50.861Z"
   },
   {
    "duration": 19,
    "start_time": "2022-12-26T22:34:50.875Z"
   },
   {
    "duration": 12,
    "start_time": "2022-12-26T22:34:50.896Z"
   },
   {
    "duration": 280,
    "start_time": "2022-12-26T22:35:01.106Z"
   },
   {
    "duration": 183,
    "start_time": "2022-12-26T22:35:43.387Z"
   },
   {
    "duration": 416,
    "start_time": "2022-12-26T22:48:40.445Z"
   },
   {
    "duration": 32,
    "start_time": "2022-12-26T22:49:17.144Z"
   },
   {
    "duration": 32,
    "start_time": "2022-12-26T22:49:34.213Z"
   },
   {
    "duration": 31,
    "start_time": "2022-12-26T22:49:43.756Z"
   },
   {
    "duration": 32,
    "start_time": "2022-12-26T22:50:04.223Z"
   },
   {
    "duration": 6,
    "start_time": "2022-12-26T22:51:28.342Z"
   },
   {
    "duration": 4,
    "start_time": "2022-12-26T22:51:38.744Z"
   },
   {
    "duration": 4,
    "start_time": "2022-12-26T22:55:37.248Z"
   },
   {
    "duration": 4,
    "start_time": "2022-12-26T22:57:10.883Z"
   },
   {
    "duration": 12,
    "start_time": "2022-12-26T22:59:36.806Z"
   },
   {
    "duration": 7,
    "start_time": "2022-12-26T23:00:33.939Z"
   },
   {
    "duration": 6,
    "start_time": "2022-12-26T23:01:18.481Z"
   },
   {
    "duration": 46,
    "start_time": "2022-12-26T23:02:18.123Z"
   },
   {
    "duration": 4,
    "start_time": "2022-12-26T23:02:39.969Z"
   },
   {
    "duration": 13,
    "start_time": "2022-12-26T23:07:55.439Z"
   },
   {
    "duration": 54,
    "start_time": "2022-12-26T23:09:10.499Z"
   },
   {
    "duration": 31,
    "start_time": "2022-12-26T23:09:22.371Z"
   },
   {
    "duration": 3,
    "start_time": "2022-12-26T23:09:41.417Z"
   },
   {
    "duration": 31,
    "start_time": "2022-12-26T23:09:55.423Z"
   },
   {
    "duration": 699,
    "start_time": "2022-12-26T23:10:15.265Z"
   },
   {
    "duration": 755,
    "start_time": "2022-12-26T23:10:50.317Z"
   },
   {
    "duration": 54,
    "start_time": "2022-12-26T23:10:56.081Z"
   },
   {
    "duration": 779,
    "start_time": "2022-12-26T23:11:36.263Z"
   },
   {
    "duration": 1016,
    "start_time": "2022-12-26T23:11:49.248Z"
   },
   {
    "duration": 35,
    "start_time": "2022-12-26T23:11:50.266Z"
   },
   {
    "duration": 90,
    "start_time": "2022-12-26T23:11:50.303Z"
   },
   {
    "duration": 35,
    "start_time": "2022-12-26T23:11:50.395Z"
   },
   {
    "duration": 87,
    "start_time": "2022-12-26T23:11:50.431Z"
   },
   {
    "duration": 11,
    "start_time": "2022-12-26T23:11:50.520Z"
   },
   {
    "duration": 23,
    "start_time": "2022-12-26T23:11:50.533Z"
   },
   {
    "duration": 30,
    "start_time": "2022-12-26T23:11:50.558Z"
   },
   {
    "duration": 26,
    "start_time": "2022-12-26T23:11:50.590Z"
   },
   {
    "duration": 22,
    "start_time": "2022-12-26T23:11:50.619Z"
   },
   {
    "duration": 15,
    "start_time": "2022-12-26T23:11:50.643Z"
   },
   {
    "duration": 46,
    "start_time": "2022-12-26T23:11:50.660Z"
   },
   {
    "duration": 49,
    "start_time": "2022-12-26T23:11:50.708Z"
   },
   {
    "duration": 36,
    "start_time": "2022-12-26T23:11:50.759Z"
   },
   {
    "duration": 7,
    "start_time": "2022-12-26T23:13:11.638Z"
   },
   {
    "duration": 10,
    "start_time": "2022-12-26T23:13:22.608Z"
   },
   {
    "duration": 11,
    "start_time": "2022-12-26T23:13:37.046Z"
   },
   {
    "duration": 8,
    "start_time": "2022-12-26T23:13:57.153Z"
   },
   {
    "duration": 8,
    "start_time": "2022-12-26T23:14:21.764Z"
   },
   {
    "duration": 12,
    "start_time": "2022-12-26T23:15:24.219Z"
   },
   {
    "duration": 5,
    "start_time": "2022-12-26T23:19:35.532Z"
   },
   {
    "duration": 5,
    "start_time": "2022-12-26T23:19:45.383Z"
   },
   {
    "duration": 5,
    "start_time": "2022-12-26T23:21:42.215Z"
   },
   {
    "duration": 14,
    "start_time": "2022-12-26T23:22:01.923Z"
   },
   {
    "duration": 6,
    "start_time": "2022-12-26T23:22:25.681Z"
   },
   {
    "duration": 50,
    "start_time": "2022-12-26T23:23:56.319Z"
   },
   {
    "duration": 6,
    "start_time": "2022-12-26T23:41:05.899Z"
   },
   {
    "duration": 5,
    "start_time": "2022-12-26T23:50:11.201Z"
   },
   {
    "duration": 145,
    "start_time": "2022-12-26T23:58:42.377Z"
   },
   {
    "duration": 254,
    "start_time": "2022-12-26T23:59:36.542Z"
   },
   {
    "duration": 245,
    "start_time": "2022-12-27T00:00:43.138Z"
   },
   {
    "duration": 242,
    "start_time": "2022-12-27T00:00:47.789Z"
   },
   {
    "duration": 269,
    "start_time": "2022-12-27T00:01:29.398Z"
   },
   {
    "duration": 482,
    "start_time": "2022-12-27T00:03:19.873Z"
   },
   {
    "duration": 390,
    "start_time": "2022-12-27T00:03:38.671Z"
   },
   {
    "duration": 494,
    "start_time": "2022-12-27T00:04:24.586Z"
   },
   {
    "duration": 438,
    "start_time": "2022-12-27T00:04:34.354Z"
   },
   {
    "duration": 401,
    "start_time": "2022-12-27T00:06:16.711Z"
   },
   {
    "duration": 410,
    "start_time": "2022-12-27T00:07:21.686Z"
   },
   {
    "duration": 411,
    "start_time": "2022-12-27T00:07:34.654Z"
   },
   {
    "duration": 470,
    "start_time": "2022-12-27T00:08:22.181Z"
   },
   {
    "duration": 592,
    "start_time": "2022-12-27T00:09:21.059Z"
   },
   {
    "duration": 468,
    "start_time": "2022-12-27T00:09:37.646Z"
   },
   {
    "duration": 442,
    "start_time": "2022-12-27T00:09:49.607Z"
   },
   {
    "duration": 425,
    "start_time": "2022-12-27T00:10:01.083Z"
   },
   {
    "duration": 419,
    "start_time": "2022-12-27T00:10:20.617Z"
   },
   {
    "duration": 419,
    "start_time": "2022-12-27T00:10:32.158Z"
   },
   {
    "duration": 160,
    "start_time": "2022-12-27T00:17:53.522Z"
   },
   {
    "duration": 187,
    "start_time": "2022-12-27T00:18:31.778Z"
   },
   {
    "duration": 197,
    "start_time": "2022-12-27T00:19:38.999Z"
   },
   {
    "duration": 244,
    "start_time": "2022-12-27T00:29:05.618Z"
   },
   {
    "duration": 362,
    "start_time": "2022-12-27T00:30:53.074Z"
   },
   {
    "duration": 274,
    "start_time": "2022-12-27T00:32:26.043Z"
   },
   {
    "duration": 157,
    "start_time": "2022-12-27T00:40:10.777Z"
   },
   {
    "duration": 207,
    "start_time": "2022-12-27T00:40:48.545Z"
   },
   {
    "duration": 207,
    "start_time": "2022-12-27T00:41:55.588Z"
   },
   {
    "duration": 301,
    "start_time": "2022-12-27T00:51:13.451Z"
   },
   {
    "duration": 349,
    "start_time": "2022-12-27T00:52:15.689Z"
   },
   {
    "duration": 14,
    "start_time": "2022-12-27T01:02:25.972Z"
   },
   {
    "duration": 131,
    "start_time": "2022-12-27T01:03:11.777Z"
   },
   {
    "duration": 153,
    "start_time": "2022-12-27T01:05:41.378Z"
   },
   {
    "duration": 143,
    "start_time": "2022-12-27T01:06:05.966Z"
   },
   {
    "duration": 136,
    "start_time": "2022-12-27T01:08:12.449Z"
   },
   {
    "duration": 5,
    "start_time": "2022-12-27T01:13:21.001Z"
   },
   {
    "duration": 45,
    "start_time": "2022-12-27T06:19:21.293Z"
   },
   {
    "duration": 1117,
    "start_time": "2022-12-27T06:19:29.460Z"
   },
   {
    "duration": 70,
    "start_time": "2022-12-27T06:19:30.578Z"
   },
   {
    "duration": 3,
    "start_time": "2022-12-27T06:19:30.650Z"
   },
   {
    "duration": 32,
    "start_time": "2022-12-27T06:19:30.655Z"
   },
   {
    "duration": 39,
    "start_time": "2022-12-27T06:19:30.689Z"
   },
   {
    "duration": 176,
    "start_time": "2022-12-27T06:19:30.729Z"
   },
   {
    "duration": 11,
    "start_time": "2022-12-27T06:19:30.906Z"
   },
   {
    "duration": 37,
    "start_time": "2022-12-27T06:19:30.919Z"
   },
   {
    "duration": 29,
    "start_time": "2022-12-27T06:19:30.958Z"
   },
   {
    "duration": 25,
    "start_time": "2022-12-27T06:19:30.990Z"
   },
   {
    "duration": 27,
    "start_time": "2022-12-27T06:19:31.017Z"
   },
   {
    "duration": 26,
    "start_time": "2022-12-27T06:19:31.046Z"
   },
   {
    "duration": 6,
    "start_time": "2022-12-27T06:19:31.073Z"
   },
   {
    "duration": 19,
    "start_time": "2022-12-27T06:19:31.081Z"
   },
   {
    "duration": 22,
    "start_time": "2022-12-27T06:19:31.102Z"
   },
   {
    "duration": 19,
    "start_time": "2022-12-27T06:19:31.126Z"
   },
   {
    "duration": 549,
    "start_time": "2022-12-27T06:19:31.147Z"
   },
   {
    "duration": 218,
    "start_time": "2022-12-27T06:19:31.698Z"
   },
   {
    "duration": 339,
    "start_time": "2022-12-27T06:19:31.918Z"
   },
   {
    "duration": 209,
    "start_time": "2022-12-27T06:19:32.259Z"
   },
   {
    "duration": 313,
    "start_time": "2022-12-27T06:19:32.469Z"
   },
   {
    "duration": 154,
    "start_time": "2022-12-27T06:19:32.784Z"
   },
   {
    "duration": 5,
    "start_time": "2022-12-27T06:19:32.940Z"
   },
   {
    "duration": 124,
    "start_time": "2022-12-27T06:19:32.946Z"
   },
   {
    "duration": 126,
    "start_time": "2022-12-27T06:21:29.171Z"
   },
   {
    "duration": 246,
    "start_time": "2022-12-27T06:24:59.663Z"
   },
   {
    "duration": 102,
    "start_time": "2022-12-27T06:25:49.686Z"
   },
   {
    "duration": 150,
    "start_time": "2022-12-27T06:27:23.391Z"
   },
   {
    "duration": 149,
    "start_time": "2022-12-27T06:27:31.462Z"
   },
   {
    "duration": 130,
    "start_time": "2022-12-27T06:28:07.697Z"
   },
   {
    "duration": 138,
    "start_time": "2022-12-27T06:28:28.717Z"
   },
   {
    "duration": 121,
    "start_time": "2022-12-27T06:30:31.162Z"
   },
   {
    "duration": 128,
    "start_time": "2022-12-27T06:30:58.193Z"
   },
   {
    "duration": 136,
    "start_time": "2022-12-27T06:31:27.872Z"
   },
   {
    "duration": 134,
    "start_time": "2022-12-27T06:31:35.549Z"
   },
   {
    "duration": 119,
    "start_time": "2022-12-27T06:31:44.932Z"
   },
   {
    "duration": 129,
    "start_time": "2022-12-27T06:35:01.568Z"
   },
   {
    "duration": 210,
    "start_time": "2022-12-27T06:35:18.811Z"
   },
   {
    "duration": 62,
    "start_time": "2022-12-27T12:16:11.578Z"
   },
   {
    "duration": 1370,
    "start_time": "2022-12-27T12:16:18.904Z"
   },
   {
    "duration": 82,
    "start_time": "2022-12-27T12:16:20.277Z"
   },
   {
    "duration": 3,
    "start_time": "2022-12-27T12:16:20.361Z"
   },
   {
    "duration": 39,
    "start_time": "2022-12-27T12:16:20.365Z"
   },
   {
    "duration": 12,
    "start_time": "2022-12-27T12:16:20.406Z"
   },
   {
    "duration": 137,
    "start_time": "2022-12-27T12:16:20.420Z"
   },
   {
    "duration": 11,
    "start_time": "2022-12-27T12:16:20.558Z"
   },
   {
    "duration": 13,
    "start_time": "2022-12-27T12:16:20.570Z"
   },
   {
    "duration": 16,
    "start_time": "2022-12-27T12:16:20.585Z"
   },
   {
    "duration": 25,
    "start_time": "2022-12-27T12:16:20.603Z"
   },
   {
    "duration": 17,
    "start_time": "2022-12-27T12:16:20.630Z"
   },
   {
    "duration": 18,
    "start_time": "2022-12-27T12:16:20.648Z"
   },
   {
    "duration": 9,
    "start_time": "2022-12-27T12:16:20.668Z"
   },
   {
    "duration": 20,
    "start_time": "2022-12-27T12:16:20.679Z"
   },
   {
    "duration": 20,
    "start_time": "2022-12-27T12:16:20.701Z"
   },
   {
    "duration": 6,
    "start_time": "2022-12-27T12:16:20.722Z"
   },
   {
    "duration": 632,
    "start_time": "2022-12-27T12:16:20.730Z"
   },
   {
    "duration": 263,
    "start_time": "2022-12-27T12:16:21.363Z"
   },
   {
    "duration": 396,
    "start_time": "2022-12-27T12:16:21.628Z"
   },
   {
    "duration": 274,
    "start_time": "2022-12-27T12:16:22.026Z"
   },
   {
    "duration": 350,
    "start_time": "2022-12-27T12:16:22.302Z"
   },
   {
    "duration": 171,
    "start_time": "2022-12-27T12:16:22.654Z"
   },
   {
    "duration": 4,
    "start_time": "2022-12-27T12:16:22.826Z"
   },
   {
    "duration": 197,
    "start_time": "2022-12-27T12:16:22.832Z"
   },
   {
    "duration": 167,
    "start_time": "2022-12-27T12:16:23.031Z"
   },
   {
    "duration": 4,
    "start_time": "2022-12-27T12:20:18.819Z"
   },
   {
    "duration": 429,
    "start_time": "2022-12-27T12:54:46.422Z"
   },
   {
    "duration": 487,
    "start_time": "2022-12-27T12:55:08.640Z"
   },
   {
    "duration": 454,
    "start_time": "2022-12-27T12:55:24.539Z"
   },
   {
    "duration": 49,
    "start_time": "2022-12-27T17:47:16.001Z"
   },
   {
    "duration": 1360,
    "start_time": "2022-12-27T17:47:24.204Z"
   },
   {
    "duration": 71,
    "start_time": "2022-12-27T17:47:25.566Z"
   },
   {
    "duration": 91,
    "start_time": "2022-12-27T17:47:25.639Z"
   },
   {
    "duration": 0,
    "start_time": "2022-12-27T17:47:25.732Z"
   },
   {
    "duration": 0,
    "start_time": "2022-12-27T17:47:25.733Z"
   },
   {
    "duration": 0,
    "start_time": "2022-12-27T17:47:25.735Z"
   },
   {
    "duration": 0,
    "start_time": "2022-12-27T17:47:25.736Z"
   },
   {
    "duration": 0,
    "start_time": "2022-12-27T17:47:25.737Z"
   },
   {
    "duration": 0,
    "start_time": "2022-12-27T17:47:25.738Z"
   },
   {
    "duration": 0,
    "start_time": "2022-12-27T17:47:25.739Z"
   },
   {
    "duration": 0,
    "start_time": "2022-12-27T17:47:25.740Z"
   },
   {
    "duration": 0,
    "start_time": "2022-12-27T17:47:25.741Z"
   },
   {
    "duration": 0,
    "start_time": "2022-12-27T17:47:25.742Z"
   },
   {
    "duration": 0,
    "start_time": "2022-12-27T17:47:25.744Z"
   },
   {
    "duration": 0,
    "start_time": "2022-12-27T17:47:25.745Z"
   },
   {
    "duration": 0,
    "start_time": "2022-12-27T17:47:25.746Z"
   },
   {
    "duration": 0,
    "start_time": "2022-12-27T17:47:25.747Z"
   },
   {
    "duration": 0,
    "start_time": "2022-12-27T17:47:25.748Z"
   },
   {
    "duration": 0,
    "start_time": "2022-12-27T17:47:25.749Z"
   },
   {
    "duration": 0,
    "start_time": "2022-12-27T17:47:25.751Z"
   },
   {
    "duration": 0,
    "start_time": "2022-12-27T17:47:25.752Z"
   },
   {
    "duration": 0,
    "start_time": "2022-12-27T17:47:25.753Z"
   },
   {
    "duration": 0,
    "start_time": "2022-12-27T17:47:25.754Z"
   },
   {
    "duration": 0,
    "start_time": "2022-12-27T17:47:25.755Z"
   },
   {
    "duration": 0,
    "start_time": "2022-12-27T17:47:25.756Z"
   },
   {
    "duration": 0,
    "start_time": "2022-12-27T17:47:25.758Z"
   },
   {
    "duration": 0,
    "start_time": "2022-12-27T17:47:25.758Z"
   },
   {
    "duration": 0,
    "start_time": "2022-12-27T17:47:25.759Z"
   },
   {
    "duration": 3,
    "start_time": "2022-12-27T17:48:18.957Z"
   },
   {
    "duration": 13,
    "start_time": "2022-12-27T17:48:50.854Z"
   },
   {
    "duration": 13,
    "start_time": "2022-12-27T17:49:44.207Z"
   },
   {
    "duration": 13,
    "start_time": "2022-12-27T17:49:54.083Z"
   },
   {
    "duration": 20,
    "start_time": "2022-12-27T17:50:27.070Z"
   },
   {
    "duration": 143,
    "start_time": "2022-12-27T17:50:56.097Z"
   },
   {
    "duration": 1102,
    "start_time": "2022-12-27T17:51:02.875Z"
   },
   {
    "duration": 38,
    "start_time": "2022-12-27T17:51:03.979Z"
   },
   {
    "duration": 3,
    "start_time": "2022-12-27T17:51:04.018Z"
   },
   {
    "duration": 21,
    "start_time": "2022-12-27T17:51:04.024Z"
   },
   {
    "duration": 11,
    "start_time": "2022-12-27T17:51:04.047Z"
   },
   {
    "duration": 59,
    "start_time": "2022-12-27T17:51:04.060Z"
   },
   {
    "duration": 13,
    "start_time": "2022-12-27T17:51:04.121Z"
   },
   {
    "duration": 17,
    "start_time": "2022-12-27T17:51:04.135Z"
   },
   {
    "duration": 10,
    "start_time": "2022-12-27T17:51:04.153Z"
   },
   {
    "duration": 9,
    "start_time": "2022-12-27T17:51:04.167Z"
   },
   {
    "duration": 23,
    "start_time": "2022-12-27T17:51:04.178Z"
   },
   {
    "duration": 8,
    "start_time": "2022-12-27T17:51:04.213Z"
   },
   {
    "duration": 13,
    "start_time": "2022-12-27T17:51:04.223Z"
   },
   {
    "duration": 11,
    "start_time": "2022-12-27T17:51:04.237Z"
   },
   {
    "duration": 17,
    "start_time": "2022-12-27T17:51:04.249Z"
   },
   {
    "duration": 6,
    "start_time": "2022-12-27T17:51:04.268Z"
   },
   {
    "duration": 639,
    "start_time": "2022-12-27T17:51:04.276Z"
   },
   {
    "duration": 265,
    "start_time": "2022-12-27T17:51:04.918Z"
   },
   {
    "duration": 361,
    "start_time": "2022-12-27T17:51:05.185Z"
   },
   {
    "duration": 255,
    "start_time": "2022-12-27T17:51:05.548Z"
   },
   {
    "duration": 368,
    "start_time": "2022-12-27T17:51:05.805Z"
   },
   {
    "duration": 209,
    "start_time": "2022-12-27T17:51:06.175Z"
   },
   {
    "duration": 7,
    "start_time": "2022-12-27T17:51:06.386Z"
   },
   {
    "duration": 213,
    "start_time": "2022-12-27T17:51:06.395Z"
   },
   {
    "duration": 157,
    "start_time": "2022-12-27T17:51:06.612Z"
   },
   {
    "duration": 5,
    "start_time": "2022-12-27T17:51:06.771Z"
   },
   {
    "duration": 461,
    "start_time": "2022-12-27T17:51:06.778Z"
   },
   {
    "duration": 107,
    "start_time": "2022-12-27T17:51:07.242Z"
   },
   {
    "duration": 11,
    "start_time": "2022-12-27T18:13:24.098Z"
   },
   {
    "duration": 753,
    "start_time": "2022-12-27T18:39:35.735Z"
   },
   {
    "duration": 8,
    "start_time": "2022-12-27T18:46:57.352Z"
   },
   {
    "duration": 26,
    "start_time": "2022-12-27T18:50:29.170Z"
   },
   {
    "duration": 726,
    "start_time": "2022-12-27T19:08:06.741Z"
   },
   {
    "duration": 14,
    "start_time": "2022-12-27T19:09:08.401Z"
   },
   {
    "duration": 1032,
    "start_time": "2022-12-27T19:11:14.465Z"
   },
   {
    "duration": 37,
    "start_time": "2022-12-27T19:11:15.499Z"
   },
   {
    "duration": 3,
    "start_time": "2022-12-27T19:11:15.537Z"
   },
   {
    "duration": 15,
    "start_time": "2022-12-27T19:11:15.542Z"
   },
   {
    "duration": 10,
    "start_time": "2022-12-27T19:11:15.558Z"
   },
   {
    "duration": 50,
    "start_time": "2022-12-27T19:11:15.569Z"
   },
   {
    "duration": 11,
    "start_time": "2022-12-27T19:11:15.621Z"
   },
   {
    "duration": 16,
    "start_time": "2022-12-27T19:11:15.633Z"
   },
   {
    "duration": 14,
    "start_time": "2022-12-27T19:11:15.650Z"
   },
   {
    "duration": 8,
    "start_time": "2022-12-27T19:11:15.667Z"
   },
   {
    "duration": 26,
    "start_time": "2022-12-27T19:11:15.677Z"
   },
   {
    "duration": 12,
    "start_time": "2022-12-27T19:11:15.705Z"
   },
   {
    "duration": 15,
    "start_time": "2022-12-27T19:11:15.719Z"
   },
   {
    "duration": 9,
    "start_time": "2022-12-27T19:11:15.735Z"
   },
   {
    "duration": 13,
    "start_time": "2022-12-27T19:11:15.746Z"
   },
   {
    "duration": 6,
    "start_time": "2022-12-27T19:11:15.761Z"
   },
   {
    "duration": 548,
    "start_time": "2022-12-27T19:11:15.768Z"
   },
   {
    "duration": 258,
    "start_time": "2022-12-27T19:11:16.318Z"
   },
   {
    "duration": 341,
    "start_time": "2022-12-27T19:11:16.578Z"
   },
   {
    "duration": 250,
    "start_time": "2022-12-27T19:11:16.921Z"
   },
   {
    "duration": 367,
    "start_time": "2022-12-27T19:11:17.173Z"
   },
   {
    "duration": 153,
    "start_time": "2022-12-27T19:11:17.542Z"
   },
   {
    "duration": 4,
    "start_time": "2022-12-27T19:11:17.697Z"
   },
   {
    "duration": 149,
    "start_time": "2022-12-27T19:11:17.703Z"
   },
   {
    "duration": 138,
    "start_time": "2022-12-27T19:11:17.853Z"
   },
   {
    "duration": 4,
    "start_time": "2022-12-27T19:11:17.992Z"
   },
   {
    "duration": 417,
    "start_time": "2022-12-27T19:11:18.011Z"
   },
   {
    "duration": 10,
    "start_time": "2022-12-27T19:11:18.431Z"
   },
   {
    "duration": 9,
    "start_time": "2022-12-27T19:11:18.442Z"
   },
   {
    "duration": 26,
    "start_time": "2022-12-27T19:11:18.453Z"
   },
   {
    "duration": 32,
    "start_time": "2022-12-27T19:11:18.481Z"
   },
   {
    "duration": 5,
    "start_time": "2022-12-27T20:00:54.746Z"
   },
   {
    "duration": 48,
    "start_time": "2022-12-28T05:19:10.281Z"
   },
   {
    "duration": 1334,
    "start_time": "2022-12-28T05:19:18.216Z"
   },
   {
    "duration": 71,
    "start_time": "2022-12-28T05:19:19.552Z"
   },
   {
    "duration": 3,
    "start_time": "2022-12-28T05:19:19.625Z"
   },
   {
    "duration": 15,
    "start_time": "2022-12-28T05:19:19.631Z"
   },
   {
    "duration": 12,
    "start_time": "2022-12-28T05:19:19.648Z"
   },
   {
    "duration": 135,
    "start_time": "2022-12-28T05:19:19.661Z"
   },
   {
    "duration": 11,
    "start_time": "2022-12-28T05:19:19.798Z"
   },
   {
    "duration": 13,
    "start_time": "2022-12-28T05:19:19.811Z"
   },
   {
    "duration": 10,
    "start_time": "2022-12-28T05:19:19.826Z"
   },
   {
    "duration": 7,
    "start_time": "2022-12-28T05:19:19.838Z"
   },
   {
    "duration": 19,
    "start_time": "2022-12-28T05:19:19.846Z"
   },
   {
    "duration": 15,
    "start_time": "2022-12-28T05:19:19.867Z"
   },
   {
    "duration": 9,
    "start_time": "2022-12-28T05:19:19.883Z"
   },
   {
    "duration": 11,
    "start_time": "2022-12-28T05:19:19.893Z"
   },
   {
    "duration": 39,
    "start_time": "2022-12-28T05:19:19.905Z"
   },
   {
    "duration": 6,
    "start_time": "2022-12-28T05:19:19.945Z"
   },
   {
    "duration": 595,
    "start_time": "2022-12-28T05:19:19.953Z"
   },
   {
    "duration": 240,
    "start_time": "2022-12-28T05:19:20.549Z"
   },
   {
    "duration": 399,
    "start_time": "2022-12-28T05:19:20.791Z"
   },
   {
    "duration": 243,
    "start_time": "2022-12-28T05:19:21.192Z"
   },
   {
    "duration": 364,
    "start_time": "2022-12-28T05:19:21.437Z"
   },
   {
    "duration": 167,
    "start_time": "2022-12-28T05:19:21.802Z"
   },
   {
    "duration": 5,
    "start_time": "2022-12-28T05:19:21.970Z"
   },
   {
    "duration": 179,
    "start_time": "2022-12-28T05:19:21.976Z"
   },
   {
    "duration": 156,
    "start_time": "2022-12-28T05:19:22.156Z"
   },
   {
    "duration": 4,
    "start_time": "2022-12-28T05:19:22.313Z"
   },
   {
    "duration": 474,
    "start_time": "2022-12-28T05:19:22.319Z"
   },
   {
    "duration": 10,
    "start_time": "2022-12-28T05:19:22.796Z"
   },
   {
    "duration": 29,
    "start_time": "2022-12-28T05:19:22.807Z"
   },
   {
    "duration": 35,
    "start_time": "2022-12-28T05:19:22.838Z"
   },
   {
    "duration": 12,
    "start_time": "2022-12-28T05:19:22.875Z"
   },
   {
    "duration": 31,
    "start_time": "2022-12-28T05:20:04.322Z"
   },
   {
    "duration": 1038,
    "start_time": "2022-12-28T05:20:52.131Z"
   },
   {
    "duration": 44,
    "start_time": "2022-12-28T05:22:09.558Z"
   },
   {
    "duration": 73,
    "start_time": "2022-12-28T05:22:37.048Z"
   },
   {
    "duration": 1165,
    "start_time": "2022-12-28T05:22:48.844Z"
   },
   {
    "duration": 47,
    "start_time": "2022-12-28T05:22:50.011Z"
   },
   {
    "duration": 52,
    "start_time": "2022-12-28T05:22:50.060Z"
   },
   {
    "duration": 0,
    "start_time": "2022-12-28T05:22:50.115Z"
   },
   {
    "duration": 0,
    "start_time": "2022-12-28T05:22:50.116Z"
   },
   {
    "duration": 0,
    "start_time": "2022-12-28T05:22:50.117Z"
   },
   {
    "duration": 0,
    "start_time": "2022-12-28T05:22:50.119Z"
   },
   {
    "duration": 0,
    "start_time": "2022-12-28T05:22:50.120Z"
   },
   {
    "duration": 0,
    "start_time": "2022-12-28T05:22:50.121Z"
   },
   {
    "duration": 0,
    "start_time": "2022-12-28T05:22:50.122Z"
   },
   {
    "duration": 0,
    "start_time": "2022-12-28T05:22:50.123Z"
   },
   {
    "duration": 0,
    "start_time": "2022-12-28T05:22:50.124Z"
   },
   {
    "duration": 0,
    "start_time": "2022-12-28T05:22:50.126Z"
   },
   {
    "duration": 0,
    "start_time": "2022-12-28T05:22:50.127Z"
   },
   {
    "duration": 0,
    "start_time": "2022-12-28T05:22:50.128Z"
   },
   {
    "duration": 0,
    "start_time": "2022-12-28T05:22:50.129Z"
   },
   {
    "duration": 0,
    "start_time": "2022-12-28T05:22:50.130Z"
   },
   {
    "duration": 0,
    "start_time": "2022-12-28T05:22:50.132Z"
   },
   {
    "duration": 0,
    "start_time": "2022-12-28T05:22:50.133Z"
   },
   {
    "duration": 0,
    "start_time": "2022-12-28T05:22:50.134Z"
   },
   {
    "duration": 0,
    "start_time": "2022-12-28T05:22:50.136Z"
   },
   {
    "duration": 0,
    "start_time": "2022-12-28T05:22:50.137Z"
   },
   {
    "duration": 0,
    "start_time": "2022-12-28T05:22:50.138Z"
   },
   {
    "duration": 0,
    "start_time": "2022-12-28T05:22:50.140Z"
   },
   {
    "duration": 0,
    "start_time": "2022-12-28T05:22:50.141Z"
   },
   {
    "duration": 0,
    "start_time": "2022-12-28T05:22:50.142Z"
   },
   {
    "duration": 0,
    "start_time": "2022-12-28T05:22:50.143Z"
   },
   {
    "duration": 0,
    "start_time": "2022-12-28T05:22:50.144Z"
   },
   {
    "duration": 0,
    "start_time": "2022-12-28T05:22:50.145Z"
   },
   {
    "duration": 0,
    "start_time": "2022-12-28T05:22:50.146Z"
   },
   {
    "duration": 0,
    "start_time": "2022-12-28T05:22:50.147Z"
   },
   {
    "duration": 0,
    "start_time": "2022-12-28T05:22:50.148Z"
   },
   {
    "duration": 911,
    "start_time": "2022-12-28T05:25:08.475Z"
   },
   {
    "duration": 4,
    "start_time": "2022-12-28T05:25:44.713Z"
   },
   {
    "duration": 15,
    "start_time": "2022-12-28T05:25:49.554Z"
   },
   {
    "duration": 15,
    "start_time": "2022-12-28T05:27:07.786Z"
   },
   {
    "duration": 57,
    "start_time": "2022-12-28T05:27:25.848Z"
   },
   {
    "duration": 13,
    "start_time": "2022-12-28T05:31:57.782Z"
   },
   {
    "duration": 104,
    "start_time": "2022-12-28T05:49:11.806Z"
   },
   {
    "duration": 60,
    "start_time": "2022-12-28T05:49:27.595Z"
   },
   {
    "duration": 13,
    "start_time": "2022-12-28T05:49:36.181Z"
   },
   {
    "duration": 8,
    "start_time": "2022-12-28T05:49:40.145Z"
   },
   {
    "duration": 7,
    "start_time": "2022-12-28T05:49:44.202Z"
   },
   {
    "duration": 6,
    "start_time": "2022-12-28T05:49:49.469Z"
   },
   {
    "duration": 13,
    "start_time": "2022-12-28T05:49:52.689Z"
   },
   {
    "duration": 8,
    "start_time": "2022-12-28T05:49:56.217Z"
   },
   {
    "duration": 6,
    "start_time": "2022-12-28T05:49:59.613Z"
   },
   {
    "duration": 4,
    "start_time": "2022-12-28T05:50:03.993Z"
   },
   {
    "duration": 15,
    "start_time": "2022-12-28T05:50:11.476Z"
   },
   {
    "duration": 7,
    "start_time": "2022-12-28T05:50:23.040Z"
   },
   {
    "duration": 1114,
    "start_time": "2022-12-28T05:50:42.880Z"
   },
   {
    "duration": 38,
    "start_time": "2022-12-28T05:50:43.997Z"
   },
   {
    "duration": 5,
    "start_time": "2022-12-28T05:50:44.037Z"
   },
   {
    "duration": 22,
    "start_time": "2022-12-28T05:50:44.044Z"
   },
   {
    "duration": 11,
    "start_time": "2022-12-28T05:50:44.069Z"
   },
   {
    "duration": 58,
    "start_time": "2022-12-28T05:50:44.082Z"
   },
   {
    "duration": 17,
    "start_time": "2022-12-28T05:50:44.143Z"
   },
   {
    "duration": 21,
    "start_time": "2022-12-28T05:50:44.162Z"
   },
   {
    "duration": 27,
    "start_time": "2022-12-28T05:50:44.185Z"
   },
   {
    "duration": 21,
    "start_time": "2022-12-28T05:50:44.215Z"
   },
   {
    "duration": 30,
    "start_time": "2022-12-28T05:50:44.238Z"
   },
   {
    "duration": 33,
    "start_time": "2022-12-28T05:50:44.270Z"
   },
   {
    "duration": 21,
    "start_time": "2022-12-28T05:50:44.305Z"
   },
   {
    "duration": 10,
    "start_time": "2022-12-28T05:50:44.331Z"
   },
   {
    "duration": 24,
    "start_time": "2022-12-28T05:50:44.343Z"
   },
   {
    "duration": 8,
    "start_time": "2022-12-28T05:50:44.368Z"
   },
   {
    "duration": 598,
    "start_time": "2022-12-28T05:50:44.378Z"
   },
   {
    "duration": 250,
    "start_time": "2022-12-28T05:50:44.978Z"
   },
   {
    "duration": 350,
    "start_time": "2022-12-28T05:50:45.230Z"
   },
   {
    "duration": 261,
    "start_time": "2022-12-28T05:50:45.582Z"
   },
   {
    "duration": 374,
    "start_time": "2022-12-28T05:50:45.845Z"
   },
   {
    "duration": 177,
    "start_time": "2022-12-28T05:50:46.221Z"
   },
   {
    "duration": 5,
    "start_time": "2022-12-28T05:50:46.400Z"
   },
   {
    "duration": 187,
    "start_time": "2022-12-28T05:50:46.406Z"
   },
   {
    "duration": 185,
    "start_time": "2022-12-28T05:50:46.595Z"
   },
   {
    "duration": 6,
    "start_time": "2022-12-28T05:50:46.782Z"
   },
   {
    "duration": 480,
    "start_time": "2022-12-28T05:50:46.789Z"
   },
   {
    "duration": 11,
    "start_time": "2022-12-28T05:50:47.270Z"
   },
   {
    "duration": 41,
    "start_time": "2022-12-28T05:50:47.282Z"
   },
   {
    "duration": 36,
    "start_time": "2022-12-28T05:50:47.325Z"
   },
   {
    "duration": 15,
    "start_time": "2022-12-28T05:50:47.363Z"
   },
   {
    "duration": 8,
    "start_time": "2022-12-28T05:51:32.596Z"
   },
   {
    "duration": 7,
    "start_time": "2022-12-28T05:52:06.841Z"
   },
   {
    "duration": 13,
    "start_time": "2022-12-28T05:52:49.237Z"
   },
   {
    "duration": 11,
    "start_time": "2022-12-28T05:53:05.960Z"
   },
   {
    "duration": 13,
    "start_time": "2022-12-28T05:54:07.439Z"
   },
   {
    "duration": 13,
    "start_time": "2022-12-28T05:54:19.230Z"
   },
   {
    "duration": 353,
    "start_time": "2022-12-28T06:00:50.953Z"
   },
   {
    "duration": 355,
    "start_time": "2022-12-28T06:01:02.946Z"
   },
   {
    "duration": 374,
    "start_time": "2022-12-28T06:01:26.894Z"
   },
   {
    "duration": 365,
    "start_time": "2022-12-28T06:01:43.644Z"
   },
   {
    "duration": 386,
    "start_time": "2022-12-28T06:04:12.693Z"
   },
   {
    "duration": 46,
    "start_time": "2022-12-28T06:05:49.452Z"
   },
   {
    "duration": 12,
    "start_time": "2022-12-28T06:08:29.450Z"
   },
   {
    "duration": 11,
    "start_time": "2022-12-28T06:09:03.967Z"
   },
   {
    "duration": 11,
    "start_time": "2022-12-28T06:09:11.066Z"
   },
   {
    "duration": 47,
    "start_time": "2022-12-28T06:27:46.567Z"
   },
   {
    "duration": 122,
    "start_time": "2022-12-28T06:31:05.675Z"
   },
   {
    "duration": 10,
    "start_time": "2022-12-28T06:31:28.454Z"
   },
   {
    "duration": 12,
    "start_time": "2022-12-28T06:32:36.713Z"
   },
   {
    "duration": 12,
    "start_time": "2022-12-28T06:32:42.321Z"
   },
   {
    "duration": 57,
    "start_time": "2022-12-28T06:33:06.804Z"
   },
   {
    "duration": 10,
    "start_time": "2022-12-28T06:33:45.649Z"
   },
   {
    "duration": 58,
    "start_time": "2022-12-28T06:34:19.064Z"
   },
   {
    "duration": 67,
    "start_time": "2022-12-28T06:34:30.606Z"
   },
   {
    "duration": 51,
    "start_time": "2022-12-28T06:34:42.327Z"
   },
   {
    "duration": 29,
    "start_time": "2022-12-28T06:34:51.147Z"
   },
   {
    "duration": 44,
    "start_time": "2022-12-28T06:35:00.897Z"
   },
   {
    "duration": 20,
    "start_time": "2022-12-28T06:36:22.556Z"
   },
   {
    "duration": 21,
    "start_time": "2022-12-28T06:36:39.263Z"
   }
  ],
  "kernelspec": {
   "display_name": "Python 3 (ipykernel)",
   "language": "python",
   "name": "python3"
  },
  "language_info": {
   "codemirror_mode": {
    "name": "ipython",
    "version": 3
   },
   "file_extension": ".py",
   "mimetype": "text/x-python",
   "name": "python",
   "nbconvert_exporter": "python",
   "pygments_lexer": "ipython3",
   "version": "3.9.13"
  },
  "toc": {
   "base_numbering": 1,
   "nav_menu": {},
   "number_sections": true,
   "sideBar": true,
   "skip_h1_title": true,
   "title_cell": "Содержание",
   "title_sidebar": "Contents",
   "toc_cell": true,
   "toc_position": {
    "height": "calc(100% - 180px)",
    "left": "10px",
    "top": "150px",
    "width": "358.177px"
   },
   "toc_section_display": true,
   "toc_window_display": true
  }
 },
 "nbformat": 4,
 "nbformat_minor": 2
}
