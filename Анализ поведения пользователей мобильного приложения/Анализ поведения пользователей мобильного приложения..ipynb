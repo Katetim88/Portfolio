{
 "cells": [
  {
   "cell_type": "markdown",
   "metadata": {
    "toc": true
   },
   "source": [
    "<h1>Содержание<span class=\"tocSkip\"></span></h1>\n",
    "<div class=\"toc\"><ul class=\"toc-item\"><li><span><a href=\"#Предобработка-данных\" data-toc-modified-id=\"Предобработка-данных-1\"><span class=\"toc-item-num\">1&nbsp;&nbsp;</span>Предобработка данных</a></span></li><li><span><a href=\"#Изучение-и-проверка-данных\" data-toc-modified-id=\"Изучение-и-проверка-данных-2\"><span class=\"toc-item-num\">2&nbsp;&nbsp;</span>Изучение и проверка данных</a></span></li><li><span><a href=\"#Изучение-воронки-событий.\" data-toc-modified-id=\"Изучение-воронки-событий.-3\"><span class=\"toc-item-num\">3&nbsp;&nbsp;</span>Изучение воронки событий.</a></span></li><li><span><a href=\"#Изучение-результатов-эксперимента.\" data-toc-modified-id=\"Изучение-результатов-эксперимента.-4\"><span class=\"toc-item-num\">4&nbsp;&nbsp;</span>Изучение результатов эксперимента.</a></span></li><li><span><a href=\"#Выводы\" data-toc-modified-id=\"Выводы-5\"><span class=\"toc-item-num\">5&nbsp;&nbsp;</span>Выводы</a></span></li></ul></div>"
   ]
  },
  {
   "cell_type": "markdown",
   "metadata": {},
   "source": [
    "# Анализ поведения  пользователей мобильного приложения.\n",
    "\n",
    "В нашем распоряжении данные стартапа, который продаёт продукты питания.\n",
    "\n",
    "Цель исследования разобраться, как ведут себя пользователи мобильного приложения, а именно: \n",
    "- Изучить воронку продаж. \n",
    "- Узнать, как пользователи доходят до покупки. \n",
    "- Узнать сколько пользователей доходит до покупки, а сколько — «застревает» на предыдущих шагах? На каких именно?\n",
    "- Исследовать результаты A/A/B-эксперимента. Дизайнеры захотели поменять шрифты во всём приложении, а менеджеры испугались, что пользователям будет непривычно. Договорились принять решение по результатам A/A/B-теста. Пользователей разбили на 3 группы: 2 контрольные со старыми шрифтами и одну экспериментальную — с новыми. Нужно выяснить, какой шрифт лучше.\n",
    "\n",
    "Исследование пройдет следующие этапы:\n",
    "- Предобработка данных.\n",
    "- Изучение и проверка данных.\n",
    "- Изучение воронки событий.\n",
    "- Изучение результатов эксперимента\n",
    "\n",
    "Описание данных:\n",
    "- EventName — название события;\n",
    "- DeviceIDHash — уникальный идентификатор пользователя;\n",
    "- EventTimestamp — время события;\n",
    "- ExpId — номер эксперимента: 246 и 247 — контрольные группы, а 248 — экспериментальная.\n",
    "\n",
    "## Предобработка данных"
   ]
  },
  {
   "cell_type": "code",
   "execution_count": 1,
   "metadata": {},
   "outputs": [],
   "source": [
    "import pandas as pd\n",
    "import datetime as dt\n",
    "import numpy as np\n",
    "import matplotlib.pyplot as plt\n",
    "from scipy import stats as st\n",
    "from IPython.display import display\n",
    "from plotly import graph_objects as go\n",
    "import math as mth\n",
    "import plotly.io as pio\n",
    "pio.renderers.default = \"png\""
   ]
  },
  {
   "cell_type": "code",
   "execution_count": 2,
   "metadata": {},
   "outputs": [],
   "source": [
    "data = pd.read_csv('/datasets/logs_exp.csv',  sep='\\t')"
   ]
  },
  {
   "cell_type": "code",
   "execution_count": 3,
   "metadata": {},
   "outputs": [
    {
     "data": {
      "text/html": [
       "<div>\n",
       "<style scoped>\n",
       "    .dataframe tbody tr th:only-of-type {\n",
       "        vertical-align: middle;\n",
       "    }\n",
       "\n",
       "    .dataframe tbody tr th {\n",
       "        vertical-align: top;\n",
       "    }\n",
       "\n",
       "    .dataframe thead th {\n",
       "        text-align: right;\n",
       "    }\n",
       "</style>\n",
       "<table border=\"1\" class=\"dataframe\">\n",
       "  <thead>\n",
       "    <tr style=\"text-align: right;\">\n",
       "      <th></th>\n",
       "      <th>EventName</th>\n",
       "      <th>DeviceIDHash</th>\n",
       "      <th>EventTimestamp</th>\n",
       "      <th>ExpId</th>\n",
       "    </tr>\n",
       "  </thead>\n",
       "  <tbody>\n",
       "    <tr>\n",
       "      <th>0</th>\n",
       "      <td>MainScreenAppear</td>\n",
       "      <td>4575588528974610257</td>\n",
       "      <td>1564029816</td>\n",
       "      <td>246</td>\n",
       "    </tr>\n",
       "    <tr>\n",
       "      <th>1</th>\n",
       "      <td>MainScreenAppear</td>\n",
       "      <td>7416695313311560658</td>\n",
       "      <td>1564053102</td>\n",
       "      <td>246</td>\n",
       "    </tr>\n",
       "    <tr>\n",
       "      <th>2</th>\n",
       "      <td>PaymentScreenSuccessful</td>\n",
       "      <td>3518123091307005509</td>\n",
       "      <td>1564054127</td>\n",
       "      <td>248</td>\n",
       "    </tr>\n",
       "    <tr>\n",
       "      <th>3</th>\n",
       "      <td>CartScreenAppear</td>\n",
       "      <td>3518123091307005509</td>\n",
       "      <td>1564054127</td>\n",
       "      <td>248</td>\n",
       "    </tr>\n",
       "    <tr>\n",
       "      <th>4</th>\n",
       "      <td>PaymentScreenSuccessful</td>\n",
       "      <td>6217807653094995999</td>\n",
       "      <td>1564055322</td>\n",
       "      <td>248</td>\n",
       "    </tr>\n",
       "  </tbody>\n",
       "</table>\n",
       "</div>"
      ],
      "text/plain": [
       "                 EventName         DeviceIDHash  EventTimestamp  ExpId\n",
       "0         MainScreenAppear  4575588528974610257      1564029816    246\n",
       "1         MainScreenAppear  7416695313311560658      1564053102    246\n",
       "2  PaymentScreenSuccessful  3518123091307005509      1564054127    248\n",
       "3         CartScreenAppear  3518123091307005509      1564054127    248\n",
       "4  PaymentScreenSuccessful  6217807653094995999      1564055322    248"
      ]
     },
     "execution_count": 3,
     "metadata": {},
     "output_type": "execute_result"
    }
   ],
   "source": [
    "data.head()"
   ]
  },
  {
   "cell_type": "markdown",
   "metadata": {},
   "source": [
    "Заменим названия столбцов на более удобные."
   ]
  },
  {
   "cell_type": "code",
   "execution_count": 4,
   "metadata": {},
   "outputs": [],
   "source": [
    "data=data.rename(columns={'EventName':'event_name', 'DeviceIDHash':'user_id', \n",
    "                          'EventTimestamp':'timestamp','ExpId':'exp_id' })"
   ]
  },
  {
   "cell_type": "code",
   "execution_count": 5,
   "metadata": {},
   "outputs": [
    {
     "name": "stdout",
     "output_type": "stream",
     "text": [
      "<class 'pandas.core.frame.DataFrame'>\n",
      "RangeIndex: 244126 entries, 0 to 244125\n",
      "Data columns (total 4 columns):\n",
      " #   Column      Non-Null Count   Dtype \n",
      "---  ------      --------------   ----- \n",
      " 0   event_name  244126 non-null  object\n",
      " 1   user_id     244126 non-null  int64 \n",
      " 2   timestamp   244126 non-null  int64 \n",
      " 3   exp_id      244126 non-null  int64 \n",
      "dtypes: int64(3), object(1)\n",
      "memory usage: 7.5+ MB\n"
     ]
    }
   ],
   "source": [
    "data.info()"
   ]
  },
  {
   "cell_type": "markdown",
   "metadata": {},
   "source": [
    "Пропусков в данных не обнаружено. Добавим столбец даты и времени 'event_time' и столбец даты 'event_date'"
   ]
  },
  {
   "cell_type": "code",
   "execution_count": 6,
   "metadata": {},
   "outputs": [
    {
     "data": {
      "text/html": [
       "<div>\n",
       "<style scoped>\n",
       "    .dataframe tbody tr th:only-of-type {\n",
       "        vertical-align: middle;\n",
       "    }\n",
       "\n",
       "    .dataframe tbody tr th {\n",
       "        vertical-align: top;\n",
       "    }\n",
       "\n",
       "    .dataframe thead th {\n",
       "        text-align: right;\n",
       "    }\n",
       "</style>\n",
       "<table border=\"1\" class=\"dataframe\">\n",
       "  <thead>\n",
       "    <tr style=\"text-align: right;\">\n",
       "      <th></th>\n",
       "      <th>event_name</th>\n",
       "      <th>user_id</th>\n",
       "      <th>timestamp</th>\n",
       "      <th>exp_id</th>\n",
       "      <th>event_time</th>\n",
       "      <th>event_date</th>\n",
       "    </tr>\n",
       "  </thead>\n",
       "  <tbody>\n",
       "    <tr>\n",
       "      <th>0</th>\n",
       "      <td>MainScreenAppear</td>\n",
       "      <td>4575588528974610257</td>\n",
       "      <td>1564029816</td>\n",
       "      <td>246</td>\n",
       "      <td>2019-07-25 04:43:36</td>\n",
       "      <td>2019-07-25</td>\n",
       "    </tr>\n",
       "    <tr>\n",
       "      <th>1</th>\n",
       "      <td>MainScreenAppear</td>\n",
       "      <td>7416695313311560658</td>\n",
       "      <td>1564053102</td>\n",
       "      <td>246</td>\n",
       "      <td>2019-07-25 11:11:42</td>\n",
       "      <td>2019-07-25</td>\n",
       "    </tr>\n",
       "    <tr>\n",
       "      <th>2</th>\n",
       "      <td>PaymentScreenSuccessful</td>\n",
       "      <td>3518123091307005509</td>\n",
       "      <td>1564054127</td>\n",
       "      <td>248</td>\n",
       "      <td>2019-07-25 11:28:47</td>\n",
       "      <td>2019-07-25</td>\n",
       "    </tr>\n",
       "    <tr>\n",
       "      <th>3</th>\n",
       "      <td>CartScreenAppear</td>\n",
       "      <td>3518123091307005509</td>\n",
       "      <td>1564054127</td>\n",
       "      <td>248</td>\n",
       "      <td>2019-07-25 11:28:47</td>\n",
       "      <td>2019-07-25</td>\n",
       "    </tr>\n",
       "    <tr>\n",
       "      <th>4</th>\n",
       "      <td>PaymentScreenSuccessful</td>\n",
       "      <td>6217807653094995999</td>\n",
       "      <td>1564055322</td>\n",
       "      <td>248</td>\n",
       "      <td>2019-07-25 11:48:42</td>\n",
       "      <td>2019-07-25</td>\n",
       "    </tr>\n",
       "  </tbody>\n",
       "</table>\n",
       "</div>"
      ],
      "text/plain": [
       "                event_name              user_id   timestamp  exp_id  \\\n",
       "0         MainScreenAppear  4575588528974610257  1564029816     246   \n",
       "1         MainScreenAppear  7416695313311560658  1564053102     246   \n",
       "2  PaymentScreenSuccessful  3518123091307005509  1564054127     248   \n",
       "3         CartScreenAppear  3518123091307005509  1564054127     248   \n",
       "4  PaymentScreenSuccessful  6217807653094995999  1564055322     248   \n",
       "\n",
       "           event_time  event_date  \n",
       "0 2019-07-25 04:43:36  2019-07-25  \n",
       "1 2019-07-25 11:11:42  2019-07-25  \n",
       "2 2019-07-25 11:28:47  2019-07-25  \n",
       "3 2019-07-25 11:28:47  2019-07-25  \n",
       "4 2019-07-25 11:48:42  2019-07-25  "
      ]
     },
     "execution_count": 6,
     "metadata": {},
     "output_type": "execute_result"
    }
   ],
   "source": [
    "data['event_time'] = pd.to_datetime(data['timestamp'], unit='s')\n",
    "data['event_date'] = data['event_time'].dt.date\n",
    "data.head()"
   ]
  },
  {
   "cell_type": "markdown",
   "metadata": {},
   "source": [
    "Проверим данные на наличие явных дубликатов."
   ]
  },
  {
   "cell_type": "code",
   "execution_count": 7,
   "metadata": {},
   "outputs": [
    {
     "name": "stdout",
     "output_type": "stream",
     "text": [
      "Всего явных дубликатов: 413\n",
      "Доля дубликатов от всех данных: 0.17% - не превышает 5%, можем их удалить.\n"
     ]
    }
   ],
   "source": [
    "if data.duplicated().sum()>0:\n",
    "    print(f'Всего явных дубликатов: {data.duplicated().sum()}') \n",
    "    if data.duplicated().sum()/len(data) < 0.05:\n",
    "        print(f'Доля дубликатов от всех данных: {(data.duplicated().sum())/len(data):.2%} - не превышает 5%, можем их удалить.')\n",
    "    else:\n",
    "        print(f'Доля дубликатов от всех данных: {(data.duplicated().sum())/len(data):.2%} - превышает 5%, необходимо изучить их.')\n",
    "else:\n",
    "    print('Явных дубликатов не обнаружено')             "
   ]
  },
  {
   "cell_type": "code",
   "execution_count": 8,
   "metadata": {},
   "outputs": [
    {
     "data": {
      "text/plain": [
       "0"
      ]
     },
     "execution_count": 8,
     "metadata": {},
     "output_type": "execute_result"
    }
   ],
   "source": [
    "data = data.drop_duplicates().reset_index()\n",
    "data.duplicated().sum()"
   ]
  },
  {
   "cell_type": "markdown",
   "metadata": {},
   "source": [
    "Для удобства сосздадим колонку 'group',  в которой контрольные группы обозначим А1 и А2, а экспериментальную В"
   ]
  },
  {
   "cell_type": "code",
   "execution_count": 9,
   "metadata": {},
   "outputs": [],
   "source": [
    "def categorize_group(number):\n",
    "    if number == 246:\n",
    "        return 'A1'\n",
    "    elif number == 247:\n",
    "        return 'A2'\n",
    "    elif number == 248:\n",
    "        return 'B'      "
   ]
  },
  {
   "cell_type": "code",
   "execution_count": 10,
   "metadata": {},
   "outputs": [
    {
     "data": {
      "text/html": [
       "<div>\n",
       "<style scoped>\n",
       "    .dataframe tbody tr th:only-of-type {\n",
       "        vertical-align: middle;\n",
       "    }\n",
       "\n",
       "    .dataframe tbody tr th {\n",
       "        vertical-align: top;\n",
       "    }\n",
       "\n",
       "    .dataframe thead th {\n",
       "        text-align: right;\n",
       "    }\n",
       "</style>\n",
       "<table border=\"1\" class=\"dataframe\">\n",
       "  <thead>\n",
       "    <tr style=\"text-align: right;\">\n",
       "      <th></th>\n",
       "      <th>exp_id</th>\n",
       "      <th>group</th>\n",
       "    </tr>\n",
       "  </thead>\n",
       "  <tbody>\n",
       "    <tr>\n",
       "      <th>0</th>\n",
       "      <td>246</td>\n",
       "      <td>A1</td>\n",
       "    </tr>\n",
       "    <tr>\n",
       "      <th>1</th>\n",
       "      <td>246</td>\n",
       "      <td>A1</td>\n",
       "    </tr>\n",
       "    <tr>\n",
       "      <th>2</th>\n",
       "      <td>248</td>\n",
       "      <td>B</td>\n",
       "    </tr>\n",
       "    <tr>\n",
       "      <th>3</th>\n",
       "      <td>248</td>\n",
       "      <td>B</td>\n",
       "    </tr>\n",
       "    <tr>\n",
       "      <th>4</th>\n",
       "      <td>248</td>\n",
       "      <td>B</td>\n",
       "    </tr>\n",
       "    <tr>\n",
       "      <th>...</th>\n",
       "      <td>...</td>\n",
       "      <td>...</td>\n",
       "    </tr>\n",
       "    <tr>\n",
       "      <th>243708</th>\n",
       "      <td>247</td>\n",
       "      <td>A2</td>\n",
       "    </tr>\n",
       "    <tr>\n",
       "      <th>243709</th>\n",
       "      <td>246</td>\n",
       "      <td>A1</td>\n",
       "    </tr>\n",
       "    <tr>\n",
       "      <th>243710</th>\n",
       "      <td>246</td>\n",
       "      <td>A1</td>\n",
       "    </tr>\n",
       "    <tr>\n",
       "      <th>243711</th>\n",
       "      <td>246</td>\n",
       "      <td>A1</td>\n",
       "    </tr>\n",
       "    <tr>\n",
       "      <th>243712</th>\n",
       "      <td>246</td>\n",
       "      <td>A1</td>\n",
       "    </tr>\n",
       "  </tbody>\n",
       "</table>\n",
       "<p>243713 rows × 2 columns</p>\n",
       "</div>"
      ],
      "text/plain": [
       "        exp_id group\n",
       "0          246    A1\n",
       "1          246    A1\n",
       "2          248     B\n",
       "3          248     B\n",
       "4          248     B\n",
       "...        ...   ...\n",
       "243708     247    A2\n",
       "243709     246    A1\n",
       "243710     246    A1\n",
       "243711     246    A1\n",
       "243712     246    A1\n",
       "\n",
       "[243713 rows x 2 columns]"
      ]
     },
     "execution_count": 10,
     "metadata": {},
     "output_type": "execute_result"
    }
   ],
   "source": [
    "data['group'] = data['exp_id'].apply(categorize_group)\n",
    "data[['exp_id','group']]"
   ]
  },
  {
   "cell_type": "markdown",
   "metadata": {},
   "source": [
    "Проверим есть ли пользователи, которые попали в разные группы теста одновременно."
   ]
  },
  {
   "cell_type": "code",
   "execution_count": 11,
   "metadata": {},
   "outputs": [
    {
     "name": "stdout",
     "output_type": "stream",
     "text": [
      "0\n"
     ]
    }
   ],
   "source": [
    "dupl_users = data.groupby('user_id').agg({'group':'nunique'}).query('group > 1').reset_index()\n",
    "print(len(dupl_users))"
   ]
  },
  {
   "cell_type": "markdown",
   "metadata": {},
   "source": [
    "Никто из пользователей не попал в разные группы теста одновременно.\n",
    "\n",
    "В ходе предобработки данных мы:\n",
    "- изменили названия столбцов на более удобные;\n",
    "- добавили столбцы даты и времени и отдельно даты;\n",
    "- очистили данные от явных дубликатов;\n",
    "- добавили столбец с обозначением групп;\n",
    "- проверили группы на наличие дублирующихся пользователей.\n",
    "\n",
    "## Изучение и проверка данных"
   ]
  },
  {
   "cell_type": "code",
   "execution_count": 12,
   "metadata": {},
   "outputs": [
    {
     "name": "stdout",
     "output_type": "stream",
     "text": [
      "Всего в логе 243713 событий.\n"
     ]
    },
    {
     "data": {
      "text/plain": [
       "MainScreenAppear           119101\n",
       "OffersScreenAppear          46808\n",
       "CartScreenAppear            42668\n",
       "PaymentScreenSuccessful     34118\n",
       "Tutorial                     1018\n",
       "Name: event_name, dtype: int64"
      ]
     },
     "execution_count": 12,
     "metadata": {},
     "output_type": "execute_result"
    }
   ],
   "source": [
    "print(f'Всего в логе { data.event_name.count() } событий.')\n",
    "data.event_name.value_counts()"
   ]
  },
  {
   "cell_type": "code",
   "execution_count": 13,
   "metadata": {},
   "outputs": [
    {
     "name": "stdout",
     "output_type": "stream",
     "text": [
      "Всего в логе 7551 пользователь.\n"
     ]
    }
   ],
   "source": [
    "print(f'Всего в логе { data.user_id.nunique() } пользователь.')"
   ]
  },
  {
   "cell_type": "code",
   "execution_count": 14,
   "metadata": {},
   "outputs": [
    {
     "name": "stdout",
     "output_type": "stream",
     "text": [
      "В среднем на пользователя приходится 32 события.\n"
     ]
    }
   ],
   "source": [
    "print(f'В среднем на пользователя приходится {round(data.event_name.count()/data.user_id.nunique())} события.')"
   ]
  },
  {
   "cell_type": "code",
   "execution_count": 15,
   "metadata": {},
   "outputs": [
    {
     "name": "stdout",
     "output_type": "stream",
     "text": [
      "Минимальная дата: 2019-07-25\n",
      "Максимальная дата: 2019-08-07\n"
     ]
    }
   ],
   "source": [
    "print('Минимальная дата:', data['event_time'].min().date())\n",
    "print('Максимальная дата:', data['event_time'].max().date())"
   ]
  },
  {
   "cell_type": "code",
   "execution_count": 16,
   "metadata": {},
   "outputs": [
    {
     "data": {
      "text/plain": [
       "datetime.timedelta(days=13)"
      ]
     },
     "execution_count": 16,
     "metadata": {},
     "output_type": "execute_result"
    }
   ],
   "source": [
    "data['event_time'].max().date()-data['event_time'].min().date()"
   ]
  },
  {
   "cell_type": "markdown",
   "metadata": {},
   "source": [
    "Мы распологаем данными за период в 13 дней с 25-07-2019 по 07-08-2019."
   ]
  },
  {
   "cell_type": "code",
   "execution_count": 17,
   "metadata": {},
   "outputs": [
    {
     "data": {
      "text/plain": [
       "event_date\n",
       "2019-07-25        9\n",
       "2019-07-26       31\n",
       "2019-07-27       55\n",
       "2019-07-28      105\n",
       "2019-07-29      184\n",
       "2019-07-30      412\n",
       "2019-07-31     2030\n",
       "2019-08-01    36141\n",
       "2019-08-02    35554\n",
       "2019-08-03    33282\n",
       "2019-08-04    32968\n",
       "2019-08-05    36058\n",
       "2019-08-06    35788\n",
       "2019-08-07    31096\n",
       "Name: event_name, dtype: int64"
      ]
     },
     "execution_count": 17,
     "metadata": {},
     "output_type": "execute_result"
    }
   ],
   "source": [
    "data.groupby('event_date')['event_name'].count()"
   ]
  },
  {
   "cell_type": "code",
   "execution_count": 18,
   "metadata": {},
   "outputs": [
    {
     "data": {
      "image/png": "[encoded data removed]",
      "text/plain": [
       "<Figure size 1296x504 with 1 Axes>"
      ]
     },
     "metadata": {
      "needs_background": "light"
     },
     "output_type": "display_data"
    }
   ],
   "source": [
    "plt.figure(figsize=(18,7))\n",
    "data['event_time'].hist(bins=130)\n",
    "plt.title('Распределение количества событий по времени')\n",
    "plt.ylabel('Количество событий');"
   ]
  },
  {
   "cell_type": "markdown",
   "metadata": {},
   "source": [
    "На гистограме видим, что данных до 01-08-2019 аномально мало в сравнении с периодом после 01-08-2019. Можем сделать вывод, что это ошибочно подгруженные события из прошлого, отфильтруем их."
   ]
  },
  {
   "cell_type": "code",
   "execution_count": 19,
   "metadata": {},
   "outputs": [],
   "source": [
    "data_filtred=data.query('event_time >= \"2019-08-01\"')"
   ]
  },
  {
   "cell_type": "code",
   "execution_count": 20,
   "metadata": {},
   "outputs": [
    {
     "data": {
      "image/png": "[encoded data removed]",
      "text/plain": [
       "<Figure size 1296x504 with 1 Axes>"
      ]
     },
     "metadata": {
      "needs_background": "light"
     },
     "output_type": "display_data"
    }
   ],
   "source": [
    "plt.figure(figsize=(18,7))\n",
    "data_filtred['event_time'].hist(bins=70)\n",
    "plt.title('Распределение количества событий по времени')\n",
    "plt.ylabel('Количество событий');"
   ]
  },
  {
   "cell_type": "markdown",
   "metadata": {},
   "source": [
    "Теперь гистограма выглядит более правдоподобно, каждый день видим распределение событий близкое к нормальному. Мы распологаем данными за период в 7 дней с 01.08.2019 по 07.08.2019."
   ]
  },
  {
   "cell_type": "code",
   "execution_count": 21,
   "metadata": {},
   "outputs": [
    {
     "name": "stdout",
     "output_type": "stream",
     "text": [
      "После фильтрации данных мы потеряли 2826 событий, это 1.16% от всех данных.\n"
     ]
    }
   ],
   "source": [
    "print(f'После фильтрации данных мы потеряли {len(data)-len(data_filtred)} событий, это {1-len(data_filtred)/len(data):.2%} от всех данных.')"
   ]
  },
  {
   "cell_type": "code",
   "execution_count": 22,
   "metadata": {},
   "outputs": [
    {
     "name": "stdout",
     "output_type": "stream",
     "text": [
      "Полсе фильтрации данных мы потеряли 17 пользователей\n"
     ]
    }
   ],
   "source": [
    "print('Полсе фильтрации данных мы потеряли', data['user_id'].nunique()-data_filtred['user_id'].nunique(), 'пользователей')"
   ]
  },
  {
   "cell_type": "code",
   "execution_count": 23,
   "metadata": {},
   "outputs": [
    {
     "data": {
      "text/plain": [
       "group\n",
       "A1    2489\n",
       "A2    2520\n",
       "B     2542\n",
       "Name: user_id, dtype: int64"
      ]
     },
     "execution_count": 23,
     "metadata": {},
     "output_type": "execute_result"
    }
   ],
   "source": [
    "data.groupby('group')['user_id'].nunique()"
   ]
  },
  {
   "cell_type": "code",
   "execution_count": 24,
   "metadata": {},
   "outputs": [
    {
     "data": {
      "text/plain": [
       "group\n",
       "A1    2484\n",
       "A2    2513\n",
       "B     2537\n",
       "Name: user_id, dtype: int64"
      ]
     },
     "execution_count": 24,
     "metadata": {},
     "output_type": "execute_result"
    }
   ],
   "source": [
    "data_filtred.groupby('group')['user_id'].nunique()"
   ]
  },
  {
   "cell_type": "markdown",
   "metadata": {},
   "source": [
    "В данных присутствуют пользователи всех трех экспериментальных груп, распределение пользователей по групам существнно не  изменилось. \n",
    "\n",
    "В процессе изучения и проверки данных определили:\n",
    "- всего в логе 243713 событий;\n",
    "- всего в логе 7551 пользователь;\n",
    "- в среднем на пользователя приходится 32 события.\n",
    "\n",
    "Изначально мы распологали данными за период в 13 дней с 25-07-2019 по 07-08-2019, но отфильтровав старые и неполные данные мы получили актуальный период в 7 дней с 01.08.2019 по 07.08.2019, во время фильтрации мы потеряли это 1.16% от всех данных.\n",
    "\n",
    "## Изучение воронки событий.\n",
    "\n",
    "Посмотрим какие события и как часто встречаются в логах."
   ]
  },
  {
   "cell_type": "code",
   "execution_count": 25,
   "metadata": {},
   "outputs": [
    {
     "data": {
      "text/plain": [
       "MainScreenAppear           117328\n",
       "OffersScreenAppear          46333\n",
       "CartScreenAppear            42303\n",
       "PaymentScreenSuccessful     33918\n",
       "Tutorial                     1005\n",
       "Name: event_name, dtype: int64"
      ]
     },
     "execution_count": 25,
     "metadata": {},
     "output_type": "execute_result"
    }
   ],
   "source": [
    "data_filtred.event_name.value_counts()"
   ]
  },
  {
   "cell_type": "markdown",
   "metadata": {},
   "source": [
    "Видим 5 событий:\n",
    "- MainScreenAppear - просмотр главной страницы\n",
    "- OffersScreenAppear - просмотр страницы предложений\n",
    "- CartScreenAppear - просмотр корзины\n",
    "- PaymentScreenSuccessful - переход на страницу успешной оплаты\n",
    "- Tutorial - просмотр обучающей информации для новых пользователей\n",
    "\n",
    "Посчитаем сколько пользователей совершали каждое из этих событий."
   ]
  },
  {
   "cell_type": "code",
   "execution_count": 26,
   "metadata": {},
   "outputs": [
    {
     "data": {
      "text/html": [
       "<div>\n",
       "<style scoped>\n",
       "    .dataframe tbody tr th:only-of-type {\n",
       "        vertical-align: middle;\n",
       "    }\n",
       "\n",
       "    .dataframe tbody tr th {\n",
       "        vertical-align: top;\n",
       "    }\n",
       "\n",
       "    .dataframe thead th {\n",
       "        text-align: right;\n",
       "    }\n",
       "</style>\n",
       "<table border=\"1\" class=\"dataframe\">\n",
       "  <thead>\n",
       "    <tr style=\"text-align: right;\">\n",
       "      <th></th>\n",
       "      <th>event_name</th>\n",
       "      <th>users</th>\n",
       "    </tr>\n",
       "  </thead>\n",
       "  <tbody>\n",
       "    <tr>\n",
       "      <th>0</th>\n",
       "      <td>MainScreenAppear</td>\n",
       "      <td>7419</td>\n",
       "    </tr>\n",
       "    <tr>\n",
       "      <th>1</th>\n",
       "      <td>OffersScreenAppear</td>\n",
       "      <td>4593</td>\n",
       "    </tr>\n",
       "    <tr>\n",
       "      <th>2</th>\n",
       "      <td>CartScreenAppear</td>\n",
       "      <td>3734</td>\n",
       "    </tr>\n",
       "    <tr>\n",
       "      <th>3</th>\n",
       "      <td>PaymentScreenSuccessful</td>\n",
       "      <td>3539</td>\n",
       "    </tr>\n",
       "    <tr>\n",
       "      <th>4</th>\n",
       "      <td>Tutorial</td>\n",
       "      <td>840</td>\n",
       "    </tr>\n",
       "  </tbody>\n",
       "</table>\n",
       "</div>"
      ],
      "text/plain": [
       "                event_name  users\n",
       "0         MainScreenAppear   7419\n",
       "1       OffersScreenAppear   4593\n",
       "2         CartScreenAppear   3734\n",
       "3  PaymentScreenSuccessful   3539\n",
       "4                 Tutorial    840"
      ]
     },
     "execution_count": 26,
     "metadata": {},
     "output_type": "execute_result"
    }
   ],
   "source": [
    "events = (data_filtred.groupby('event_name').agg({'user_id':'nunique'}).rename(columns={'user_id':'users'})\n",
    "          .sort_values(by='users', ascending=False)).reset_index()\n",
    "events"
   ]
  },
  {
   "cell_type": "markdown",
   "metadata": {},
   "source": [
    " Посчитаем долю пользователей, которые хоть раз совершали событие."
   ]
  },
  {
   "cell_type": "code",
   "execution_count": 27,
   "metadata": {},
   "outputs": [
    {
     "data": {
      "text/html": [
       "<div>\n",
       "<style scoped>\n",
       "    .dataframe tbody tr th:only-of-type {\n",
       "        vertical-align: middle;\n",
       "    }\n",
       "\n",
       "    .dataframe tbody tr th {\n",
       "        vertical-align: top;\n",
       "    }\n",
       "\n",
       "    .dataframe thead th {\n",
       "        text-align: right;\n",
       "    }\n",
       "</style>\n",
       "<table border=\"1\" class=\"dataframe\">\n",
       "  <thead>\n",
       "    <tr style=\"text-align: right;\">\n",
       "      <th></th>\n",
       "      <th>event_name</th>\n",
       "      <th>users</th>\n",
       "      <th>percent</th>\n",
       "    </tr>\n",
       "  </thead>\n",
       "  <tbody>\n",
       "    <tr>\n",
       "      <th>0</th>\n",
       "      <td>MainScreenAppear</td>\n",
       "      <td>7419</td>\n",
       "      <td>98.0</td>\n",
       "    </tr>\n",
       "    <tr>\n",
       "      <th>1</th>\n",
       "      <td>OffersScreenAppear</td>\n",
       "      <td>4593</td>\n",
       "      <td>61.0</td>\n",
       "    </tr>\n",
       "    <tr>\n",
       "      <th>2</th>\n",
       "      <td>CartScreenAppear</td>\n",
       "      <td>3734</td>\n",
       "      <td>50.0</td>\n",
       "    </tr>\n",
       "    <tr>\n",
       "      <th>3</th>\n",
       "      <td>PaymentScreenSuccessful</td>\n",
       "      <td>3539</td>\n",
       "      <td>47.0</td>\n",
       "    </tr>\n",
       "    <tr>\n",
       "      <th>4</th>\n",
       "      <td>Tutorial</td>\n",
       "      <td>840</td>\n",
       "      <td>11.0</td>\n",
       "    </tr>\n",
       "  </tbody>\n",
       "</table>\n",
       "</div>"
      ],
      "text/plain": [
       "                event_name  users  percent\n",
       "0         MainScreenAppear   7419     98.0\n",
       "1       OffersScreenAppear   4593     61.0\n",
       "2         CartScreenAppear   3734     50.0\n",
       "3  PaymentScreenSuccessful   3539     47.0\n",
       "4                 Tutorial    840     11.0"
      ]
     },
     "execution_count": 27,
     "metadata": {},
     "output_type": "execute_result"
    }
   ],
   "source": [
    "events['percent'] = round((events['users'] / data_filtred['user_id'].nunique() * 100))\n",
    "events"
   ]
  },
  {
   "cell_type": "markdown",
   "metadata": {},
   "source": [
    "Предположительная последовательность движения пользователя по приложению:\n",
    "1. MainScreenAppear - просмотр главной страницы;\n",
    "2. OffersScreenAppear - просмотр страницы предложений;\n",
    "3. CartScreenAppear - просмотр корзины;\n",
    "4. PaymentScreenSuccessful - переход на страницу успешной оплаты.\n",
    "\n",
    "Этап Tutorial - просмотр обучающей информации для новых пользователей является не обязательным.\n",
    "Попробуем построить воронку событий."
   ]
  },
  {
   "cell_type": "code",
   "execution_count": 28,
   "metadata": {},
   "outputs": [
    {
     "data": {
      "image/png": "[encoded data removed]"
     },
     "metadata": {},
     "output_type": "display_data"
    }
   ],
   "source": [
    "fig = go.Figure(go.Funnel(y= events['event_name'], x=events['users'], textposition=\"inside\",\n",
    "                         textinfo = 'value+percent previous'))\n",
    "fig.update_layout(title='Воронка событий', \n",
    "                 yaxis_title='Наименование событий')\n",
    "fig.show()"
   ]
  },
  {
   "cell_type": "markdown",
   "metadata": {},
   "source": [
    "Если навести курсор на каждый шаг воронки, увидим, какая доля пользователей на этом шаге составляет от:\n",
    "\n",
    "- числа пользователей на первом шаге (of initial),\n",
    "- числа пользователей на предыдущем шаге (of previous),\n",
    "- суммы пользователей на всех шагах (of total).\n",
    "\n",
    "Этап Tutorial прошли всего 4,2 % от всех пользователей, можем смело удалить его из воронки как не обязательный."
   ]
  },
  {
   "cell_type": "code",
   "execution_count": 29,
   "metadata": {},
   "outputs": [],
   "source": [
    "events = events.query('event_name != \"Tutorial\"')"
   ]
  },
  {
   "cell_type": "code",
   "execution_count": 30,
   "metadata": {},
   "outputs": [
    {
     "data": {
      "image/png": "[encoded data removed]"
     },
     "metadata": {},
     "output_type": "display_data"
    }
   ],
   "source": [
    "fig = go.Figure(go.Funnel(y= events['event_name'], x=events['users'], textposition=\"inside\",\n",
    "                         textinfo = 'value+percent previous'))\n",
    "fig.update_layout(title='Воронка событий', \n",
    "                 yaxis_title='Наименование событий')\n",
    "fig.show()"
   ]
  },
  {
   "cell_type": "markdown",
   "metadata": {},
   "source": [
    "Больше всего пользователей, почти 40%, мы теряем при переходе от просмотра главной страницы к просмотру страницы с предложениями.\n",
    "От просмотра главной страницы до успешной оплаты доходят около 48% пользователей.\n",
    "На этапе перехода от корзины до успешной оплаты мы теряем около 5% пользователей.\n",
    "\n",
    "На данном этапе исследования мы определили, что воронка событий выглядит таким образом :\n",
    "1. MainScreenAppear - просмотр главной страницы;\n",
    "2. OffersScreenAppear - просмотр страницы предложений; \n",
    "3. CartScreenAppear - просмотр корзины; \n",
    "4. PaymentScreenSuccessful - переход на страницу успешной оплаты. \n",
    "\n",
    "Больше всего пользователей, почти 40%, мы теряем при переходе от просмотра главной страницы к просмотру страницы с предложениями.\n",
    "От просмотра главной страницы до успешной оплаты доходят около 48% пользователей. \n",
    "\n",
    "## Изучение результатов эксперимента.\n",
    "\n",
    "Посмотрим сколько пользователей в каждой экспериментальной группе."
   ]
  },
  {
   "cell_type": "code",
   "execution_count": 31,
   "metadata": {},
   "outputs": [
    {
     "data": {
      "text/plain": [
       "group\n",
       "A1    2484\n",
       "A2    2513\n",
       "B     2537\n",
       "Name: user_id, dtype: int64"
      ]
     },
     "execution_count": 31,
     "metadata": {},
     "output_type": "execute_result"
    }
   ],
   "source": [
    "group = data_filtred.groupby('group')['user_id'].nunique()\n",
    "group"
   ]
  },
  {
   "cell_type": "markdown",
   "metadata": {},
   "source": [
    " Проверим, есть ли разница между выборками А1 и А2 при помощи z-критерия. Сформулируем гипотезы:\n",
    " - Н0: Между долями нет статистически значимой разницы;\n",
    " - Н1: Между долями есть статистически значимая разница.\n",
    "\n",
    "Соберем данные о каждом этапе воронки для каждой группы теста в таблицу"
   ]
  },
  {
   "cell_type": "code",
   "execution_count": 32,
   "metadata": {},
   "outputs": [
    {
     "data": {
      "text/html": [
       "<div>\n",
       "<style scoped>\n",
       "    .dataframe tbody tr th:only-of-type {\n",
       "        vertical-align: middle;\n",
       "    }\n",
       "\n",
       "    .dataframe tbody tr th {\n",
       "        vertical-align: top;\n",
       "    }\n",
       "\n",
       "    .dataframe thead th {\n",
       "        text-align: right;\n",
       "    }\n",
       "</style>\n",
       "<table border=\"1\" class=\"dataframe\">\n",
       "  <thead>\n",
       "    <tr style=\"text-align: right;\">\n",
       "      <th>group</th>\n",
       "      <th>event_name</th>\n",
       "      <th>A1</th>\n",
       "      <th>A2</th>\n",
       "      <th>B</th>\n",
       "      <th>total</th>\n",
       "    </tr>\n",
       "  </thead>\n",
       "  <tbody>\n",
       "    <tr>\n",
       "      <th>1</th>\n",
       "      <td>MainScreenAppear</td>\n",
       "      <td>2450</td>\n",
       "      <td>2476</td>\n",
       "      <td>2493</td>\n",
       "      <td>7419</td>\n",
       "    </tr>\n",
       "    <tr>\n",
       "      <th>2</th>\n",
       "      <td>OffersScreenAppear</td>\n",
       "      <td>1542</td>\n",
       "      <td>1520</td>\n",
       "      <td>1531</td>\n",
       "      <td>4593</td>\n",
       "    </tr>\n",
       "    <tr>\n",
       "      <th>0</th>\n",
       "      <td>CartScreenAppear</td>\n",
       "      <td>1266</td>\n",
       "      <td>1238</td>\n",
       "      <td>1230</td>\n",
       "      <td>3734</td>\n",
       "    </tr>\n",
       "    <tr>\n",
       "      <th>3</th>\n",
       "      <td>PaymentScreenSuccessful</td>\n",
       "      <td>1200</td>\n",
       "      <td>1158</td>\n",
       "      <td>1181</td>\n",
       "      <td>3539</td>\n",
       "    </tr>\n",
       "  </tbody>\n",
       "</table>\n",
       "</div>"
      ],
      "text/plain": [
       "group               event_name    A1    A2     B  total\n",
       "1             MainScreenAppear  2450  2476  2493   7419\n",
       "2           OffersScreenAppear  1542  1520  1531   4593\n",
       "0             CartScreenAppear  1266  1238  1230   3734\n",
       "3      PaymentScreenSuccessful  1200  1158  1181   3539"
      ]
     },
     "execution_count": 32,
     "metadata": {},
     "output_type": "execute_result"
    }
   ],
   "source": [
    "values = (data_filtred.pivot_table(index='event_name', values='user_id', columns='group', aggfunc='nunique')\n",
    ".query('event_name!=\"Tutorial\"').reset_index())\n",
    "values['total'] = values['A1']+ values['A2']+ values['B']\n",
    "values = values.sort_values(by='total', ascending = False)\n",
    "values"
   ]
  },
  {
   "cell_type": "markdown",
   "metadata": {},
   "source": [
    "Обозначим функцию для подсчета z-критерия."
   ]
  },
  {
   "cell_type": "code",
   "execution_count": 33,
   "metadata": {},
   "outputs": [],
   "source": [
    "def z_critery(values, trials, col1, col2):\n",
    "    for i in range(0, 4):\n",
    "        # критический уровень статистической значимости  \n",
    "        alpha = 0.05\n",
    "        \n",
    "        successes = np.array([values.loc[i, col1], values.loc[i, col2]])  \n",
    "        \n",
    "        # пропорция успехов в первой группе:\n",
    "        p1 = successes[0]/trials[0]    \n",
    "        \n",
    "        # пропорция успехов во второй группе:\n",
    "        p2 = successes[1]/trials[1]   \n",
    "        \n",
    "        # пропорция успехов в комбинированном датасете:\n",
    "        p_combined = (successes[0] + successes[1]) / (trials[0] + trials[1])   \n",
    "        \n",
    "        # разница пропорций в датасетах\n",
    "        difference = p1 - p2    \n",
    "        \n",
    "        #считаем статистику в ст.отклонениях стандартного нормального распределения\n",
    "        z_value = difference / mth.sqrt(p_combined * (1 - p_combined) * (1/trials[0] + 1/trials[1]))   \n",
    "        \n",
    "        # задаем стандартное нормальное распределение (среднее 0, ст.отклонение 1)\n",
    "        distr = st.norm(0, 1)   \n",
    "        \n",
    "        p_value = (1 - distr.cdf(abs(z_value))) * 2  \n",
    "         \n",
    "        print('{} p-значение: {}'.format(values['event_name'][i], p_value))\n",
    "        if p_value < alpha:\n",
    "            print('Отвергаем нулевую гипотезу: между долями есть значимая разница')\n",
    "        else:\n",
    "            print('Не получилось отвергнуть нулевую гипотезу, нет оснований считать доли разными')\n",
    "        print('---------------------------------------------------------------------------------')            "
   ]
  },
  {
   "cell_type": "code",
   "execution_count": 34,
   "metadata": {},
   "outputs": [
    {
     "name": "stdout",
     "output_type": "stream",
     "text": [
      "CartScreenAppear p-значение: 0.22883372237997213\n",
      "Не получилось отвергнуть нулевую гипотезу, нет оснований считать доли разными\n",
      "---------------------------------------------------------------------------------\n",
      "MainScreenAppear p-значение: 0.7570597232046099\n",
      "Не получилось отвергнуть нулевую гипотезу, нет оснований считать доли разными\n",
      "---------------------------------------------------------------------------------\n",
      "OffersScreenAppear p-значение: 0.2480954578522181\n",
      "Не получилось отвергнуть нулевую гипотезу, нет оснований считать доли разными\n",
      "---------------------------------------------------------------------------------\n",
      "PaymentScreenSuccessful p-значение: 0.11456679313141849\n",
      "Не получилось отвергнуть нулевую гипотезу, нет оснований считать доли разными\n",
      "---------------------------------------------------------------------------------\n"
     ]
    }
   ],
   "source": [
    "trials = np.array([group[0], group[1]])\n",
    "z_critery(values, trials, 'A1','A2') "
   ]
  },
  {
   "cell_type": "markdown",
   "metadata": {},
   "source": [
    "Проверка при помощи z-критерия показала, что статистически значимой разницы между выборками А1 и А2 нет.\n",
    "\n",
    "Самое популярное событие это MainScreenAppear - просмотр главной страницы."
   ]
  },
  {
   "cell_type": "code",
   "execution_count": 35,
   "metadata": {},
   "outputs": [
    {
     "data": {
      "text/html": [
       "<div>\n",
       "<style scoped>\n",
       "    .dataframe tbody tr th:only-of-type {\n",
       "        vertical-align: middle;\n",
       "    }\n",
       "\n",
       "    .dataframe tbody tr th {\n",
       "        vertical-align: top;\n",
       "    }\n",
       "\n",
       "    .dataframe thead th {\n",
       "        text-align: right;\n",
       "    }\n",
       "</style>\n",
       "<table border=\"1\" class=\"dataframe\">\n",
       "  <thead>\n",
       "    <tr style=\"text-align: right;\">\n",
       "      <th></th>\n",
       "      <th>users</th>\n",
       "      <th>percent</th>\n",
       "    </tr>\n",
       "    <tr>\n",
       "      <th>group</th>\n",
       "      <th></th>\n",
       "      <th></th>\n",
       "    </tr>\n",
       "  </thead>\n",
       "  <tbody>\n",
       "    <tr>\n",
       "      <th>A1</th>\n",
       "      <td>2450</td>\n",
       "      <td>98.63</td>\n",
       "    </tr>\n",
       "    <tr>\n",
       "      <th>A2</th>\n",
       "      <td>2476</td>\n",
       "      <td>98.53</td>\n",
       "    </tr>\n",
       "    <tr>\n",
       "      <th>B</th>\n",
       "      <td>2493</td>\n",
       "      <td>98.27</td>\n",
       "    </tr>\n",
       "  </tbody>\n",
       "</table>\n",
       "</div>"
      ],
      "text/plain": [
       "       users  percent\n",
       "group                \n",
       "A1      2450    98.63\n",
       "A2      2476    98.53\n",
       "B       2493    98.27"
      ]
     },
     "execution_count": 35,
     "metadata": {},
     "output_type": "execute_result"
    }
   ],
   "source": [
    "msa = (data_filtred.query('event_name == \"MainScreenAppear\"')\n",
    "       .groupby('group').agg({\"user_id\":'nunique'}).rename(columns={'user_id':'users'}))\n",
    "msa['percent'] = round(msa['users']*100/group,2)\n",
    "msa"
   ]
  },
  {
   "cell_type": "markdown",
   "metadata": {},
   "source": [
    "Почти все пользователи каждой из групп просмотрели главную страницу. Остаеться небольшой процент пользователей которые миновали MainScreenAppear скорее всего они попали в приложение по ссылке от друга или из рекламных материалов.\n",
    "\n",
    " Проверим, есть ли разница между группами А1 и В при помощи z-критерия. Сформулируем гипотезы:\n",
    " - Н0: Между долями нет статистически значимой разницы;\n",
    " - Н1: Между долями есть статистически значимая разница."
   ]
  },
  {
   "cell_type": "code",
   "execution_count": 36,
   "metadata": {},
   "outputs": [
    {
     "name": "stdout",
     "output_type": "stream",
     "text": [
      "CartScreenAppear p-значение: 0.07842923237520116\n",
      "Не получилось отвергнуть нулевую гипотезу, нет оснований считать доли разными\n",
      "---------------------------------------------------------------------------------\n",
      "MainScreenAppear p-значение: 0.2949721933554552\n",
      "Не получилось отвергнуть нулевую гипотезу, нет оснований считать доли разными\n",
      "---------------------------------------------------------------------------------\n",
      "OffersScreenAppear p-значение: 0.20836205402738917\n",
      "Не получилось отвергнуть нулевую гипотезу, нет оснований считать доли разными\n",
      "---------------------------------------------------------------------------------\n",
      "PaymentScreenSuccessful p-значение: 0.2122553275697796\n",
      "Не получилось отвергнуть нулевую гипотезу, нет оснований считать доли разными\n",
      "---------------------------------------------------------------------------------\n"
     ]
    }
   ],
   "source": [
    "trials = np.array([group[0], group[2]])\n",
    "z_critery(values, trials, 'A1','B') "
   ]
  },
  {
   "cell_type": "markdown",
   "metadata": {},
   "source": [
    "Проверка при помощи z-критерия показала, что статистически значимой разницы между выборками А1 и B нет. Проверим группы А2 и В.\n",
    "Сформулируем гипотезы:\n",
    " - Н0: Между долями нет статистически значимой разницы;\n",
    " - Н1: Между долями есть статистически значимая разница."
   ]
  },
  {
   "cell_type": "code",
   "execution_count": 37,
   "metadata": {},
   "outputs": [
    {
     "name": "stdout",
     "output_type": "stream",
     "text": [
      "CartScreenAppear p-значение: 0.5786197879539783\n",
      "Не получилось отвергнуть нулевую гипотезу, нет оснований считать доли разными\n",
      "---------------------------------------------------------------------------------\n",
      "MainScreenAppear p-значение: 0.4587053616621515\n",
      "Не получилось отвергнуть нулевую гипотезу, нет оснований считать доли разными\n",
      "---------------------------------------------------------------------------------\n",
      "OffersScreenAppear p-значение: 0.9197817830592261\n",
      "Не получилось отвергнуть нулевую гипотезу, нет оснований считать доли разными\n",
      "---------------------------------------------------------------------------------\n",
      "PaymentScreenSuccessful p-значение: 0.7373415053803964\n",
      "Не получилось отвергнуть нулевую гипотезу, нет оснований считать доли разными\n",
      "---------------------------------------------------------------------------------\n"
     ]
    }
   ],
   "source": [
    "trials = np.array([group[1], group[2]])\n",
    "z_critery(values, trials, 'A2','B') "
   ]
  },
  {
   "cell_type": "markdown",
   "metadata": {},
   "source": [
    "Проверка при помощи z-критерия показала, что статистически значимой разницы между выборками А2 и B нет. Проверим результаты с объединенной контрольной группой А1+А2 и В.\n",
    "Сформулируем гипотезы:\n",
    " - Н0: Между долями нет статистически значимой разницы;\n",
    " - Н1: Между долями есть статистически значимая разница.\n",
    " \n",
    " Дополним таблицы values и group."
   ]
  },
  {
   "cell_type": "code",
   "execution_count": 38,
   "metadata": {},
   "outputs": [
    {
     "data": {
      "text/html": [
       "<div>\n",
       "<style scoped>\n",
       "    .dataframe tbody tr th:only-of-type {\n",
       "        vertical-align: middle;\n",
       "    }\n",
       "\n",
       "    .dataframe tbody tr th {\n",
       "        vertical-align: top;\n",
       "    }\n",
       "\n",
       "    .dataframe thead th {\n",
       "        text-align: right;\n",
       "    }\n",
       "</style>\n",
       "<table border=\"1\" class=\"dataframe\">\n",
       "  <thead>\n",
       "    <tr style=\"text-align: right;\">\n",
       "      <th>group</th>\n",
       "      <th>event_name</th>\n",
       "      <th>A1</th>\n",
       "      <th>A2</th>\n",
       "      <th>B</th>\n",
       "      <th>total</th>\n",
       "      <th>A1A2</th>\n",
       "    </tr>\n",
       "  </thead>\n",
       "  <tbody>\n",
       "    <tr>\n",
       "      <th>1</th>\n",
       "      <td>MainScreenAppear</td>\n",
       "      <td>2450</td>\n",
       "      <td>2476</td>\n",
       "      <td>2493</td>\n",
       "      <td>7419</td>\n",
       "      <td>4926</td>\n",
       "    </tr>\n",
       "    <tr>\n",
       "      <th>2</th>\n",
       "      <td>OffersScreenAppear</td>\n",
       "      <td>1542</td>\n",
       "      <td>1520</td>\n",
       "      <td>1531</td>\n",
       "      <td>4593</td>\n",
       "      <td>3062</td>\n",
       "    </tr>\n",
       "    <tr>\n",
       "      <th>0</th>\n",
       "      <td>CartScreenAppear</td>\n",
       "      <td>1266</td>\n",
       "      <td>1238</td>\n",
       "      <td>1230</td>\n",
       "      <td>3734</td>\n",
       "      <td>2504</td>\n",
       "    </tr>\n",
       "    <tr>\n",
       "      <th>3</th>\n",
       "      <td>PaymentScreenSuccessful</td>\n",
       "      <td>1200</td>\n",
       "      <td>1158</td>\n",
       "      <td>1181</td>\n",
       "      <td>3539</td>\n",
       "      <td>2358</td>\n",
       "    </tr>\n",
       "  </tbody>\n",
       "</table>\n",
       "</div>"
      ],
      "text/plain": [
       "group               event_name    A1    A2     B  total  A1A2\n",
       "1             MainScreenAppear  2450  2476  2493   7419  4926\n",
       "2           OffersScreenAppear  1542  1520  1531   4593  3062\n",
       "0             CartScreenAppear  1266  1238  1230   3734  2504\n",
       "3      PaymentScreenSuccessful  1200  1158  1181   3539  2358"
      ]
     },
     "execution_count": 38,
     "metadata": {},
     "output_type": "execute_result"
    }
   ],
   "source": [
    "values['A1A2'] = values['A1']+values['A2']\n",
    "values"
   ]
  },
  {
   "cell_type": "code",
   "execution_count": 39,
   "metadata": {},
   "outputs": [
    {
     "data": {
      "text/plain": [
       "group\n",
       "A1      2484\n",
       "A2      2513\n",
       "B       2537\n",
       "A1A2    4997\n",
       "Name: user_id, dtype: int64"
      ]
     },
     "execution_count": 39,
     "metadata": {},
     "output_type": "execute_result"
    }
   ],
   "source": [
    "group['A1A2'] = group[0]+group[1]\n",
    "group"
   ]
  },
  {
   "cell_type": "code",
   "execution_count": 40,
   "metadata": {},
   "outputs": [
    {
     "name": "stdout",
     "output_type": "stream",
     "text": [
      "CartScreenAppear p-значение: 0.18175875284404386\n",
      "Не получилось отвергнуть нулевую гипотезу, нет оснований считать доли разными\n",
      "---------------------------------------------------------------------------------\n",
      "MainScreenAppear p-значение: 0.29424526837179577\n",
      "Не получилось отвергнуть нулевую гипотезу, нет оснований считать доли разными\n",
      "---------------------------------------------------------------------------------\n",
      "OffersScreenAppear p-значение: 0.43425549655188256\n",
      "Не получилось отвергнуть нулевую гипотезу, нет оснований считать доли разными\n",
      "---------------------------------------------------------------------------------\n",
      "PaymentScreenSuccessful p-значение: 0.6004294282308704\n",
      "Не получилось отвергнуть нулевую гипотезу, нет оснований считать доли разными\n",
      "---------------------------------------------------------------------------------\n"
     ]
    }
   ],
   "source": [
    "trials = np.array([group[3], group[2]])\n",
    "z_critery(values, trials, 'A1A2','B') "
   ]
  },
  {
   "cell_type": "markdown",
   "metadata": {},
   "source": [
    "Проверка при помощи z-критерия показала, что статистически значимой разницы между группами А1+А2 и В нет.\n",
    "\n",
    "Мы провели проверки на наличие статистически значимой разницы контрольных групп А1 и А2 между собой, контрольной группы А1 и экспериментальной B, контрольной А2 и экспериментальной В, суммарной контрольной группы А1+А2  и экспериментальной В все проверки показали, что нет оснований считать группы разными - то есть изменение шрифтов никак не повлияло на поведение пользователей приложения.\n",
    "\n",
    "Но так как мы имеем дело с множественным тестом, с каждой новой проверкой гипотезы растёт вероятность ошибки первого рода. Чтобы снизить вероятность ложнопозитивного результата при множественном тестировании гипотез, применим метод Шидака. Мы провели 3 теста А1-В, А2-В и (А1+А2)-В по 4-м этапам воронки, итого мы сделали 12 проверок."
   ]
  },
  {
   "cell_type": "code",
   "execution_count": 41,
   "metadata": {},
   "outputs": [
    {
     "data": {
      "text/plain": [
       "0.004265318777560645"
      ]
     },
     "execution_count": 41,
     "metadata": {},
     "output_type": "execute_result"
    }
   ],
   "source": [
    "# текущий уровень значимости\n",
    "ɑlpha = 0.05\n",
    "# количество сравнений\n",
    "m = 12\n",
    "# новый уровень значимости\n",
    "alpha_m =  1 - (1 - ɑlpha)**(1/m)\n",
    "alpha_m"
   ]
  },
  {
   "cell_type": "markdown",
   "metadata": {},
   "source": [
    "Добавим метод Шидака в нашу функцию: "
   ]
  },
  {
   "cell_type": "code",
   "execution_count": 42,
   "metadata": {},
   "outputs": [],
   "source": [
    "def z_critery_shidak(values, trials, col1, col2):\n",
    "    for i in range(0, 4):\n",
    "        # критический уровень статистической значимости  \n",
    "        alpha = 0.05\n",
    "        # количество сравнений\n",
    "        m = 12\n",
    "        # новый уровень значимости\n",
    "        alpha_m =  1 - (1 - ɑlpha)**(1/m)\n",
    "        \n",
    "        successes = np.array([values.loc[i, col1], values.loc[i, col2]])  \n",
    "        \n",
    "        # пропорция успехов в первой группе:\n",
    "        p1 = successes[0]/trials[0]    \n",
    "        \n",
    "        # пропорция успехов во второй группе:\n",
    "        p2 = successes[1]/trials[1]   \n",
    "        \n",
    "        # пропорция успехов в комбинированном датасете:\n",
    "        p_combined = (successes[0] + successes[1]) / (trials[0] + trials[1])   \n",
    "        \n",
    "        # разница пропорций в датасетах\n",
    "        difference = p1 - p2    \n",
    "        \n",
    "        #считаем статистику в ст.отклонениях стандартного нормального распределения\n",
    "        z_value = difference / mth.sqrt(p_combined * (1 - p_combined) * (1/trials[0] + 1/trials[1]))   \n",
    "        \n",
    "        # задаем стандартное нормальное распределение (среднее 0, ст.отклонение 1)\n",
    "        distr = st.norm(0, 1)   \n",
    "        \n",
    "        p_value = (1 - distr.cdf(abs(z_value))) * 2  \n",
    "         \n",
    "        print('{} p-значение: {}'.format(values['event_name'][i], p_value))\n",
    "        if p_value < alpha_m:\n",
    "            print('Отвергаем нулевую гипотезу: между долями есть значимая разница')\n",
    "        else:\n",
    "            print('Не получилось отвергнуть нулевую гипотезу, нет оснований считать доли разными')\n",
    "        print('---------------------------------------------------------------------------------')            "
   ]
  },
  {
   "cell_type": "markdown",
   "metadata": {},
   "source": [
    "Теперь повторим А-В тест с применением метода Шидака. Проверим, есть ли разница между группами А1 и В. Сформулируем гипотезы:\n",
    " - Н0: Между долями нет статистически значимой разницы;\n",
    " - Н1: Между долями есть статистически значимая разница."
   ]
  },
  {
   "cell_type": "code",
   "execution_count": 43,
   "metadata": {},
   "outputs": [
    {
     "name": "stdout",
     "output_type": "stream",
     "text": [
      "CartScreenAppear p-значение: 0.07842923237520116\n",
      "Не получилось отвергнуть нулевую гипотезу, нет оснований считать доли разными\n",
      "---------------------------------------------------------------------------------\n",
      "MainScreenAppear p-значение: 0.2949721933554552\n",
      "Не получилось отвергнуть нулевую гипотезу, нет оснований считать доли разными\n",
      "---------------------------------------------------------------------------------\n",
      "OffersScreenAppear p-значение: 0.20836205402738917\n",
      "Не получилось отвергнуть нулевую гипотезу, нет оснований считать доли разными\n",
      "---------------------------------------------------------------------------------\n",
      "PaymentScreenSuccessful p-значение: 0.2122553275697796\n",
      "Не получилось отвергнуть нулевую гипотезу, нет оснований считать доли разными\n",
      "---------------------------------------------------------------------------------\n"
     ]
    }
   ],
   "source": [
    "trials = np.array([group[0], group[2]])\n",
    "z_critery_shidak(values, trials, 'A1','B') "
   ]
  },
  {
   "cell_type": "code",
   "execution_count": 44,
   "metadata": {},
   "outputs": [
    {
     "name": "stdout",
     "output_type": "stream",
     "text": [
      "CartScreenAppear p-значение: 0.5786197879539783\n",
      "Не получилось отвергнуть нулевую гипотезу, нет оснований считать доли разными\n",
      "---------------------------------------------------------------------------------\n",
      "MainScreenAppear p-значение: 0.4587053616621515\n",
      "Не получилось отвергнуть нулевую гипотезу, нет оснований считать доли разными\n",
      "---------------------------------------------------------------------------------\n",
      "OffersScreenAppear p-значение: 0.9197817830592261\n",
      "Не получилось отвергнуть нулевую гипотезу, нет оснований считать доли разными\n",
      "---------------------------------------------------------------------------------\n",
      "PaymentScreenSuccessful p-значение: 0.7373415053803964\n",
      "Не получилось отвергнуть нулевую гипотезу, нет оснований считать доли разными\n",
      "---------------------------------------------------------------------------------\n"
     ]
    }
   ],
   "source": [
    "trials = np.array([group[1], group[2]])\n",
    "z_critery_shidak(values, trials, 'A2','B') "
   ]
  },
  {
   "cell_type": "code",
   "execution_count": 45,
   "metadata": {},
   "outputs": [
    {
     "name": "stdout",
     "output_type": "stream",
     "text": [
      "CartScreenAppear p-значение: 0.18175875284404386\n",
      "Не получилось отвергнуть нулевую гипотезу, нет оснований считать доли разными\n",
      "---------------------------------------------------------------------------------\n",
      "MainScreenAppear p-значение: 0.29424526837179577\n",
      "Не получилось отвергнуть нулевую гипотезу, нет оснований считать доли разными\n",
      "---------------------------------------------------------------------------------\n",
      "OffersScreenAppear p-значение: 0.43425549655188256\n",
      "Не получилось отвергнуть нулевую гипотезу, нет оснований считать доли разными\n",
      "---------------------------------------------------------------------------------\n",
      "PaymentScreenSuccessful p-значение: 0.6004294282308704\n",
      "Не получилось отвергнуть нулевую гипотезу, нет оснований считать доли разными\n",
      "---------------------------------------------------------------------------------\n"
     ]
    }
   ],
   "source": [
    "trials = np.array([group[3], group[2]])\n",
    "z_critery(values, trials, 'A1A2','B') "
   ]
  },
  {
   "cell_type": "markdown",
   "metadata": {},
   "source": [
    "Мы провели проверки на наличие статистически значимой разницы контрольных групп А1 и А2 между собой, контрольной группы А1 и экспериментальной B, контрольной А2 и экспериментальной В, суммарной контрольной группы А1+А2  и экспериментальной В. Чтобы снизить вероятность ложнопозитивного результата при множественном тестировании гипотез мы применили метод Шидака. Все проверки показали, что нет оснований считать группы разными - то есть изменение шрифтов никак не повлияло на поведение пользователей приложения.\n",
    "\n",
    "## Выводы\n",
    "\n",
    "В процессе исследования мы:\n",
    "- провели предобработку и проверку данных;\n",
    "- изучили воронку продаж;\n",
    "- узнали, как пользователи доходят до покупки;\n",
    "- узнали сколько пользователей доходит до покупки, а сколько — «застревает» на предыдущих шагах;\n",
    "- проанализировали результаты A/A/B-эксперимента. \n",
    "\n",
    "В процессе изучения и проверки данных определили:\n",
    "- всего в логе 243713 событий;\n",
    "- всего в логе 7551 пользователь;\n",
    "- в среднем на пользователя приходится 32 события.\n",
    "- мы распологаем данными за период в 7 дней с 01.08.2019 по 07.08.2019.\n",
    "\n",
    "Воронка событий выглядит таким образом : \n",
    "1.  MainScreenAppear - просмотр главной страницы \n",
    "2. OffersScreenAppear - просмотр страницы предложений \n",
    "3. CartScreenAppear - просмотр корзины \n",
    "4. PaymentScreenSuccessful - переход на страницу успешной оплаты. \n",
    "\n",
    "Больше всего пользователей, почти 40%, мы теряем при переходе от просмотра главной страницы к просмотру страницы с предложениями. От просмотра главной страницы до успешной оплаты доходят около 48% пользователей.\n",
    "\n",
    "Во время А/А/B-теста пользователей разбили на 3 группы: 2 контрольные которые пользовались приложением со старыми шрифтами (А1 и А2) и одну экспериментальную —  с измененными шрифтами (В). Мы провели проверки на наличие статистически значимой разницы контрольных групп А1 и А2 между собой, контрольной группы А1 и экспериментальной B, контрольной А2 и экспериментальной В, суммарной контрольной группы А1+А2  и экспериментальной В. Чтобы снизить вероятность ложнопозитивного результата при множественном тестировании гипотез мы применили метод Шидака. Все проверки показали, что нет оснований считать группы разными - то есть **изменение шрифтов никак не повлияло на поведение пользователей приложения**."
   ]
  }
 ],
 "metadata": {
  "ExecuteTimeLog": [
   {
    "duration": 1217,
    "start_time": "2023-01-03T18:50:33.029Z"
   },
   {
    "duration": 584,
    "start_time": "2023-01-03T18:51:27.302Z"
   },
   {
    "duration": 276,
    "start_time": "2023-01-03T18:51:47.123Z"
   },
   {
    "duration": 11,
    "start_time": "2023-01-03T18:51:59.935Z"
   },
   {
    "duration": 7,
    "start_time": "2023-01-03T18:52:16.325Z"
   },
   {
    "duration": 43,
    "start_time": "2023-01-03T18:52:26.901Z"
   },
   {
    "duration": 71,
    "start_time": "2023-01-03T18:52:50.749Z"
   },
   {
    "duration": 51,
    "start_time": "2023-01-03T18:53:39.373Z"
   },
   {
    "duration": 281,
    "start_time": "2023-01-03T18:53:45.291Z"
   },
   {
    "duration": 42,
    "start_time": "2023-01-03T18:53:57.161Z"
   },
   {
    "duration": 42,
    "start_time": "2023-01-03T18:54:53.751Z"
   },
   {
    "duration": 65,
    "start_time": "2023-01-03T18:55:08.356Z"
   },
   {
    "duration": 148,
    "start_time": "2023-01-03T18:55:54.734Z"
   },
   {
    "duration": 146,
    "start_time": "2023-01-03T18:56:22.658Z"
   },
   {
    "duration": 7,
    "start_time": "2023-01-03T18:56:26.493Z"
   },
   {
    "duration": 19,
    "start_time": "2023-01-03T18:56:51.687Z"
   },
   {
    "duration": 156,
    "start_time": "2023-01-03T19:13:23.919Z"
   },
   {
    "duration": 158,
    "start_time": "2023-01-03T19:13:34.963Z"
   },
   {
    "duration": 155,
    "start_time": "2023-01-03T19:13:54.452Z"
   },
   {
    "duration": 139,
    "start_time": "2023-01-03T19:14:07.660Z"
   },
   {
    "duration": 4,
    "start_time": "2023-01-03T19:14:46.793Z"
   },
   {
    "duration": 6,
    "start_time": "2023-01-03T19:19:10.746Z"
   },
   {
    "duration": 5,
    "start_time": "2023-01-03T19:19:58.295Z"
   },
   {
    "duration": 6,
    "start_time": "2023-01-03T19:20:05.522Z"
   },
   {
    "duration": 30,
    "start_time": "2023-01-03T19:20:08.804Z"
   },
   {
    "duration": 92,
    "start_time": "2023-01-03T19:21:19.539Z"
   },
   {
    "duration": 52,
    "start_time": "2023-01-03T19:21:48.415Z"
   },
   {
    "duration": 32,
    "start_time": "2023-01-03T19:27:43.109Z"
   },
   {
    "duration": 18,
    "start_time": "2023-01-03T19:27:50.814Z"
   },
   {
    "duration": 20,
    "start_time": "2023-01-03T19:29:14.671Z"
   },
   {
    "duration": 18,
    "start_time": "2023-01-03T19:29:21.535Z"
   },
   {
    "duration": 17,
    "start_time": "2023-01-03T19:33:06.352Z"
   },
   {
    "duration": 17,
    "start_time": "2023-01-03T19:33:11.982Z"
   },
   {
    "duration": 11,
    "start_time": "2023-01-03T19:36:28.957Z"
   },
   {
    "duration": 18,
    "start_time": "2023-01-03T19:36:35.690Z"
   },
   {
    "duration": 5,
    "start_time": "2023-01-03T19:37:03.719Z"
   },
   {
    "duration": 9,
    "start_time": "2023-01-03T19:37:19.542Z"
   },
   {
    "duration": 706,
    "start_time": "2023-01-03T19:37:27.342Z"
   },
   {
    "duration": 5,
    "start_time": "2023-01-03T19:38:36.943Z"
   },
   {
    "duration": 18,
    "start_time": "2023-01-03T19:38:40.248Z"
   },
   {
    "duration": 708,
    "start_time": "2023-01-03T19:39:10.220Z"
   },
   {
    "duration": 10,
    "start_time": "2023-01-03T19:39:29.211Z"
   },
   {
    "duration": 19,
    "start_time": "2023-01-03T19:39:31.581Z"
   },
   {
    "duration": 25,
    "start_time": "2023-01-03T19:39:35.678Z"
   },
   {
    "duration": 11,
    "start_time": "2023-01-03T19:39:51.943Z"
   },
   {
    "duration": 13,
    "start_time": "2023-01-03T19:40:01.091Z"
   },
   {
    "duration": 1030,
    "start_time": "2023-01-03T19:40:22.192Z"
   },
   {
    "duration": 152,
    "start_time": "2023-01-03T19:40:23.224Z"
   },
   {
    "duration": 11,
    "start_time": "2023-01-03T19:40:23.377Z"
   },
   {
    "duration": 15,
    "start_time": "2023-01-03T19:40:23.397Z"
   },
   {
    "duration": 18,
    "start_time": "2023-01-03T19:40:23.413Z"
   },
   {
    "duration": 808,
    "start_time": "2023-01-03T19:40:23.432Z"
   },
   {
    "duration": 0,
    "start_time": "2023-01-03T19:40:24.241Z"
   },
   {
    "duration": 17,
    "start_time": "2023-01-03T19:48:34.572Z"
   },
   {
    "duration": 17,
    "start_time": "2023-01-03T19:49:52.758Z"
   },
   {
    "duration": 17,
    "start_time": "2023-01-03T19:50:03.177Z"
   },
   {
    "duration": 179,
    "start_time": "2023-01-03T19:50:13.371Z"
   },
   {
    "duration": 18,
    "start_time": "2023-01-03T19:50:20.020Z"
   },
   {
    "duration": 170,
    "start_time": "2023-01-03T19:52:16.918Z"
   },
   {
    "duration": 16,
    "start_time": "2023-01-03T19:52:25.877Z"
   },
   {
    "duration": 18,
    "start_time": "2023-01-03T19:57:18.206Z"
   },
   {
    "duration": 16,
    "start_time": "2023-01-03T19:57:34.337Z"
   },
   {
    "duration": 77,
    "start_time": "2023-01-03T19:58:23.892Z"
   },
   {
    "duration": 86,
    "start_time": "2023-01-03T19:58:37.067Z"
   },
   {
    "duration": 16,
    "start_time": "2023-01-03T19:59:13.844Z"
   },
   {
    "duration": 83,
    "start_time": "2023-01-03T20:00:02.491Z"
   },
   {
    "duration": 11,
    "start_time": "2023-01-03T20:00:13.388Z"
   },
   {
    "duration": 108,
    "start_time": "2023-01-03T20:02:18.923Z"
   },
   {
    "duration": 73,
    "start_time": "2023-01-03T20:04:32.874Z"
   },
   {
    "duration": 76,
    "start_time": "2023-01-03T20:05:03.160Z"
   },
   {
    "duration": 147,
    "start_time": "2023-01-03T20:06:21.040Z"
   },
   {
    "duration": 148,
    "start_time": "2023-01-03T20:07:32.031Z"
   },
   {
    "duration": 154,
    "start_time": "2023-01-03T20:07:41.387Z"
   },
   {
    "duration": 172,
    "start_time": "2023-01-03T20:07:50.009Z"
   },
   {
    "duration": 152,
    "start_time": "2023-01-03T20:09:12.627Z"
   },
   {
    "duration": 149,
    "start_time": "2023-01-03T20:09:34.158Z"
   },
   {
    "duration": 150,
    "start_time": "2023-01-03T20:12:11.267Z"
   },
   {
    "duration": 3,
    "start_time": "2023-01-03T20:14:54.776Z"
   },
   {
    "duration": 77,
    "start_time": "2023-01-03T20:15:02.930Z"
   },
   {
    "duration": 4,
    "start_time": "2023-01-03T20:15:38.343Z"
   },
   {
    "duration": 51,
    "start_time": "2023-01-03T20:15:44.433Z"
   },
   {
    "duration": 157,
    "start_time": "2023-01-03T20:15:58.080Z"
   },
   {
    "duration": 62,
    "start_time": "2023-01-03T20:17:04.433Z"
   },
   {
    "duration": 51,
    "start_time": "2023-01-03T20:17:11.726Z"
   },
   {
    "duration": 158,
    "start_time": "2023-01-03T20:17:37.576Z"
   },
   {
    "duration": 148,
    "start_time": "2023-01-03T20:19:23.544Z"
   },
   {
    "duration": 223,
    "start_time": "2023-01-03T20:20:23.684Z"
   },
   {
    "duration": 221,
    "start_time": "2023-01-03T20:20:55.672Z"
   },
   {
    "duration": 226,
    "start_time": "2023-01-03T20:21:55.556Z"
   },
   {
    "duration": 308,
    "start_time": "2023-01-03T20:22:24.330Z"
   },
   {
    "duration": 49,
    "start_time": "2023-01-03T20:22:46.028Z"
   },
   {
    "duration": 289,
    "start_time": "2023-01-03T20:22:55.718Z"
   },
   {
    "duration": 293,
    "start_time": "2023-01-03T20:23:06.672Z"
   },
   {
    "duration": 293,
    "start_time": "2023-01-03T20:23:18.260Z"
   },
   {
    "duration": 297,
    "start_time": "2023-01-03T20:24:16.525Z"
   },
   {
    "duration": 284,
    "start_time": "2023-01-03T20:25:18.529Z"
   },
   {
    "duration": 319,
    "start_time": "2023-01-03T20:28:24.298Z"
   },
   {
    "duration": 49,
    "start_time": "2023-01-03T20:28:49.300Z"
   },
   {
    "duration": 298,
    "start_time": "2023-01-03T20:29:07.516Z"
   },
   {
    "duration": 305,
    "start_time": "2023-01-03T20:30:03.403Z"
   },
   {
    "duration": 292,
    "start_time": "2023-01-03T20:30:37.279Z"
   },
   {
    "duration": 106,
    "start_time": "2023-01-03T20:31:20.897Z"
   },
   {
    "duration": 151,
    "start_time": "2023-01-03T20:31:40.688Z"
   },
   {
    "duration": 99,
    "start_time": "2023-01-03T20:32:01.949Z"
   },
   {
    "duration": 219,
    "start_time": "2023-01-03T20:32:08.398Z"
   },
   {
    "duration": 11,
    "start_time": "2023-01-03T20:34:55.552Z"
   },
   {
    "duration": 28,
    "start_time": "2023-01-03T20:34:59.493Z"
   },
   {
    "duration": 93,
    "start_time": "2023-01-03T20:35:04.674Z"
   },
   {
    "duration": 1067,
    "start_time": "2023-01-03T20:35:21.568Z"
   },
   {
    "duration": 158,
    "start_time": "2023-01-03T20:35:22.636Z"
   },
   {
    "duration": 12,
    "start_time": "2023-01-03T20:35:22.797Z"
   },
   {
    "duration": 8,
    "start_time": "2023-01-03T20:35:22.811Z"
   },
   {
    "duration": 19,
    "start_time": "2023-01-03T20:35:22.820Z"
   },
   {
    "duration": 95,
    "start_time": "2023-01-03T20:35:22.841Z"
   },
   {
    "duration": 321,
    "start_time": "2023-01-03T20:35:22.938Z"
   },
   {
    "duration": 233,
    "start_time": "2023-01-03T20:35:23.261Z"
   },
   {
    "duration": 48,
    "start_time": "2023-01-03T20:42:15.677Z"
   },
   {
    "duration": 46,
    "start_time": "2023-01-03T20:43:07.223Z"
   },
   {
    "duration": 49,
    "start_time": "2023-01-03T20:43:15.693Z"
   },
   {
    "duration": 45,
    "start_time": "2023-01-03T20:44:53.952Z"
   },
   {
    "duration": 54,
    "start_time": "2023-01-03T20:45:26.201Z"
   },
   {
    "duration": 38,
    "start_time": "2023-01-03T20:47:32.351Z"
   },
   {
    "duration": 70,
    "start_time": "2023-01-03T20:47:43.416Z"
   },
   {
    "duration": 3,
    "start_time": "2023-01-03T20:47:58.094Z"
   },
   {
    "duration": 42,
    "start_time": "2023-01-03T20:48:19.609Z"
   },
   {
    "duration": 41,
    "start_time": "2023-01-03T20:48:44.787Z"
   },
   {
    "duration": 3,
    "start_time": "2023-01-03T20:49:33.189Z"
   },
   {
    "duration": 37,
    "start_time": "2023-01-03T20:51:15.039Z"
   },
   {
    "duration": 48,
    "start_time": "2023-01-03T20:51:34.005Z"
   },
   {
    "duration": 60,
    "start_time": "2023-01-03T20:52:15.012Z"
   },
   {
    "duration": 49,
    "start_time": "2023-01-03T20:56:04.663Z"
   },
   {
    "duration": 45,
    "start_time": "2023-01-03T20:57:15.033Z"
   },
   {
    "duration": 28,
    "start_time": "2023-01-03T22:43:43.299Z"
   },
   {
    "duration": 40,
    "start_time": "2023-01-03T22:45:04.083Z"
   },
   {
    "duration": 27,
    "start_time": "2023-01-03T22:45:52.416Z"
   },
   {
    "duration": 26,
    "start_time": "2023-01-03T22:46:04.302Z"
   },
   {
    "duration": 44,
    "start_time": "2023-01-03T22:46:30.008Z"
   },
   {
    "duration": 85,
    "start_time": "2023-01-03T22:48:00.618Z"
   },
   {
    "duration": 28,
    "start_time": "2023-01-03T22:48:36.258Z"
   },
   {
    "duration": 31,
    "start_time": "2023-01-03T22:49:18.689Z"
   },
   {
    "duration": 25,
    "start_time": "2023-01-03T22:50:21.589Z"
   },
   {
    "duration": 7,
    "start_time": "2023-01-03T22:50:40.700Z"
   },
   {
    "duration": 6,
    "start_time": "2023-01-03T22:50:56.590Z"
   },
   {
    "duration": 17,
    "start_time": "2023-01-03T22:52:38.093Z"
   },
   {
    "duration": 16,
    "start_time": "2023-01-03T22:53:08.885Z"
   },
   {
    "duration": 45,
    "start_time": "2023-01-03T22:54:01.414Z"
   },
   {
    "duration": 45,
    "start_time": "2023-01-03T22:54:35.894Z"
   },
   {
    "duration": 7,
    "start_time": "2023-01-03T22:55:06.657Z"
   },
   {
    "duration": 14,
    "start_time": "2023-01-03T22:56:01.059Z"
   },
   {
    "duration": 14,
    "start_time": "2023-01-03T22:56:40.874Z"
   },
   {
    "duration": 14,
    "start_time": "2023-01-03T22:57:11.908Z"
   },
   {
    "duration": 15,
    "start_time": "2023-01-03T22:59:29.814Z"
   },
   {
    "duration": 15,
    "start_time": "2023-01-03T23:00:49.890Z"
   },
   {
    "duration": 16,
    "start_time": "2023-01-03T23:01:07.948Z"
   },
   {
    "duration": 10,
    "start_time": "2023-01-03T23:02:40.748Z"
   },
   {
    "duration": 8,
    "start_time": "2023-01-03T23:03:17.238Z"
   },
   {
    "duration": 6,
    "start_time": "2023-01-03T23:06:35.031Z"
   },
   {
    "duration": 5,
    "start_time": "2023-01-03T23:07:05.172Z"
   },
   {
    "duration": 6,
    "start_time": "2023-01-03T23:11:29.623Z"
   },
   {
    "duration": 5,
    "start_time": "2023-01-03T23:13:21.561Z"
   },
   {
    "duration": 28,
    "start_time": "2023-01-03T23:15:09.446Z"
   },
   {
    "duration": 36,
    "start_time": "2023-01-03T23:19:10.646Z"
   },
   {
    "duration": 212,
    "start_time": "2023-01-03T23:20:29.287Z"
   },
   {
    "duration": 148,
    "start_time": "2023-01-03T23:20:52.128Z"
   },
   {
    "duration": 162,
    "start_time": "2023-01-03T23:20:57.467Z"
   },
   {
    "duration": 169,
    "start_time": "2023-01-03T23:21:20.998Z"
   },
   {
    "duration": 8,
    "start_time": "2023-01-03T23:21:53.433Z"
   },
   {
    "duration": 8,
    "start_time": "2023-01-03T23:22:07.490Z"
   },
   {
    "duration": 8,
    "start_time": "2023-01-03T23:22:44.119Z"
   },
   {
    "duration": 169,
    "start_time": "2023-01-03T23:22:59.067Z"
   },
   {
    "duration": 171,
    "start_time": "2023-01-03T23:23:09.414Z"
   },
   {
    "duration": 177,
    "start_time": "2023-01-03T23:23:21.035Z"
   },
   {
    "duration": 187,
    "start_time": "2023-01-03T23:23:28.847Z"
   },
   {
    "duration": 329,
    "start_time": "2023-01-03T23:27:41.697Z"
   },
   {
    "duration": 326,
    "start_time": "2023-01-03T23:27:49.928Z"
   },
   {
    "duration": 306,
    "start_time": "2023-01-03T23:27:58.642Z"
   },
   {
    "duration": 308,
    "start_time": "2023-01-03T23:31:40.732Z"
   },
   {
    "duration": 317,
    "start_time": "2023-01-03T23:39:53.636Z"
   },
   {
    "duration": 435,
    "start_time": "2023-01-03T23:41:20.927Z"
   },
   {
    "duration": 304,
    "start_time": "2023-01-03T23:41:48.655Z"
   },
   {
    "duration": 325,
    "start_time": "2023-01-03T23:42:02.317Z"
   },
   {
    "duration": 335,
    "start_time": "2023-01-03T23:42:23.755Z"
   },
   {
    "duration": 310,
    "start_time": "2023-01-03T23:42:33.145Z"
   },
   {
    "duration": 23,
    "start_time": "2023-01-03T23:49:14.629Z"
   },
   {
    "duration": 45,
    "start_time": "2023-01-03T23:52:47.395Z"
   },
   {
    "duration": 52,
    "start_time": "2023-01-03T23:53:16.807Z"
   },
   {
    "duration": 227,
    "start_time": "2023-01-03T23:55:54.379Z"
   },
   {
    "duration": 27,
    "start_time": "2023-01-03T23:56:18.720Z"
   },
   {
    "duration": 60,
    "start_time": "2023-01-04T00:04:15.227Z"
   },
   {
    "duration": 9,
    "start_time": "2023-01-04T00:04:32.395Z"
   },
   {
    "duration": 7,
    "start_time": "2023-01-04T00:05:10.431Z"
   },
   {
    "duration": 6,
    "start_time": "2023-01-04T00:05:27.940Z"
   },
   {
    "duration": 8,
    "start_time": "2023-01-04T00:05:38.247Z"
   },
   {
    "duration": 29,
    "start_time": "2023-01-04T00:05:51.978Z"
   },
   {
    "duration": 4,
    "start_time": "2023-01-04T00:08:18.921Z"
   },
   {
    "duration": 8,
    "start_time": "2023-01-04T00:08:46.539Z"
   },
   {
    "duration": 2,
    "start_time": "2023-01-04T00:08:56.403Z"
   },
   {
    "duration": 8,
    "start_time": "2023-01-04T00:09:10.083Z"
   },
   {
    "duration": 8,
    "start_time": "2023-01-04T00:11:19.434Z"
   },
   {
    "duration": 8,
    "start_time": "2023-01-04T00:11:40.546Z"
   },
   {
    "duration": 10,
    "start_time": "2023-01-04T00:12:34.579Z"
   },
   {
    "duration": 9,
    "start_time": "2023-01-04T00:12:41.254Z"
   },
   {
    "duration": 8,
    "start_time": "2023-01-04T00:12:51.491Z"
   },
   {
    "duration": 1026,
    "start_time": "2023-01-04T00:12:59.404Z"
   },
   {
    "duration": 161,
    "start_time": "2023-01-04T00:13:00.432Z"
   },
   {
    "duration": 13,
    "start_time": "2023-01-04T00:13:00.595Z"
   },
   {
    "duration": 52,
    "start_time": "2023-01-04T00:13:00.610Z"
   },
   {
    "duration": 46,
    "start_time": "2023-01-04T00:13:00.664Z"
   },
   {
    "duration": 107,
    "start_time": "2023-01-04T00:13:00.711Z"
   },
   {
    "duration": 318,
    "start_time": "2023-01-04T00:13:00.820Z"
   },
   {
    "duration": 227,
    "start_time": "2023-01-04T00:13:01.140Z"
   },
   {
    "duration": 3,
    "start_time": "2023-01-04T00:13:01.369Z"
   },
   {
    "duration": 68,
    "start_time": "2023-01-04T00:13:01.374Z"
   },
   {
    "duration": 44,
    "start_time": "2023-01-04T00:13:01.443Z"
   },
   {
    "duration": 34,
    "start_time": "2023-01-04T00:13:01.489Z"
   },
   {
    "duration": 6,
    "start_time": "2023-01-04T00:13:01.524Z"
   },
   {
    "duration": 25,
    "start_time": "2023-01-04T00:13:01.532Z"
   },
   {
    "duration": 21,
    "start_time": "2023-01-04T00:13:01.559Z"
   },
   {
    "duration": 18,
    "start_time": "2023-01-04T00:13:01.581Z"
   },
   {
    "duration": 51,
    "start_time": "2023-01-04T00:13:01.601Z"
   },
   {
    "duration": 386,
    "start_time": "2023-01-04T00:13:01.654Z"
   },
   {
    "duration": 28,
    "start_time": "2023-01-04T00:13:02.042Z"
   },
   {
    "duration": 20,
    "start_time": "2023-01-04T00:13:53.082Z"
   },
   {
    "duration": 313,
    "start_time": "2023-01-04T00:14:59.364Z"
   },
   {
    "duration": 242,
    "start_time": "2023-01-04T00:16:20.467Z"
   },
   {
    "duration": 58,
    "start_time": "2023-01-05T18:36:16.221Z"
   },
   {
    "duration": 1189,
    "start_time": "2023-01-05T18:36:26.048Z"
   },
   {
    "duration": 468,
    "start_time": "2023-01-05T18:36:27.239Z"
   },
   {
    "duration": 13,
    "start_time": "2023-01-05T18:36:27.709Z"
   },
   {
    "duration": 11,
    "start_time": "2023-01-05T18:36:27.724Z"
   },
   {
    "duration": 18,
    "start_time": "2023-01-05T18:36:27.737Z"
   },
   {
    "duration": 86,
    "start_time": "2023-01-05T18:36:27.757Z"
   },
   {
    "duration": 318,
    "start_time": "2023-01-05T18:36:27.845Z"
   },
   {
    "duration": 229,
    "start_time": "2023-01-05T18:36:28.164Z"
   },
   {
    "duration": 2,
    "start_time": "2023-01-05T18:36:28.395Z"
   },
   {
    "duration": 57,
    "start_time": "2023-01-05T18:36:28.399Z"
   },
   {
    "duration": 58,
    "start_time": "2023-01-05T18:36:28.458Z"
   },
   {
    "duration": 28,
    "start_time": "2023-01-05T18:36:28.517Z"
   },
   {
    "duration": 7,
    "start_time": "2023-01-05T18:36:28.546Z"
   },
   {
    "duration": 14,
    "start_time": "2023-01-05T18:36:28.554Z"
   },
   {
    "duration": 6,
    "start_time": "2023-01-05T18:36:28.596Z"
   },
   {
    "duration": 6,
    "start_time": "2023-01-05T18:36:28.603Z"
   },
   {
    "duration": 26,
    "start_time": "2023-01-05T18:36:28.611Z"
   },
   {
    "duration": 476,
    "start_time": "2023-01-05T18:36:28.638Z"
   },
   {
    "duration": 19,
    "start_time": "2023-01-05T18:36:29.115Z"
   },
   {
    "duration": 308,
    "start_time": "2023-01-05T18:36:29.135Z"
   },
   {
    "duration": 5,
    "start_time": "2023-01-05T18:36:29.444Z"
   },
   {
    "duration": 4,
    "start_time": "2023-01-05T18:37:09.368Z"
   },
   {
    "duration": 47,
    "start_time": "2023-01-05T18:39:20.200Z"
   },
   {
    "duration": 3,
    "start_time": "2023-01-05T18:39:33.100Z"
   },
   {
    "duration": 3,
    "start_time": "2023-01-05T18:39:58.941Z"
   },
   {
    "duration": 41,
    "start_time": "2023-01-05T18:40:37.532Z"
   },
   {
    "duration": 46,
    "start_time": "2023-01-05T18:40:48.803Z"
   },
   {
    "duration": 67,
    "start_time": "2023-01-05T18:40:59.468Z"
   },
   {
    "duration": 3,
    "start_time": "2023-01-05T18:41:12.694Z"
   },
   {
    "duration": 50,
    "start_time": "2023-01-05T18:41:33.134Z"
   },
   {
    "duration": 3,
    "start_time": "2023-01-05T18:41:46.817Z"
   },
   {
    "duration": 6,
    "start_time": "2023-01-05T18:43:14.727Z"
   },
   {
    "duration": 8,
    "start_time": "2023-01-05T18:43:34.835Z"
   },
   {
    "duration": 11,
    "start_time": "2023-01-05T18:43:58.483Z"
   },
   {
    "duration": 12,
    "start_time": "2023-01-05T18:44:33.773Z"
   },
   {
    "duration": 68,
    "start_time": "2023-01-05T18:46:54.756Z"
   },
   {
    "duration": 59,
    "start_time": "2023-01-05T18:48:14.796Z"
   },
   {
    "duration": 44,
    "start_time": "2023-01-05T18:48:34.529Z"
   },
   {
    "duration": 13,
    "start_time": "2023-01-05T18:49:36.512Z"
   },
   {
    "duration": 11,
    "start_time": "2023-01-05T18:49:42.906Z"
   },
   {
    "duration": 3,
    "start_time": "2023-01-05T18:50:21.750Z"
   },
   {
    "duration": 49,
    "start_time": "2023-01-05T18:50:57.656Z"
   },
   {
    "duration": 44,
    "start_time": "2023-01-05T18:51:28.686Z"
   },
   {
    "duration": 41,
    "start_time": "2023-01-05T18:52:18.743Z"
   },
   {
    "duration": 91,
    "start_time": "2023-01-05T18:52:31.721Z"
   },
   {
    "duration": 14,
    "start_time": "2023-01-05T18:52:39.261Z"
   },
   {
    "duration": 10,
    "start_time": "2023-01-05T18:53:34.121Z"
   },
   {
    "duration": 10,
    "start_time": "2023-01-05T18:54:37.368Z"
   },
   {
    "duration": 41,
    "start_time": "2023-01-05T19:01:22.099Z"
   },
   {
    "duration": 37,
    "start_time": "2023-01-05T19:01:41.095Z"
   },
   {
    "duration": 57,
    "start_time": "2023-01-05T19:03:26.051Z"
   },
   {
    "duration": 46,
    "start_time": "2023-01-05T19:03:41.917Z"
   },
   {
    "duration": 37,
    "start_time": "2023-01-05T19:03:54.182Z"
   },
   {
    "duration": 27,
    "start_time": "2023-01-05T19:21:56.062Z"
   },
   {
    "duration": 54,
    "start_time": "2023-01-05T19:29:16.120Z"
   },
   {
    "duration": 60,
    "start_time": "2023-01-05T19:32:11.371Z"
   },
   {
    "duration": 64,
    "start_time": "2023-01-05T19:33:47.175Z"
   },
   {
    "duration": 64,
    "start_time": "2023-01-05T19:34:35.773Z"
   },
   {
    "duration": 57,
    "start_time": "2023-01-05T19:35:17.301Z"
   },
   {
    "duration": 77,
    "start_time": "2023-01-05T19:35:25.983Z"
   },
   {
    "duration": 55,
    "start_time": "2023-01-05T19:42:33.135Z"
   },
   {
    "duration": 81,
    "start_time": "2023-01-05T19:47:53.557Z"
   },
   {
    "duration": 58,
    "start_time": "2023-01-05T19:49:14.334Z"
   },
   {
    "duration": 67,
    "start_time": "2023-01-05T19:52:21.386Z"
   },
   {
    "duration": 51,
    "start_time": "2023-01-05T19:52:47.450Z"
   },
   {
    "duration": 72,
    "start_time": "2023-01-05T19:54:26.069Z"
   },
   {
    "duration": 683,
    "start_time": "2023-01-05T19:57:32.356Z"
   },
   {
    "duration": 8,
    "start_time": "2023-01-05T19:57:53.516Z"
   },
   {
    "duration": 12,
    "start_time": "2023-01-05T19:58:03.666Z"
   },
   {
    "duration": 11,
    "start_time": "2023-01-05T19:58:39.977Z"
   },
   {
    "duration": 7,
    "start_time": "2023-01-05T20:00:08.947Z"
   },
   {
    "duration": 1136,
    "start_time": "2023-01-05T20:10:03.237Z"
   },
   {
    "duration": 9,
    "start_time": "2023-01-05T20:10:59.535Z"
   },
   {
    "duration": 1248,
    "start_time": "2023-01-05T20:11:23.082Z"
   },
   {
    "duration": 4,
    "start_time": "2023-01-05T20:32:37.391Z"
   },
   {
    "duration": 5,
    "start_time": "2023-01-05T20:32:43.836Z"
   },
   {
    "duration": 13,
    "start_time": "2023-01-05T20:36:02.349Z"
   },
   {
    "duration": 18,
    "start_time": "2023-01-05T20:39:10.544Z"
   },
   {
    "duration": 722,
    "start_time": "2023-01-05T20:39:44.888Z"
   },
   {
    "duration": 711,
    "start_time": "2023-01-05T20:41:08.318Z"
   },
   {
    "duration": 1067,
    "start_time": "2023-01-05T20:41:31.069Z"
   },
   {
    "duration": 149,
    "start_time": "2023-01-05T20:41:32.137Z"
   },
   {
    "duration": 13,
    "start_time": "2023-01-05T20:41:32.287Z"
   },
   {
    "duration": 8,
    "start_time": "2023-01-05T20:41:32.302Z"
   },
   {
    "duration": 17,
    "start_time": "2023-01-05T20:41:32.311Z"
   },
   {
    "duration": 99,
    "start_time": "2023-01-05T20:41:32.330Z"
   },
   {
    "duration": 349,
    "start_time": "2023-01-05T20:41:32.431Z"
   },
   {
    "duration": 231,
    "start_time": "2023-01-05T20:41:32.781Z"
   },
   {
    "duration": 3,
    "start_time": "2023-01-05T20:41:33.014Z"
   },
   {
    "duration": 58,
    "start_time": "2023-01-05T20:41:33.019Z"
   },
   {
    "duration": 57,
    "start_time": "2023-01-05T20:41:33.079Z"
   },
   {
    "duration": 28,
    "start_time": "2023-01-05T20:41:33.137Z"
   },
   {
    "duration": 6,
    "start_time": "2023-01-05T20:41:33.167Z"
   },
   {
    "duration": 13,
    "start_time": "2023-01-05T20:41:33.196Z"
   },
   {
    "duration": 7,
    "start_time": "2023-01-05T20:41:33.211Z"
   },
   {
    "duration": 8,
    "start_time": "2023-01-05T20:41:33.219Z"
   },
   {
    "duration": 29,
    "start_time": "2023-01-05T20:41:33.228Z"
   },
   {
    "duration": 436,
    "start_time": "2023-01-05T20:41:33.259Z"
   },
   {
    "duration": 18,
    "start_time": "2023-01-05T20:41:33.697Z"
   },
   {
    "duration": 304,
    "start_time": "2023-01-05T20:41:33.717Z"
   },
   {
    "duration": 4,
    "start_time": "2023-01-05T20:41:34.022Z"
   },
   {
    "duration": 14,
    "start_time": "2023-01-05T20:41:34.028Z"
   },
   {
    "duration": 57,
    "start_time": "2023-01-05T20:41:34.043Z"
   },
   {
    "duration": 40,
    "start_time": "2023-01-05T20:41:34.101Z"
   },
   {
    "duration": 20,
    "start_time": "2023-01-05T20:41:34.143Z"
   },
   {
    "duration": 69,
    "start_time": "2023-01-05T20:41:34.165Z"
   },
   {
    "duration": 11,
    "start_time": "2023-01-05T20:41:34.236Z"
   },
   {
    "duration": 2,
    "start_time": "2023-01-05T20:41:34.251Z"
   },
   {
    "duration": 851,
    "start_time": "2023-01-05T20:41:34.255Z"
   },
   {
    "duration": 0,
    "start_time": "2023-01-05T20:41:35.107Z"
   },
   {
    "duration": 788,
    "start_time": "2023-01-05T20:41:45.883Z"
   },
   {
    "duration": 986,
    "start_time": "2023-01-05T20:42:40.259Z"
   },
   {
    "duration": 150,
    "start_time": "2023-01-05T20:42:41.247Z"
   },
   {
    "duration": 12,
    "start_time": "2023-01-05T20:42:41.398Z"
   },
   {
    "duration": 13,
    "start_time": "2023-01-05T20:42:41.412Z"
   },
   {
    "duration": 19,
    "start_time": "2023-01-05T20:42:41.427Z"
   },
   {
    "duration": 95,
    "start_time": "2023-01-05T20:42:41.448Z"
   },
   {
    "duration": 317,
    "start_time": "2023-01-05T20:42:41.545Z"
   },
   {
    "duration": 226,
    "start_time": "2023-01-05T20:42:41.863Z"
   },
   {
    "duration": 7,
    "start_time": "2023-01-05T20:42:42.090Z"
   },
   {
    "duration": 61,
    "start_time": "2023-01-05T20:42:42.099Z"
   },
   {
    "duration": 53,
    "start_time": "2023-01-05T20:42:42.162Z"
   },
   {
    "duration": 26,
    "start_time": "2023-01-05T20:42:42.216Z"
   },
   {
    "duration": 7,
    "start_time": "2023-01-05T20:42:42.243Z"
   },
   {
    "duration": 13,
    "start_time": "2023-01-05T20:42:42.251Z"
   },
   {
    "duration": 5,
    "start_time": "2023-01-05T20:42:42.266Z"
   },
   {
    "duration": 5,
    "start_time": "2023-01-05T20:42:42.297Z"
   },
   {
    "duration": 24,
    "start_time": "2023-01-05T20:42:42.304Z"
   },
   {
    "duration": 428,
    "start_time": "2023-01-05T20:42:42.330Z"
   },
   {
    "duration": 19,
    "start_time": "2023-01-05T20:42:42.760Z"
   },
   {
    "duration": 309,
    "start_time": "2023-01-05T20:42:42.781Z"
   },
   {
    "duration": 4,
    "start_time": "2023-01-05T20:42:43.095Z"
   },
   {
    "duration": 28,
    "start_time": "2023-01-05T20:42:43.100Z"
   },
   {
    "duration": 41,
    "start_time": "2023-01-05T20:42:43.130Z"
   },
   {
    "duration": 51,
    "start_time": "2023-01-05T20:42:43.172Z"
   },
   {
    "duration": 19,
    "start_time": "2023-01-05T20:42:43.225Z"
   },
   {
    "duration": 71,
    "start_time": "2023-01-05T20:42:43.245Z"
   },
   {
    "duration": 11,
    "start_time": "2023-01-05T20:42:43.317Z"
   },
   {
    "duration": 2,
    "start_time": "2023-01-05T20:42:43.331Z"
   },
   {
    "duration": 141,
    "start_time": "2023-01-05T20:42:43.335Z"
   },
   {
    "duration": 21,
    "start_time": "2023-01-05T20:42:43.480Z"
   },
   {
    "duration": 5,
    "start_time": "2023-01-05T20:43:39.364Z"
   },
   {
    "duration": 5,
    "start_time": "2023-01-05T20:43:42.791Z"
   },
   {
    "duration": 4,
    "start_time": "2023-01-05T20:51:25.069Z"
   },
   {
    "duration": 5,
    "start_time": "2023-01-05T20:52:03.343Z"
   },
   {
    "duration": 8,
    "start_time": "2023-01-05T20:52:13.424Z"
   },
   {
    "duration": 46,
    "start_time": "2023-01-05T21:17:32.288Z"
   },
   {
    "duration": 13,
    "start_time": "2023-01-05T21:22:52.506Z"
   },
   {
    "duration": 9,
    "start_time": "2023-01-05T21:23:14.043Z"
   },
   {
    "duration": 9,
    "start_time": "2023-01-05T21:23:31.240Z"
   },
   {
    "duration": 1051,
    "start_time": "2023-01-05T21:23:48.597Z"
   },
   {
    "duration": 148,
    "start_time": "2023-01-05T21:23:49.649Z"
   },
   {
    "duration": 10,
    "start_time": "2023-01-05T21:23:49.799Z"
   },
   {
    "duration": 10,
    "start_time": "2023-01-05T21:23:49.811Z"
   },
   {
    "duration": 18,
    "start_time": "2023-01-05T21:23:49.822Z"
   },
   {
    "duration": 99,
    "start_time": "2023-01-05T21:23:49.842Z"
   },
   {
    "duration": 320,
    "start_time": "2023-01-05T21:23:49.942Z"
   },
   {
    "duration": 245,
    "start_time": "2023-01-05T21:23:50.264Z"
   },
   {
    "duration": 3,
    "start_time": "2023-01-05T21:23:50.511Z"
   },
   {
    "duration": 62,
    "start_time": "2023-01-05T21:23:50.517Z"
   },
   {
    "duration": 59,
    "start_time": "2023-01-05T21:23:50.581Z"
   },
   {
    "duration": 26,
    "start_time": "2023-01-05T21:23:50.641Z"
   },
   {
    "duration": 6,
    "start_time": "2023-01-05T21:23:50.669Z"
   },
   {
    "duration": 13,
    "start_time": "2023-01-05T21:23:50.696Z"
   },
   {
    "duration": 6,
    "start_time": "2023-01-05T21:23:50.711Z"
   },
   {
    "duration": 6,
    "start_time": "2023-01-05T21:23:50.718Z"
   },
   {
    "duration": 26,
    "start_time": "2023-01-05T21:23:50.725Z"
   },
   {
    "duration": 443,
    "start_time": "2023-01-05T21:23:50.753Z"
   },
   {
    "duration": 19,
    "start_time": "2023-01-05T21:23:51.198Z"
   },
   {
    "duration": 291,
    "start_time": "2023-01-05T21:23:51.218Z"
   },
   {
    "duration": 4,
    "start_time": "2023-01-05T21:23:51.511Z"
   },
   {
    "duration": 22,
    "start_time": "2023-01-05T21:23:51.517Z"
   },
   {
    "duration": 44,
    "start_time": "2023-01-05T21:23:51.541Z"
   },
   {
    "duration": 38,
    "start_time": "2023-01-05T21:23:51.597Z"
   },
   {
    "duration": 20,
    "start_time": "2023-01-05T21:23:51.637Z"
   },
   {
    "duration": 75,
    "start_time": "2023-01-05T21:23:51.659Z"
   },
   {
    "duration": 13,
    "start_time": "2023-01-05T21:23:51.736Z"
   },
   {
    "duration": 140,
    "start_time": "2023-01-05T21:23:51.752Z"
   },
   {
    "duration": 5,
    "start_time": "2023-01-05T21:23:51.896Z"
   },
   {
    "duration": 22,
    "start_time": "2023-01-05T21:23:51.903Z"
   },
   {
    "duration": 92,
    "start_time": "2023-01-05T21:23:51.927Z"
   },
   {
    "duration": 1248,
    "start_time": "2023-01-07T12:01:19.642Z"
   },
   {
    "duration": 761,
    "start_time": "2023-01-07T12:01:20.893Z"
   },
   {
    "duration": 16,
    "start_time": "2023-01-07T12:01:21.656Z"
   },
   {
    "duration": 49,
    "start_time": "2023-01-07T12:01:21.675Z"
   },
   {
    "duration": 51,
    "start_time": "2023-01-07T12:01:21.726Z"
   },
   {
    "duration": 91,
    "start_time": "2023-01-07T12:01:21.779Z"
   },
   {
    "duration": 380,
    "start_time": "2023-01-07T12:01:21.872Z"
   },
   {
    "duration": 259,
    "start_time": "2023-01-07T12:01:22.254Z"
   },
   {
    "duration": 8,
    "start_time": "2023-01-07T12:01:22.515Z"
   },
   {
    "duration": 108,
    "start_time": "2023-01-07T12:01:22.526Z"
   },
   {
    "duration": 70,
    "start_time": "2023-01-07T12:01:22.636Z"
   },
   {
    "duration": 41,
    "start_time": "2023-01-07T12:01:22.708Z"
   },
   {
    "duration": 9,
    "start_time": "2023-01-07T12:01:22.751Z"
   },
   {
    "duration": 43,
    "start_time": "2023-01-07T12:01:22.762Z"
   },
   {
    "duration": 18,
    "start_time": "2023-01-07T12:01:22.807Z"
   },
   {
    "duration": 65,
    "start_time": "2023-01-07T12:01:22.827Z"
   },
   {
    "duration": 73,
    "start_time": "2023-01-07T12:01:22.894Z"
   },
   {
    "duration": 476,
    "start_time": "2023-01-07T12:01:22.969Z"
   },
   {
    "duration": 19,
    "start_time": "2023-01-07T12:01:23.447Z"
   },
   {
    "duration": 301,
    "start_time": "2023-01-07T12:01:23.468Z"
   },
   {
    "duration": 3,
    "start_time": "2023-01-07T12:01:23.771Z"
   },
   {
    "duration": 43,
    "start_time": "2023-01-07T12:01:23.776Z"
   },
   {
    "duration": 90,
    "start_time": "2023-01-07T12:01:23.822Z"
   },
   {
    "duration": 57,
    "start_time": "2023-01-07T12:01:23.914Z"
   },
   {
    "duration": 34,
    "start_time": "2023-01-07T12:01:23.973Z"
   },
   {
    "duration": 103,
    "start_time": "2023-01-07T12:01:24.009Z"
   },
   {
    "duration": 16,
    "start_time": "2023-01-07T12:01:24.114Z"
   },
   {
    "duration": 193,
    "start_time": "2023-01-07T12:01:24.134Z"
   },
   {
    "duration": 7,
    "start_time": "2023-01-07T12:01:24.329Z"
   },
   {
    "duration": 84,
    "start_time": "2023-01-07T12:01:24.338Z"
   },
   {
    "duration": 50,
    "start_time": "2023-01-07T12:01:24.425Z"
   },
   {
    "duration": 1208,
    "start_time": "2023-01-07T12:36:53.425Z"
   },
   {
    "duration": 147,
    "start_time": "2023-01-07T12:36:54.635Z"
   },
   {
    "duration": 11,
    "start_time": "2023-01-07T12:36:54.784Z"
   },
   {
    "duration": 10,
    "start_time": "2023-01-07T12:36:54.797Z"
   },
   {
    "duration": 28,
    "start_time": "2023-01-07T12:36:54.809Z"
   },
   {
    "duration": 93,
    "start_time": "2023-01-07T12:36:54.839Z"
   },
   {
    "duration": 377,
    "start_time": "2023-01-07T12:36:54.935Z"
   },
   {
    "duration": 244,
    "start_time": "2023-01-07T12:36:55.313Z"
   },
   {
    "duration": 3,
    "start_time": "2023-01-07T12:36:55.559Z"
   },
   {
    "duration": 64,
    "start_time": "2023-01-07T12:36:55.564Z"
   },
   {
    "duration": 48,
    "start_time": "2023-01-07T12:36:55.629Z"
   },
   {
    "duration": 29,
    "start_time": "2023-01-07T12:36:55.678Z"
   },
   {
    "duration": 10,
    "start_time": "2023-01-07T12:36:55.708Z"
   },
   {
    "duration": 13,
    "start_time": "2023-01-07T12:36:55.722Z"
   },
   {
    "duration": 4,
    "start_time": "2023-01-07T12:36:55.737Z"
   },
   {
    "duration": 8,
    "start_time": "2023-01-07T12:36:55.743Z"
   },
   {
    "duration": 39,
    "start_time": "2023-01-07T12:36:55.754Z"
   },
   {
    "duration": 526,
    "start_time": "2023-01-07T12:36:55.821Z"
   },
   {
    "duration": 21,
    "start_time": "2023-01-07T12:36:56.349Z"
   },
   {
    "duration": 319,
    "start_time": "2023-01-07T12:36:56.372Z"
   },
   {
    "duration": 4,
    "start_time": "2023-01-07T12:36:56.692Z"
   },
   {
    "duration": 25,
    "start_time": "2023-01-07T12:36:56.698Z"
   },
   {
    "duration": 50,
    "start_time": "2023-01-07T12:36:56.725Z"
   },
   {
    "duration": 63,
    "start_time": "2023-01-07T12:36:56.778Z"
   },
   {
    "duration": 20,
    "start_time": "2023-01-07T12:36:56.842Z"
   },
   {
    "duration": 68,
    "start_time": "2023-01-07T12:36:56.866Z"
   },
   {
    "duration": 12,
    "start_time": "2023-01-07T12:36:56.936Z"
   },
   {
    "duration": 158,
    "start_time": "2023-01-07T12:36:56.952Z"
   },
   {
    "duration": 12,
    "start_time": "2023-01-07T12:36:57.111Z"
   },
   {
    "duration": 14,
    "start_time": "2023-01-07T12:36:57.124Z"
   },
   {
    "duration": 127,
    "start_time": "2023-01-07T12:36:57.140Z"
   },
   {
    "duration": 125,
    "start_time": "2023-01-07T12:36:57.269Z"
   },
   {
    "duration": 16,
    "start_time": "2023-01-07T12:37:28.280Z"
   },
   {
    "duration": 133,
    "start_time": "2023-01-07T12:52:19.105Z"
   },
   {
    "duration": 87,
    "start_time": "2023-01-07T12:53:12.195Z"
   },
   {
    "duration": 73,
    "start_time": "2023-01-07T12:53:25.379Z"
   },
   {
    "duration": 84,
    "start_time": "2023-01-07T12:53:32.565Z"
   },
   {
    "duration": 109,
    "start_time": "2023-01-07T12:53:51.565Z"
   },
   {
    "duration": 110,
    "start_time": "2023-01-07T13:50:57.738Z"
   },
   {
    "duration": 56,
    "start_time": "2023-01-07T22:08:47.326Z"
   },
   {
    "duration": 1196,
    "start_time": "2023-01-07T22:09:06.933Z"
   },
   {
    "duration": 966,
    "start_time": "2023-01-07T22:09:08.132Z"
   },
   {
    "duration": 12,
    "start_time": "2023-01-07T22:09:09.099Z"
   },
   {
    "duration": 34,
    "start_time": "2023-01-07T22:09:09.112Z"
   },
   {
    "duration": 38,
    "start_time": "2023-01-07T22:09:09.148Z"
   },
   {
    "duration": 86,
    "start_time": "2023-01-07T22:09:09.189Z"
   },
   {
    "duration": 321,
    "start_time": "2023-01-07T22:09:09.277Z"
   },
   {
    "duration": 231,
    "start_time": "2023-01-07T22:09:09.600Z"
   },
   {
    "duration": 3,
    "start_time": "2023-01-07T22:09:09.833Z"
   },
   {
    "duration": 80,
    "start_time": "2023-01-07T22:09:09.839Z"
   },
   {
    "duration": 62,
    "start_time": "2023-01-07T22:09:09.926Z"
   },
   {
    "duration": 38,
    "start_time": "2023-01-07T22:09:09.989Z"
   },
   {
    "duration": 16,
    "start_time": "2023-01-07T22:09:10.029Z"
   },
   {
    "duration": 39,
    "start_time": "2023-01-07T22:09:10.047Z"
   },
   {
    "duration": 42,
    "start_time": "2023-01-07T22:09:10.088Z"
   },
   {
    "duration": 42,
    "start_time": "2023-01-07T22:09:10.132Z"
   },
   {
    "duration": 67,
    "start_time": "2023-01-07T22:09:10.175Z"
   },
   {
    "duration": 562,
    "start_time": "2023-01-07T22:09:10.244Z"
   },
   {
    "duration": 35,
    "start_time": "2023-01-07T22:09:10.808Z"
   },
   {
    "duration": 288,
    "start_time": "2023-01-07T22:09:10.845Z"
   },
   {
    "duration": 3,
    "start_time": "2023-01-07T22:09:11.135Z"
   },
   {
    "duration": 26,
    "start_time": "2023-01-07T22:09:11.140Z"
   },
   {
    "duration": 43,
    "start_time": "2023-01-07T22:09:11.168Z"
   },
   {
    "duration": 42,
    "start_time": "2023-01-07T22:09:11.220Z"
   },
   {
    "duration": 18,
    "start_time": "2023-01-07T22:09:11.264Z"
   },
   {
    "duration": 59,
    "start_time": "2023-01-07T22:09:11.284Z"
   },
   {
    "duration": 10,
    "start_time": "2023-01-07T22:09:11.345Z"
   },
   {
    "duration": 153,
    "start_time": "2023-01-07T22:09:11.358Z"
   },
   {
    "duration": 6,
    "start_time": "2023-01-07T22:09:11.513Z"
   },
   {
    "duration": 47,
    "start_time": "2023-01-07T22:09:11.521Z"
   },
   {
    "duration": 74,
    "start_time": "2023-01-07T22:09:11.570Z"
   },
   {
    "duration": 95,
    "start_time": "2023-01-07T22:09:11.646Z"
   },
   {
    "duration": 117,
    "start_time": "2023-01-07T22:09:11.742Z"
   },
   {
    "duration": 0,
    "start_time": "2023-01-07T22:09:11.861Z"
   },
   {
    "duration": 0,
    "start_time": "2023-01-07T22:09:11.862Z"
   },
   {
    "duration": 66,
    "start_time": "2023-01-07T22:12:06.204Z"
   },
   {
    "duration": 12,
    "start_time": "2023-01-07T22:12:10.073Z"
   },
   {
    "duration": 19,
    "start_time": "2023-01-07T22:12:40.966Z"
   },
   {
    "duration": 5,
    "start_time": "2023-01-07T22:14:17.967Z"
   },
   {
    "duration": 15,
    "start_time": "2023-01-07T22:14:41.875Z"
   },
   {
    "duration": 5,
    "start_time": "2023-01-07T22:15:58.420Z"
   },
   {
    "duration": 28,
    "start_time": "2023-01-07T22:16:07.064Z"
   },
   {
    "duration": 12,
    "start_time": "2023-01-07T22:16:17.750Z"
   },
   {
    "duration": 45,
    "start_time": "2023-01-07T22:18:51.107Z"
   },
   {
    "duration": 6,
    "start_time": "2023-01-07T22:21:17.150Z"
   },
   {
    "duration": 18,
    "start_time": "2023-01-07T22:21:40.266Z"
   },
   {
    "duration": 14,
    "start_time": "2023-01-07T22:22:23.138Z"
   },
   {
    "duration": 12,
    "start_time": "2023-01-07T22:22:32.893Z"
   },
   {
    "duration": 9,
    "start_time": "2023-01-07T22:36:23.502Z"
   },
   {
    "duration": 5,
    "start_time": "2023-01-07T22:36:28.795Z"
   },
   {
    "duration": 8,
    "start_time": "2023-01-07T22:36:33.245Z"
   },
   {
    "duration": 101,
    "start_time": "2023-01-07T22:40:04.647Z"
   },
   {
    "duration": 6,
    "start_time": "2023-01-07T22:40:41.435Z"
   },
   {
    "duration": 9,
    "start_time": "2023-01-07T22:40:50.681Z"
   },
   {
    "duration": 6,
    "start_time": "2023-01-07T22:42:58.698Z"
   },
   {
    "duration": 12,
    "start_time": "2023-01-07T22:43:00.934Z"
   },
   {
    "duration": 91,
    "start_time": "2023-01-07T22:49:35.495Z"
   },
   {
    "duration": 91,
    "start_time": "2023-01-07T22:50:01.173Z"
   },
   {
    "duration": 8,
    "start_time": "2023-01-07T22:50:10.451Z"
   },
   {
    "duration": 84,
    "start_time": "2023-01-07T23:00:23.063Z"
   },
   {
    "duration": 88,
    "start_time": "2023-01-07T23:00:33.269Z"
   },
   {
    "duration": 10,
    "start_time": "2023-01-07T23:00:40.786Z"
   },
   {
    "duration": 7,
    "start_time": "2023-01-07T23:00:49.654Z"
   },
   {
    "duration": 9,
    "start_time": "2023-01-07T23:02:25.024Z"
   },
   {
    "duration": 42,
    "start_time": "2023-01-07T23:05:28.842Z"
   },
   {
    "duration": 53,
    "start_time": "2023-01-07T23:05:47.928Z"
   },
   {
    "duration": 94,
    "start_time": "2023-01-07T23:08:46.089Z"
   },
   {
    "duration": 52,
    "start_time": "2023-01-07T23:08:54.261Z"
   },
   {
    "duration": 38,
    "start_time": "2023-01-07T23:08:59.953Z"
   },
   {
    "duration": 53,
    "start_time": "2023-01-07T23:09:03.622Z"
   },
   {
    "duration": 50,
    "start_time": "2023-01-07T23:09:28.930Z"
   },
   {
    "duration": 48,
    "start_time": "2023-01-07T23:10:26.945Z"
   },
   {
    "duration": 40,
    "start_time": "2023-01-07T23:12:53.598Z"
   },
   {
    "duration": 1217,
    "start_time": "2023-01-07T23:13:05.394Z"
   },
   {
    "duration": 40,
    "start_time": "2023-01-07T23:13:29.295Z"
   },
   {
    "duration": 35,
    "start_time": "2023-01-07T23:13:34.060Z"
   },
   {
    "duration": 9,
    "start_time": "2023-01-07T23:13:38.874Z"
   },
   {
    "duration": 8,
    "start_time": "2023-01-07T23:13:57.638Z"
   },
   {
    "duration": 49,
    "start_time": "2023-01-07T23:15:02.509Z"
   },
   {
    "duration": 7,
    "start_time": "2023-01-07T23:15:07.052Z"
   },
   {
    "duration": 8,
    "start_time": "2023-01-07T23:15:30.763Z"
   },
   {
    "duration": 8,
    "start_time": "2023-01-07T23:15:39.655Z"
   },
   {
    "duration": 43,
    "start_time": "2023-01-07T23:16:48.687Z"
   },
   {
    "duration": 8,
    "start_time": "2023-01-07T23:16:58.499Z"
   },
   {
    "duration": 39,
    "start_time": "2023-01-07T23:17:19.735Z"
   },
   {
    "duration": 55,
    "start_time": "2023-01-07T23:17:30.291Z"
   },
   {
    "duration": 1274,
    "start_time": "2023-01-07T23:17:50.520Z"
   },
   {
    "duration": 53,
    "start_time": "2023-01-07T23:18:04.501Z"
   },
   {
    "duration": 46,
    "start_time": "2023-01-07T23:25:27.043Z"
   },
   {
    "duration": 8,
    "start_time": "2023-01-07T23:26:17.335Z"
   },
   {
    "duration": 77,
    "start_time": "2023-01-07T23:28:46.359Z"
   },
   {
    "duration": 9,
    "start_time": "2023-01-07T23:29:30.883Z"
   },
   {
    "duration": 8,
    "start_time": "2023-01-07T23:32:30.914Z"
   },
   {
    "duration": 3,
    "start_time": "2023-01-07T23:33:17.087Z"
   },
   {
    "duration": 7,
    "start_time": "2023-01-07T23:33:24.330Z"
   },
   {
    "duration": 5,
    "start_time": "2023-01-07T23:33:41.527Z"
   },
   {
    "duration": 4,
    "start_time": "2023-01-07T23:35:09.405Z"
   },
   {
    "duration": 4,
    "start_time": "2023-01-07T23:35:18.491Z"
   },
   {
    "duration": 5,
    "start_time": "2023-01-07T23:35:39.249Z"
   },
   {
    "duration": 1231,
    "start_time": "2023-01-07T23:36:30.278Z"
   },
   {
    "duration": 1196,
    "start_time": "2023-01-07T23:36:55.988Z"
   },
   {
    "duration": 8,
    "start_time": "2023-01-07T23:37:22.026Z"
   },
   {
    "duration": 1138,
    "start_time": "2023-01-07T23:37:33.234Z"
   },
   {
    "duration": 1194,
    "start_time": "2023-01-07T23:37:50.665Z"
   },
   {
    "duration": 1189,
    "start_time": "2023-01-07T23:38:06.855Z"
   },
   {
    "duration": 63,
    "start_time": "2023-01-09T07:36:22.727Z"
   },
   {
    "duration": 1343,
    "start_time": "2023-01-09T07:36:32.455Z"
   },
   {
    "duration": 687,
    "start_time": "2023-01-09T07:36:33.800Z"
   },
   {
    "duration": 11,
    "start_time": "2023-01-09T07:36:34.489Z"
   },
   {
    "duration": 21,
    "start_time": "2023-01-09T07:36:34.502Z"
   },
   {
    "duration": 25,
    "start_time": "2023-01-09T07:36:34.526Z"
   },
   {
    "duration": 95,
    "start_time": "2023-01-09T07:36:34.552Z"
   },
   {
    "duration": 369,
    "start_time": "2023-01-09T07:36:34.649Z"
   },
   {
    "duration": 257,
    "start_time": "2023-01-09T07:36:35.020Z"
   },
   {
    "duration": 3,
    "start_time": "2023-01-09T07:36:35.279Z"
   },
   {
    "duration": 77,
    "start_time": "2023-01-09T07:36:35.285Z"
   },
   {
    "duration": 53,
    "start_time": "2023-01-09T07:36:35.363Z"
   },
   {
    "duration": 62,
    "start_time": "2023-01-09T07:36:35.417Z"
   },
   {
    "duration": 7,
    "start_time": "2023-01-09T07:36:35.480Z"
   },
   {
    "duration": 23,
    "start_time": "2023-01-09T07:36:35.489Z"
   },
   {
    "duration": 51,
    "start_time": "2023-01-09T07:36:35.514Z"
   },
   {
    "duration": 13,
    "start_time": "2023-01-09T07:36:35.567Z"
   },
   {
    "duration": 36,
    "start_time": "2023-01-09T07:36:35.581Z"
   },
   {
    "duration": 506,
    "start_time": "2023-01-09T07:36:35.619Z"
   },
   {
    "duration": 31,
    "start_time": "2023-01-09T07:36:36.127Z"
   },
   {
    "duration": 313,
    "start_time": "2023-01-09T07:36:36.160Z"
   },
   {
    "duration": 4,
    "start_time": "2023-01-09T07:36:36.475Z"
   },
   {
    "duration": 32,
    "start_time": "2023-01-09T07:36:36.481Z"
   },
   {
    "duration": 52,
    "start_time": "2023-01-09T07:36:36.514Z"
   },
   {
    "duration": 42,
    "start_time": "2023-01-09T07:36:36.568Z"
   },
   {
    "duration": 46,
    "start_time": "2023-01-09T07:36:36.612Z"
   },
   {
    "duration": 69,
    "start_time": "2023-01-09T07:36:36.660Z"
   },
   {
    "duration": 19,
    "start_time": "2023-01-09T07:36:36.732Z"
   },
   {
    "duration": 733,
    "start_time": "2023-01-09T07:36:36.755Z"
   },
   {
    "duration": 5,
    "start_time": "2023-01-09T07:36:37.490Z"
   },
   {
    "duration": 55,
    "start_time": "2023-01-09T07:36:37.497Z"
   },
   {
    "duration": 101,
    "start_time": "2023-01-09T07:36:37.554Z"
   },
   {
    "duration": 103,
    "start_time": "2023-01-09T07:36:37.657Z"
   },
   {
    "duration": 6,
    "start_time": "2023-01-09T07:36:37.762Z"
   },
   {
    "duration": 132,
    "start_time": "2023-01-09T07:36:37.769Z"
   },
   {
    "duration": 0,
    "start_time": "2023-01-09T07:36:37.903Z"
   },
   {
    "duration": 0,
    "start_time": "2023-01-09T07:36:37.904Z"
   },
   {
    "duration": 0,
    "start_time": "2023-01-09T07:36:37.905Z"
   },
   {
    "duration": 0,
    "start_time": "2023-01-09T07:36:37.906Z"
   },
   {
    "duration": 0,
    "start_time": "2023-01-09T07:36:37.907Z"
   },
   {
    "duration": 0,
    "start_time": "2023-01-09T07:36:37.908Z"
   },
   {
    "duration": 1175,
    "start_time": "2023-01-09T07:37:01.650Z"
   },
   {
    "duration": 185,
    "start_time": "2023-01-09T07:37:02.828Z"
   },
   {
    "duration": 12,
    "start_time": "2023-01-09T07:37:03.015Z"
   },
   {
    "duration": 18,
    "start_time": "2023-01-09T07:37:03.041Z"
   },
   {
    "duration": 39,
    "start_time": "2023-01-09T07:37:03.060Z"
   },
   {
    "duration": 110,
    "start_time": "2023-01-09T07:37:03.101Z"
   },
   {
    "duration": 373,
    "start_time": "2023-01-09T07:37:03.212Z"
   },
   {
    "duration": 270,
    "start_time": "2023-01-09T07:37:03.587Z"
   },
   {
    "duration": 3,
    "start_time": "2023-01-09T07:37:03.859Z"
   },
   {
    "duration": 88,
    "start_time": "2023-01-09T07:37:03.870Z"
   },
   {
    "duration": 57,
    "start_time": "2023-01-09T07:37:03.959Z"
   },
   {
    "duration": 49,
    "start_time": "2023-01-09T07:37:04.018Z"
   },
   {
    "duration": 20,
    "start_time": "2023-01-09T07:37:04.068Z"
   },
   {
    "duration": 33,
    "start_time": "2023-01-09T07:37:04.090Z"
   },
   {
    "duration": 53,
    "start_time": "2023-01-09T07:37:04.125Z"
   },
   {
    "duration": 22,
    "start_time": "2023-01-09T07:37:04.180Z"
   },
   {
    "duration": 68,
    "start_time": "2023-01-09T07:37:04.204Z"
   },
   {
    "duration": 480,
    "start_time": "2023-01-09T07:37:04.273Z"
   },
   {
    "duration": 18,
    "start_time": "2023-01-09T07:37:04.755Z"
   },
   {
    "duration": 319,
    "start_time": "2023-01-09T07:37:04.775Z"
   },
   {
    "duration": 3,
    "start_time": "2023-01-09T07:37:05.096Z"
   },
   {
    "duration": 50,
    "start_time": "2023-01-09T07:37:05.101Z"
   },
   {
    "duration": 104,
    "start_time": "2023-01-09T07:37:05.153Z"
   },
   {
    "duration": 73,
    "start_time": "2023-01-09T07:37:05.259Z"
   },
   {
    "duration": 40,
    "start_time": "2023-01-09T07:37:05.333Z"
   },
   {
    "duration": 135,
    "start_time": "2023-01-09T07:37:05.375Z"
   },
   {
    "duration": 12,
    "start_time": "2023-01-09T07:37:05.512Z"
   },
   {
    "duration": 195,
    "start_time": "2023-01-09T07:37:05.527Z"
   },
   {
    "duration": 5,
    "start_time": "2023-01-09T07:37:05.724Z"
   },
   {
    "duration": 74,
    "start_time": "2023-01-09T07:37:05.731Z"
   },
   {
    "duration": 96,
    "start_time": "2023-01-09T07:37:05.807Z"
   },
   {
    "duration": 150,
    "start_time": "2023-01-09T07:37:05.905Z"
   },
   {
    "duration": 5,
    "start_time": "2023-01-09T07:37:06.057Z"
   },
   {
    "duration": 186,
    "start_time": "2023-01-09T07:37:06.064Z"
   },
   {
    "duration": 0,
    "start_time": "2023-01-09T07:37:06.252Z"
   },
   {
    "duration": 0,
    "start_time": "2023-01-09T07:37:06.253Z"
   },
   {
    "duration": 0,
    "start_time": "2023-01-09T07:37:06.254Z"
   },
   {
    "duration": 0,
    "start_time": "2023-01-09T07:37:06.256Z"
   },
   {
    "duration": 0,
    "start_time": "2023-01-09T07:37:06.257Z"
   },
   {
    "duration": 0,
    "start_time": "2023-01-09T07:37:06.258Z"
   },
   {
    "duration": 20,
    "start_time": "2023-01-09T07:37:23.232Z"
   },
   {
    "duration": 11,
    "start_time": "2023-01-09T07:38:30.635Z"
   },
   {
    "duration": 16,
    "start_time": "2023-01-09T07:38:33.831Z"
   },
   {
    "duration": 67,
    "start_time": "2023-01-09T07:38:38.777Z"
   },
   {
    "duration": 10,
    "start_time": "2023-01-09T07:38:46.365Z"
   },
   {
    "duration": 10,
    "start_time": "2023-01-09T07:38:51.013Z"
   },
   {
    "duration": 10,
    "start_time": "2023-01-09T07:38:55.628Z"
   },
   {
    "duration": 6,
    "start_time": "2023-01-09T07:39:01.529Z"
   },
   {
    "duration": 10,
    "start_time": "2023-01-09T07:39:05.629Z"
   },
   {
    "duration": 11,
    "start_time": "2023-01-09T08:24:01.182Z"
   },
   {
    "duration": 9,
    "start_time": "2023-01-09T08:24:41.257Z"
   },
   {
    "duration": 4,
    "start_time": "2023-01-09T08:24:50.077Z"
   },
   {
    "duration": 10,
    "start_time": "2023-01-09T08:24:54.602Z"
   },
   {
    "duration": 9,
    "start_time": "2023-01-09T08:25:11.782Z"
   },
   {
    "duration": 5,
    "start_time": "2023-01-09T08:26:53.462Z"
   },
   {
    "duration": 6,
    "start_time": "2023-01-09T08:33:42.321Z"
   },
   {
    "duration": 50,
    "start_time": "2023-01-09T08:37:13.582Z"
   },
   {
    "duration": 10,
    "start_time": "2023-01-09T08:38:20.781Z"
   },
   {
    "duration": 10,
    "start_time": "2023-01-09T08:39:18.822Z"
   },
   {
    "duration": 9,
    "start_time": "2023-01-09T08:39:37.098Z"
   },
   {
    "duration": 1030,
    "start_time": "2023-01-09T10:55:53.819Z"
   },
   {
    "duration": 141,
    "start_time": "2023-01-09T10:55:54.851Z"
   },
   {
    "duration": 11,
    "start_time": "2023-01-09T10:55:54.994Z"
   },
   {
    "duration": 17,
    "start_time": "2023-01-09T10:55:55.007Z"
   },
   {
    "duration": 19,
    "start_time": "2023-01-09T10:55:55.026Z"
   },
   {
    "duration": 97,
    "start_time": "2023-01-09T10:55:55.046Z"
   },
   {
    "duration": 328,
    "start_time": "2023-01-09T10:55:55.145Z"
   },
   {
    "duration": 224,
    "start_time": "2023-01-09T10:55:55.474Z"
   },
   {
    "duration": 3,
    "start_time": "2023-01-09T10:55:55.700Z"
   },
   {
    "duration": 64,
    "start_time": "2023-01-09T10:55:55.705Z"
   },
   {
    "duration": 59,
    "start_time": "2023-01-09T10:55:55.771Z"
   },
   {
    "duration": 26,
    "start_time": "2023-01-09T10:55:55.832Z"
   },
   {
    "duration": 6,
    "start_time": "2023-01-09T10:55:55.860Z"
   },
   {
    "duration": 34,
    "start_time": "2023-01-09T10:55:55.867Z"
   },
   {
    "duration": 34,
    "start_time": "2023-01-09T10:55:55.903Z"
   },
   {
    "duration": 20,
    "start_time": "2023-01-09T10:55:55.942Z"
   },
   {
    "duration": 47,
    "start_time": "2023-01-09T10:55:55.964Z"
   },
   {
    "duration": 502,
    "start_time": "2023-01-09T10:55:56.013Z"
   },
   {
    "duration": 19,
    "start_time": "2023-01-09T10:55:56.516Z"
   },
   {
    "duration": 310,
    "start_time": "2023-01-09T10:55:56.537Z"
   },
   {
    "duration": 3,
    "start_time": "2023-01-09T10:55:56.849Z"
   },
   {
    "duration": 15,
    "start_time": "2023-01-09T10:55:56.854Z"
   },
   {
    "duration": 55,
    "start_time": "2023-01-09T10:55:56.871Z"
   },
   {
    "duration": 44,
    "start_time": "2023-01-09T10:55:56.928Z"
   },
   {
    "duration": 35,
    "start_time": "2023-01-09T10:55:56.974Z"
   },
   {
    "duration": 56,
    "start_time": "2023-01-09T10:55:57.010Z"
   },
   {
    "duration": 11,
    "start_time": "2023-01-09T10:55:57.068Z"
   },
   {
    "duration": 191,
    "start_time": "2023-01-09T10:55:57.096Z"
   },
   {
    "duration": 5,
    "start_time": "2023-01-09T10:55:57.288Z"
   },
   {
    "duration": 16,
    "start_time": "2023-01-09T10:55:57.294Z"
   },
   {
    "duration": 93,
    "start_time": "2023-01-09T10:55:57.311Z"
   },
   {
    "duration": 102,
    "start_time": "2023-01-09T10:55:57.406Z"
   },
   {
    "duration": 6,
    "start_time": "2023-01-09T10:55:57.509Z"
   },
   {
    "duration": 18,
    "start_time": "2023-01-09T10:55:57.516Z"
   },
   {
    "duration": 66,
    "start_time": "2023-01-09T10:55:57.536Z"
   },
   {
    "duration": 8,
    "start_time": "2023-01-09T10:55:57.603Z"
   },
   {
    "duration": 12,
    "start_time": "2023-01-09T10:55:57.613Z"
   },
   {
    "duration": 10,
    "start_time": "2023-01-09T10:55:57.627Z"
   },
   {
    "duration": 19,
    "start_time": "2023-01-09T10:55:57.639Z"
   },
   {
    "duration": 11,
    "start_time": "2023-01-09T10:55:57.660Z"
   },
   {
    "duration": 25,
    "start_time": "2023-01-09T10:55:57.672Z"
   },
   {
    "duration": 5,
    "start_time": "2023-01-09T10:55:57.699Z"
   },
   {
    "duration": 24,
    "start_time": "2023-01-09T10:55:57.705Z"
   },
   {
    "duration": 18,
    "start_time": "2023-01-09T10:55:57.730Z"
   },
   {
    "duration": 27,
    "start_time": "2023-01-09T10:55:57.750Z"
   },
   {
    "duration": 1379,
    "start_time": "2023-03-03T07:33:25.328Z"
   },
   {
    "duration": 537,
    "start_time": "2023-03-03T07:33:26.708Z"
   },
   {
    "duration": 19,
    "start_time": "2023-03-03T07:33:27.247Z"
   },
   {
    "duration": 15,
    "start_time": "2023-03-03T07:33:27.272Z"
   },
   {
    "duration": 26,
    "start_time": "2023-03-03T07:33:27.289Z"
   },
   {
    "duration": 119,
    "start_time": "2023-03-03T07:33:27.317Z"
   },
   {
    "duration": 381,
    "start_time": "2023-03-03T07:33:27.439Z"
   },
   {
    "duration": 279,
    "start_time": "2023-03-03T07:33:27.822Z"
   },
   {
    "duration": 3,
    "start_time": "2023-03-03T07:33:28.103Z"
   },
   {
    "duration": 83,
    "start_time": "2023-03-03T07:33:28.108Z"
   },
   {
    "duration": 65,
    "start_time": "2023-03-03T07:33:28.192Z"
   },
   {
    "duration": 45,
    "start_time": "2023-03-03T07:33:28.262Z"
   },
   {
    "duration": 7,
    "start_time": "2023-03-03T07:33:28.308Z"
   },
   {
    "duration": 19,
    "start_time": "2023-03-03T07:33:28.316Z"
   },
   {
    "duration": 9,
    "start_time": "2023-03-03T07:33:28.348Z"
   },
   {
    "duration": 18,
    "start_time": "2023-03-03T07:33:28.359Z"
   },
   {
    "duration": 35,
    "start_time": "2023-03-03T07:33:28.379Z"
   },
   {
    "duration": 517,
    "start_time": "2023-03-03T07:33:28.416Z"
   },
   {
    "duration": 29,
    "start_time": "2023-03-03T07:33:28.935Z"
   },
   {
    "duration": 327,
    "start_time": "2023-03-03T07:33:28.965Z"
   },
   {
    "duration": 4,
    "start_time": "2023-03-03T07:33:29.295Z"
   },
   {
    "duration": 15,
    "start_time": "2023-03-03T07:33:29.301Z"
   },
   {
    "duration": 63,
    "start_time": "2023-03-03T07:33:29.317Z"
   },
   {
    "duration": 42,
    "start_time": "2023-03-03T07:33:29.383Z"
   },
   {
    "duration": 46,
    "start_time": "2023-03-03T07:33:29.427Z"
   },
   {
    "duration": 55,
    "start_time": "2023-03-03T07:33:29.475Z"
   },
   {
    "duration": 32,
    "start_time": "2023-03-03T07:33:29.531Z"
   },
   {
    "duration": 299,
    "start_time": "2023-03-03T07:33:29.566Z"
   },
   {
    "duration": 6,
    "start_time": "2023-03-03T07:33:29.869Z"
   },
   {
    "duration": 20,
    "start_time": "2023-03-03T07:33:29.877Z"
   },
   {
    "duration": 165,
    "start_time": "2023-03-03T07:33:29.899Z"
   },
   {
    "duration": 109,
    "start_time": "2023-03-03T07:33:30.065Z"
   },
   {
    "duration": 6,
    "start_time": "2023-03-03T07:33:30.176Z"
   },
   {
    "duration": 26,
    "start_time": "2023-03-03T07:33:30.183Z"
   },
   {
    "duration": 68,
    "start_time": "2023-03-03T07:33:30.210Z"
   },
   {
    "duration": 9,
    "start_time": "2023-03-03T07:33:30.280Z"
   },
   {
    "duration": 15,
    "start_time": "2023-03-03T07:33:30.291Z"
   },
   {
    "duration": 27,
    "start_time": "2023-03-03T07:33:30.307Z"
   },
   {
    "duration": 18,
    "start_time": "2023-03-03T07:33:30.335Z"
   },
   {
    "duration": 30,
    "start_time": "2023-03-03T07:33:30.354Z"
   },
   {
    "duration": 28,
    "start_time": "2023-03-03T07:33:30.386Z"
   },
   {
    "duration": 14,
    "start_time": "2023-03-03T07:33:30.416Z"
   },
   {
    "duration": 33,
    "start_time": "2023-03-03T07:33:30.432Z"
   },
   {
    "duration": 37,
    "start_time": "2023-03-03T07:33:30.467Z"
   },
   {
    "duration": 43,
    "start_time": "2023-03-03T07:33:30.506Z"
   },
   {
    "duration": 1244,
    "start_time": "2023-03-03T22:11:53.851Z"
   },
   {
    "duration": 598,
    "start_time": "2023-03-03T22:11:55.097Z"
   },
   {
    "duration": 11,
    "start_time": "2023-03-03T22:11:55.697Z"
   },
   {
    "duration": 56,
    "start_time": "2023-03-03T22:11:55.710Z"
   },
   {
    "duration": 41,
    "start_time": "2023-03-03T22:11:55.767Z"
   },
   {
    "duration": 89,
    "start_time": "2023-03-03T22:11:55.810Z"
   },
   {
    "duration": 426,
    "start_time": "2023-03-03T22:11:55.900Z"
   },
   {
    "duration": 232,
    "start_time": "2023-03-03T22:11:56.338Z"
   },
   {
    "duration": 5,
    "start_time": "2023-03-03T22:11:56.571Z"
   },
   {
    "duration": 70,
    "start_time": "2023-03-03T22:11:56.578Z"
   },
   {
    "duration": 45,
    "start_time": "2023-03-03T22:11:56.650Z"
   },
   {
    "duration": 47,
    "start_time": "2023-03-03T22:11:56.696Z"
   },
   {
    "duration": 9,
    "start_time": "2023-03-03T22:11:56.744Z"
   },
   {
    "duration": 13,
    "start_time": "2023-03-03T22:11:56.754Z"
   },
   {
    "duration": 6,
    "start_time": "2023-03-03T22:11:56.769Z"
   },
   {
    "duration": 7,
    "start_time": "2023-03-03T22:11:56.776Z"
   },
   {
    "duration": 68,
    "start_time": "2023-03-03T22:11:56.784Z"
   },
   {
    "duration": 496,
    "start_time": "2023-03-03T22:11:56.854Z"
   },
   {
    "duration": 20,
    "start_time": "2023-03-03T22:11:57.352Z"
   },
   {
    "duration": 307,
    "start_time": "2023-03-03T22:11:57.374Z"
   },
   {
    "duration": 5,
    "start_time": "2023-03-03T22:11:57.683Z"
   },
   {
    "duration": 28,
    "start_time": "2023-03-03T22:11:57.689Z"
   },
   {
    "duration": 48,
    "start_time": "2023-03-03T22:11:57.719Z"
   },
   {
    "duration": 60,
    "start_time": "2023-03-03T22:11:57.769Z"
   },
   {
    "duration": 21,
    "start_time": "2023-03-03T22:11:57.834Z"
   },
   {
    "duration": 51,
    "start_time": "2023-03-03T22:11:57.857Z"
   },
   {
    "duration": 27,
    "start_time": "2023-03-03T22:11:57.910Z"
   },
   {
    "duration": 178,
    "start_time": "2023-03-03T22:11:57.943Z"
   },
   {
    "duration": 8,
    "start_time": "2023-03-03T22:11:58.130Z"
   },
   {
    "duration": 23,
    "start_time": "2023-03-03T22:11:58.139Z"
   },
   {
    "duration": 87,
    "start_time": "2023-03-03T22:11:58.164Z"
   },
   {
    "duration": 115,
    "start_time": "2023-03-03T22:11:58.253Z"
   },
   {
    "duration": 6,
    "start_time": "2023-03-03T22:11:58.370Z"
   },
   {
    "duration": 15,
    "start_time": "2023-03-03T22:11:58.378Z"
   },
   {
    "duration": 70,
    "start_time": "2023-03-03T22:11:58.395Z"
   },
   {
    "duration": 9,
    "start_time": "2023-03-03T22:11:58.467Z"
   },
   {
    "duration": 11,
    "start_time": "2023-03-03T22:11:58.478Z"
   },
   {
    "duration": 26,
    "start_time": "2023-03-03T22:11:58.491Z"
   },
   {
    "duration": 9,
    "start_time": "2023-03-03T22:11:58.525Z"
   },
   {
    "duration": 15,
    "start_time": "2023-03-03T22:11:58.536Z"
   },
   {
    "duration": 4,
    "start_time": "2023-03-03T22:11:58.553Z"
   },
   {
    "duration": 9,
    "start_time": "2023-03-03T22:11:58.558Z"
   },
   {
    "duration": 13,
    "start_time": "2023-03-03T22:11:58.568Z"
   },
   {
    "duration": 8,
    "start_time": "2023-03-03T22:11:58.583Z"
   },
   {
    "duration": 10,
    "start_time": "2023-03-03T22:11:58.592Z"
   },
   {
    "duration": 8678,
    "start_time": "2023-03-17T10:12:56.892Z"
   },
   {
    "duration": 2186,
    "start_time": "2023-03-17T10:13:18.080Z"
   },
   {
    "duration": 1332,
    "start_time": "2023-03-17T10:13:20.268Z"
   },
   {
    "duration": 804,
    "start_time": "2023-03-17T10:13:21.602Z"
   },
   {
    "duration": 11,
    "start_time": "2023-03-17T10:13:22.408Z"
   },
   {
    "duration": 8,
    "start_time": "2023-03-17T10:13:22.421Z"
   },
   {
    "duration": 20,
    "start_time": "2023-03-17T10:13:22.431Z"
   },
   {
    "duration": 94,
    "start_time": "2023-03-17T10:13:22.454Z"
   },
   {
    "duration": 353,
    "start_time": "2023-03-17T10:13:22.550Z"
   },
   {
    "duration": 249,
    "start_time": "2023-03-17T10:13:22.904Z"
   },
   {
    "duration": 3,
    "start_time": "2023-03-17T10:13:23.155Z"
   },
   {
    "duration": 67,
    "start_time": "2023-03-17T10:13:23.159Z"
   },
   {
    "duration": 53,
    "start_time": "2023-03-17T10:13:23.228Z"
   },
   {
    "duration": 50,
    "start_time": "2023-03-17T10:13:23.283Z"
   },
   {
    "duration": 7,
    "start_time": "2023-03-17T10:13:23.338Z"
   },
   {
    "duration": 17,
    "start_time": "2023-03-17T10:13:23.347Z"
   },
   {
    "duration": 22,
    "start_time": "2023-03-17T10:13:23.366Z"
   },
   {
    "duration": 11,
    "start_time": "2023-03-17T10:13:23.390Z"
   },
   {
    "duration": 42,
    "start_time": "2023-03-17T10:13:23.403Z"
   },
   {
    "duration": 470,
    "start_time": "2023-03-17T10:13:23.447Z"
   },
   {
    "duration": 20,
    "start_time": "2023-03-17T10:13:23.918Z"
   },
   {
    "duration": 306,
    "start_time": "2023-03-17T10:13:23.939Z"
   },
   {
    "duration": 3,
    "start_time": "2023-03-17T10:13:24.247Z"
   },
   {
    "duration": 12,
    "start_time": "2023-03-17T10:13:24.252Z"
   },
   {
    "duration": 64,
    "start_time": "2023-03-17T10:13:24.266Z"
   },
   {
    "duration": 40,
    "start_time": "2023-03-17T10:13:24.332Z"
   },
   {
    "duration": 20,
    "start_time": "2023-03-17T10:13:24.374Z"
   },
   {
    "duration": 70,
    "start_time": "2023-03-17T10:13:24.396Z"
   },
   {
    "duration": 13,
    "start_time": "2023-03-17T10:13:24.468Z"
   },
   {
    "duration": 164,
    "start_time": "2023-03-17T10:13:24.482Z"
   },
   {
    "duration": 6,
    "start_time": "2023-03-17T10:13:24.648Z"
   },
   {
    "duration": 17,
    "start_time": "2023-03-17T10:13:24.656Z"
   },
   {
    "duration": 161,
    "start_time": "2023-03-17T10:13:24.676Z"
   },
   {
    "duration": 103,
    "start_time": "2023-03-17T10:13:24.839Z"
   },
   {
    "duration": 6,
    "start_time": "2023-03-17T10:13:24.944Z"
   },
   {
    "duration": 22,
    "start_time": "2023-03-17T10:13:24.951Z"
   },
   {
    "duration": 61,
    "start_time": "2023-03-17T10:13:24.974Z"
   },
   {
    "duration": 9,
    "start_time": "2023-03-17T10:13:25.037Z"
   },
   {
    "duration": 16,
    "start_time": "2023-03-17T10:13:25.048Z"
   },
   {
    "duration": 9,
    "start_time": "2023-03-17T10:13:25.066Z"
   },
   {
    "duration": 6,
    "start_time": "2023-03-17T10:13:25.077Z"
   },
   {
    "duration": 38,
    "start_time": "2023-03-17T10:13:25.086Z"
   },
   {
    "duration": 4,
    "start_time": "2023-03-17T10:13:25.126Z"
   },
   {
    "duration": 6,
    "start_time": "2023-03-17T10:13:25.132Z"
   },
   {
    "duration": 14,
    "start_time": "2023-03-17T10:13:25.139Z"
   },
   {
    "duration": 9,
    "start_time": "2023-03-17T10:13:25.154Z"
   },
   {
    "duration": 10,
    "start_time": "2023-03-17T10:13:25.165Z"
   },
   {
    "duration": 3,
    "start_time": "2023-03-17T10:14:51.345Z"
   },
   {
    "duration": 837,
    "start_time": "2023-03-17T10:15:15.223Z"
   },
   {
    "duration": 1182,
    "start_time": "2023-03-17T10:15:52.940Z"
   },
   {
    "duration": 156,
    "start_time": "2023-03-17T10:15:54.124Z"
   },
   {
    "duration": 12,
    "start_time": "2023-03-17T10:15:54.282Z"
   },
   {
    "duration": 8,
    "start_time": "2023-03-17T10:15:54.296Z"
   },
   {
    "duration": 29,
    "start_time": "2023-03-17T10:15:54.306Z"
   },
   {
    "duration": 96,
    "start_time": "2023-03-17T10:15:54.337Z"
   },
   {
    "duration": 345,
    "start_time": "2023-03-17T10:15:54.435Z"
   },
   {
    "duration": 248,
    "start_time": "2023-03-17T10:15:54.787Z"
   },
   {
    "duration": 3,
    "start_time": "2023-03-17T10:15:55.036Z"
   },
   {
    "duration": 82,
    "start_time": "2023-03-17T10:15:55.042Z"
   },
   {
    "duration": 52,
    "start_time": "2023-03-17T10:15:55.126Z"
   },
   {
    "duration": 44,
    "start_time": "2023-03-17T10:15:55.180Z"
   },
   {
    "duration": 7,
    "start_time": "2023-03-17T10:15:55.226Z"
   },
   {
    "duration": 16,
    "start_time": "2023-03-17T10:15:55.235Z"
   },
   {
    "duration": 7,
    "start_time": "2023-03-17T10:15:55.252Z"
   },
   {
    "duration": 10,
    "start_time": "2023-03-17T10:15:55.260Z"
   },
   {
    "duration": 63,
    "start_time": "2023-03-17T10:15:55.272Z"
   },
   {
    "duration": 478,
    "start_time": "2023-03-17T10:15:55.337Z"
   },
   {
    "duration": 22,
    "start_time": "2023-03-17T10:15:55.817Z"
   },
   {
    "duration": 350,
    "start_time": "2023-03-17T10:15:55.841Z"
   },
   {
    "duration": 4,
    "start_time": "2023-03-17T10:15:56.193Z"
   },
   {
    "duration": 25,
    "start_time": "2023-03-17T10:15:56.198Z"
   },
   {
    "duration": 46,
    "start_time": "2023-03-17T10:15:56.225Z"
   },
   {
    "duration": 81,
    "start_time": "2023-03-17T10:15:56.272Z"
   },
   {
    "duration": 23,
    "start_time": "2023-03-17T10:15:56.355Z"
   },
   {
    "duration": 85,
    "start_time": "2023-03-17T10:15:56.380Z"
   },
   {
    "duration": 16,
    "start_time": "2023-03-17T10:15:56.467Z"
   },
   {
    "duration": 869,
    "start_time": "2023-03-17T10:15:56.487Z"
   },
   {
    "duration": 7,
    "start_time": "2023-03-17T10:15:57.358Z"
   },
   {
    "duration": 94,
    "start_time": "2023-03-17T10:15:57.367Z"
   },
   {
    "duration": 63,
    "start_time": "2023-03-17T10:15:57.462Z"
   },
   {
    "duration": 110,
    "start_time": "2023-03-17T10:15:57.527Z"
   },
   {
    "duration": 7,
    "start_time": "2023-03-17T10:15:57.638Z"
   },
   {
    "duration": 37,
    "start_time": "2023-03-17T10:15:57.647Z"
   },
   {
    "duration": 62,
    "start_time": "2023-03-17T10:15:57.685Z"
   },
   {
    "duration": 10,
    "start_time": "2023-03-17T10:15:57.748Z"
   },
   {
    "duration": 24,
    "start_time": "2023-03-17T10:15:57.760Z"
   },
   {
    "duration": 22,
    "start_time": "2023-03-17T10:15:57.786Z"
   },
   {
    "duration": 10,
    "start_time": "2023-03-17T10:15:57.810Z"
   },
   {
    "duration": 13,
    "start_time": "2023-03-17T10:15:57.822Z"
   },
   {
    "duration": 4,
    "start_time": "2023-03-17T10:15:57.837Z"
   },
   {
    "duration": 9,
    "start_time": "2023-03-17T10:15:57.843Z"
   },
   {
    "duration": 13,
    "start_time": "2023-03-17T10:15:57.853Z"
   },
   {
    "duration": 15,
    "start_time": "2023-03-17T10:15:57.868Z"
   },
   {
    "duration": 40,
    "start_time": "2023-03-17T10:15:57.885Z"
   }
  ],
  "kernelspec": {
   "display_name": "Python 3 (ipykernel)",
   "language": "python",
   "name": "python3"
  },
  "language_info": {
   "codemirror_mode": {
    "name": "ipython",
    "version": 3
   },
   "file_extension": ".py",
   "mimetype": "text/x-python",
   "name": "python",
   "nbconvert_exporter": "python",
   "pygments_lexer": "ipython3",
   "version": "3.9.13"
  },
  "toc": {
   "base_numbering": 1,
   "nav_menu": {},
   "number_sections": true,
   "sideBar": true,
   "skip_h1_title": true,
   "title_cell": "Содержание",
   "title_sidebar": "Contents",
   "toc_cell": true,
   "toc_position": {},
   "toc_section_display": true,
   "toc_window_display": true
  }
 },
 "nbformat": 4,
 "nbformat_minor": 2
}
