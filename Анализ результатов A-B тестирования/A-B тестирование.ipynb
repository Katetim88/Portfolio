{
 "cells": [
  {
   "cell_type": "markdown",
   "id": "daad51da",
   "metadata": {
    "toc": true
   },
   "source": [
    "<h1>Содержание<span class=\"tocSkip\"></span></h1>\n",
    "<div class=\"toc\"><ul class=\"toc-item\"><li><span><a href=\"#Загрузка-и-предобработка-данных\" data-toc-modified-id=\"Загрузка-и-предобработка-данных-1\"><span class=\"toc-item-num\">1&nbsp;&nbsp;</span>Загрузка и предобработка данных</a></span></li><li><span><a href=\"#Оценка-корректности-проведения-теста.\" data-toc-modified-id=\"Оценка-корректности-проведения-теста.-2\"><span class=\"toc-item-num\">2&nbsp;&nbsp;</span>Оценка корректности проведения теста.</a></span></li><li><span><a href=\"#Исследовательский-анализ-данных.\" data-toc-modified-id=\"Исследовательский-анализ-данных.-3\"><span class=\"toc-item-num\">3&nbsp;&nbsp;</span>Исследовательский анализ данных.</a></span></li><li><span><a href=\"#Оценка-результатов-А-В-тестирования\" data-toc-modified-id=\"Оценка-результатов-А-В-тестирования-4\"><span class=\"toc-item-num\">4&nbsp;&nbsp;</span>Оценка результатов А-В тестирования</a></span></li><li><span><a href=\"#Выводы\" data-toc-modified-id=\"Выводы-5\"><span class=\"toc-item-num\">5&nbsp;&nbsp;</span>Выводы</a></span></li></ul></div>"
   ]
  },
  {
   "cell_type": "markdown",
   "id": "3bcf5e9a",
   "metadata": {},
   "source": [
    "# A/B-тестирование\n",
    "\n",
    "В нашем распоряжении есть датасет с действиями пользователей, техническое задание и несколько вспомогательных датасетов. Наша задача — провести оценку результатов A/B-теста.\n",
    "\n",
    " Техническое задание\n",
    "\n",
    "- Название теста: `recommender_system_test`;\n",
    "- группы: А — контрольная, B — новая платёжная воронка;\n",
    "- дата запуска: 2020-12-07;\n",
    "- дата остановки набора новых пользователей: 2020-12-21;\n",
    "- дата остановки: 2021-01-04;\n",
    "- аудитория: 15% новых пользователей из региона EU;\n",
    "- назначение теста: тестирование изменений, связанных с внедрением улучшенной рекомендательной системы;\n",
    "- ожидаемое количество участников теста: 6000.\n",
    "- ожидаемый эффект: за 14 дней с момента регистрации пользователи покажут улучшение каждой метрики не менее, чем на 10%:\n",
    "    - конверсии в просмотр карточек товаров — событие `product_page`,\n",
    "    - просмотры корзины — `product_cart`,\n",
    "    - покупки — `purchase`.\n",
    "## Загрузка и предобработка данных"
   ]
  },
  {
   "cell_type": "code",
   "execution_count": 1,
   "id": "b1248c7d",
   "metadata": {},
   "outputs": [
    {
     "name": "stdout",
     "output_type": "stream",
     "text": [
      "Requirement already satisfied: kaleido in /opt/conda/lib/python3.9/site-packages (0.2.1)\n",
      "Note: you may need to restart the kernel to use updated packages.\n"
     ]
    }
   ],
   "source": [
    "pip install -U kaleido"
   ]
  },
  {
   "cell_type": "code",
   "execution_count": 2,
   "id": "684c08b6",
   "metadata": {},
   "outputs": [],
   "source": [
    "import pandas as pd\n",
    "import datetime as dt\n",
    "import numpy as np\n",
    "import matplotlib.pyplot as plt\n",
    "import scipy.stats as stats\n",
    "import seaborn as sns\n",
    "sns.set_palette('muted')\n",
    "from plotly import graph_objects as go\n",
    "import plotly.express as px\n",
    "import math as mth\n",
    "from scipy import stats as st\n",
    "import plotly.io as pio\n",
    "pio.renderers.default = \"png\""
   ]
  },
  {
   "cell_type": "code",
   "execution_count": 3,
   "id": "70556047",
   "metadata": {},
   "outputs": [],
   "source": [
    "try:\n",
    "    mk_events, events, new_users, participants = (pd.read_csv('ab_project_marketing_events.csv'),\n",
    "                    pd.read_csv('final_ab_events.csv'),\n",
    "                    pd.read_csv('final_ab_new_users.csv'),\n",
    "                    pd.read_csv('final_ab_participants.csv'))\n",
    "except:\n",
    "    mk_events, events, new_users, participants = (pd.read_csv('/datasets/ab_project_marketing_events.csv'),\n",
    "                    pd.read_csv('/datasets/final_ab_events.csv'),\n",
    "                    pd.read_csv('/datasets/final_ab_new_users.csv'),\n",
    "                    pd.read_csv('/datasets/final_ab_participants.csv')) "
   ]
  },
  {
   "cell_type": "code",
   "execution_count": 4,
   "id": "95d68ad7",
   "metadata": {},
   "outputs": [
    {
     "name": "stdout",
     "output_type": "stream",
     "text": [
      "<class 'pandas.core.frame.DataFrame'>\n",
      "RangeIndex: 14 entries, 0 to 13\n",
      "Data columns (total 4 columns):\n",
      " #   Column     Non-Null Count  Dtype \n",
      "---  ------     --------------  ----- \n",
      " 0   name       14 non-null     object\n",
      " 1   regions    14 non-null     object\n",
      " 2   start_dt   14 non-null     object\n",
      " 3   finish_dt  14 non-null     object\n",
      "dtypes: object(4)\n",
      "memory usage: 576.0+ bytes\n"
     ]
    },
    {
     "data": {
      "text/html": [
       "<div>\n",
       "<style scoped>\n",
       "    .dataframe tbody tr th:only-of-type {\n",
       "        vertical-align: middle;\n",
       "    }\n",
       "\n",
       "    .dataframe tbody tr th {\n",
       "        vertical-align: top;\n",
       "    }\n",
       "\n",
       "    .dataframe thead th {\n",
       "        text-align: right;\n",
       "    }\n",
       "</style>\n",
       "<table border=\"1\" class=\"dataframe\">\n",
       "  <thead>\n",
       "    <tr style=\"text-align: right;\">\n",
       "      <th></th>\n",
       "      <th>name</th>\n",
       "      <th>regions</th>\n",
       "      <th>start_dt</th>\n",
       "      <th>finish_dt</th>\n",
       "    </tr>\n",
       "  </thead>\n",
       "  <tbody>\n",
       "    <tr>\n",
       "      <th>0</th>\n",
       "      <td>Christmas&amp;New Year Promo</td>\n",
       "      <td>EU, N.America</td>\n",
       "      <td>2020-12-25</td>\n",
       "      <td>2021-01-03</td>\n",
       "    </tr>\n",
       "    <tr>\n",
       "      <th>1</th>\n",
       "      <td>St. Valentine's Day Giveaway</td>\n",
       "      <td>EU, CIS, APAC, N.America</td>\n",
       "      <td>2020-02-14</td>\n",
       "      <td>2020-02-16</td>\n",
       "    </tr>\n",
       "    <tr>\n",
       "      <th>2</th>\n",
       "      <td>St. Patric's Day Promo</td>\n",
       "      <td>EU, N.America</td>\n",
       "      <td>2020-03-17</td>\n",
       "      <td>2020-03-19</td>\n",
       "    </tr>\n",
       "    <tr>\n",
       "      <th>3</th>\n",
       "      <td>Easter Promo</td>\n",
       "      <td>EU, CIS, APAC, N.America</td>\n",
       "      <td>2020-04-12</td>\n",
       "      <td>2020-04-19</td>\n",
       "    </tr>\n",
       "    <tr>\n",
       "      <th>4</th>\n",
       "      <td>4th of July Promo</td>\n",
       "      <td>N.America</td>\n",
       "      <td>2020-07-04</td>\n",
       "      <td>2020-07-11</td>\n",
       "    </tr>\n",
       "  </tbody>\n",
       "</table>\n",
       "</div>"
      ],
      "text/plain": [
       "                           name                   regions    start_dt  \\\n",
       "0      Christmas&New Year Promo             EU, N.America  2020-12-25   \n",
       "1  St. Valentine's Day Giveaway  EU, CIS, APAC, N.America  2020-02-14   \n",
       "2        St. Patric's Day Promo             EU, N.America  2020-03-17   \n",
       "3                  Easter Promo  EU, CIS, APAC, N.America  2020-04-12   \n",
       "4             4th of July Promo                 N.America  2020-07-04   \n",
       "\n",
       "    finish_dt  \n",
       "0  2021-01-03  \n",
       "1  2020-02-16  \n",
       "2  2020-03-19  \n",
       "3  2020-04-19  \n",
       "4  2020-07-11  "
      ]
     },
     "execution_count": 4,
     "metadata": {},
     "output_type": "execute_result"
    }
   ],
   "source": [
    "mk_events.info()\n",
    "mk_events.head()"
   ]
  },
  {
   "cell_type": "code",
   "execution_count": 5,
   "id": "db9d546a",
   "metadata": {},
   "outputs": [
    {
     "name": "stdout",
     "output_type": "stream",
     "text": [
      "<class 'pandas.core.frame.DataFrame'>\n",
      "RangeIndex: 440317 entries, 0 to 440316\n",
      "Data columns (total 4 columns):\n",
      " #   Column      Non-Null Count   Dtype  \n",
      "---  ------      --------------   -----  \n",
      " 0   user_id     440317 non-null  object \n",
      " 1   event_dt    440317 non-null  object \n",
      " 2   event_name  440317 non-null  object \n",
      " 3   details     62740 non-null   float64\n",
      "dtypes: float64(1), object(3)\n",
      "memory usage: 13.4+ MB\n"
     ]
    },
    {
     "data": {
      "text/html": [
       "<div>\n",
       "<style scoped>\n",
       "    .dataframe tbody tr th:only-of-type {\n",
       "        vertical-align: middle;\n",
       "    }\n",
       "\n",
       "    .dataframe tbody tr th {\n",
       "        vertical-align: top;\n",
       "    }\n",
       "\n",
       "    .dataframe thead th {\n",
       "        text-align: right;\n",
       "    }\n",
       "</style>\n",
       "<table border=\"1\" class=\"dataframe\">\n",
       "  <thead>\n",
       "    <tr style=\"text-align: right;\">\n",
       "      <th></th>\n",
       "      <th>user_id</th>\n",
       "      <th>event_dt</th>\n",
       "      <th>event_name</th>\n",
       "      <th>details</th>\n",
       "    </tr>\n",
       "  </thead>\n",
       "  <tbody>\n",
       "    <tr>\n",
       "      <th>0</th>\n",
       "      <td>E1BDDCE0DAFA2679</td>\n",
       "      <td>2020-12-07 20:22:03</td>\n",
       "      <td>purchase</td>\n",
       "      <td>99.99</td>\n",
       "    </tr>\n",
       "    <tr>\n",
       "      <th>1</th>\n",
       "      <td>7B6452F081F49504</td>\n",
       "      <td>2020-12-07 09:22:53</td>\n",
       "      <td>purchase</td>\n",
       "      <td>9.99</td>\n",
       "    </tr>\n",
       "    <tr>\n",
       "      <th>2</th>\n",
       "      <td>9CD9F34546DF254C</td>\n",
       "      <td>2020-12-07 12:59:29</td>\n",
       "      <td>purchase</td>\n",
       "      <td>4.99</td>\n",
       "    </tr>\n",
       "    <tr>\n",
       "      <th>3</th>\n",
       "      <td>96F27A054B191457</td>\n",
       "      <td>2020-12-07 04:02:40</td>\n",
       "      <td>purchase</td>\n",
       "      <td>4.99</td>\n",
       "    </tr>\n",
       "    <tr>\n",
       "      <th>4</th>\n",
       "      <td>1FD7660FDF94CA1F</td>\n",
       "      <td>2020-12-07 10:15:09</td>\n",
       "      <td>purchase</td>\n",
       "      <td>4.99</td>\n",
       "    </tr>\n",
       "  </tbody>\n",
       "</table>\n",
       "</div>"
      ],
      "text/plain": [
       "            user_id             event_dt event_name  details\n",
       "0  E1BDDCE0DAFA2679  2020-12-07 20:22:03   purchase    99.99\n",
       "1  7B6452F081F49504  2020-12-07 09:22:53   purchase     9.99\n",
       "2  9CD9F34546DF254C  2020-12-07 12:59:29   purchase     4.99\n",
       "3  96F27A054B191457  2020-12-07 04:02:40   purchase     4.99\n",
       "4  1FD7660FDF94CA1F  2020-12-07 10:15:09   purchase     4.99"
      ]
     },
     "execution_count": 5,
     "metadata": {},
     "output_type": "execute_result"
    }
   ],
   "source": [
    "events.info(),\n",
    "events.head()"
   ]
  },
  {
   "cell_type": "code",
   "execution_count": 6,
   "id": "322176ba",
   "metadata": {},
   "outputs": [
    {
     "name": "stdout",
     "output_type": "stream",
     "text": [
      "<class 'pandas.core.frame.DataFrame'>\n",
      "RangeIndex: 61733 entries, 0 to 61732\n",
      "Data columns (total 4 columns):\n",
      " #   Column      Non-Null Count  Dtype \n",
      "---  ------      --------------  ----- \n",
      " 0   user_id     61733 non-null  object\n",
      " 1   first_date  61733 non-null  object\n",
      " 2   region      61733 non-null  object\n",
      " 3   device      61733 non-null  object\n",
      "dtypes: object(4)\n",
      "memory usage: 1.9+ MB\n"
     ]
    },
    {
     "data": {
      "text/html": [
       "<div>\n",
       "<style scoped>\n",
       "    .dataframe tbody tr th:only-of-type {\n",
       "        vertical-align: middle;\n",
       "    }\n",
       "\n",
       "    .dataframe tbody tr th {\n",
       "        vertical-align: top;\n",
       "    }\n",
       "\n",
       "    .dataframe thead th {\n",
       "        text-align: right;\n",
       "    }\n",
       "</style>\n",
       "<table border=\"1\" class=\"dataframe\">\n",
       "  <thead>\n",
       "    <tr style=\"text-align: right;\">\n",
       "      <th></th>\n",
       "      <th>user_id</th>\n",
       "      <th>first_date</th>\n",
       "      <th>region</th>\n",
       "      <th>device</th>\n",
       "    </tr>\n",
       "  </thead>\n",
       "  <tbody>\n",
       "    <tr>\n",
       "      <th>0</th>\n",
       "      <td>D72A72121175D8BE</td>\n",
       "      <td>2020-12-07</td>\n",
       "      <td>EU</td>\n",
       "      <td>PC</td>\n",
       "    </tr>\n",
       "    <tr>\n",
       "      <th>1</th>\n",
       "      <td>F1C668619DFE6E65</td>\n",
       "      <td>2020-12-07</td>\n",
       "      <td>N.America</td>\n",
       "      <td>Android</td>\n",
       "    </tr>\n",
       "    <tr>\n",
       "      <th>2</th>\n",
       "      <td>2E1BF1D4C37EA01F</td>\n",
       "      <td>2020-12-07</td>\n",
       "      <td>EU</td>\n",
       "      <td>PC</td>\n",
       "    </tr>\n",
       "    <tr>\n",
       "      <th>3</th>\n",
       "      <td>50734A22C0C63768</td>\n",
       "      <td>2020-12-07</td>\n",
       "      <td>EU</td>\n",
       "      <td>iPhone</td>\n",
       "    </tr>\n",
       "    <tr>\n",
       "      <th>4</th>\n",
       "      <td>E1BDDCE0DAFA2679</td>\n",
       "      <td>2020-12-07</td>\n",
       "      <td>N.America</td>\n",
       "      <td>iPhone</td>\n",
       "    </tr>\n",
       "  </tbody>\n",
       "</table>\n",
       "</div>"
      ],
      "text/plain": [
       "            user_id  first_date     region   device\n",
       "0  D72A72121175D8BE  2020-12-07         EU       PC\n",
       "1  F1C668619DFE6E65  2020-12-07  N.America  Android\n",
       "2  2E1BF1D4C37EA01F  2020-12-07         EU       PC\n",
       "3  50734A22C0C63768  2020-12-07         EU   iPhone\n",
       "4  E1BDDCE0DAFA2679  2020-12-07  N.America   iPhone"
      ]
     },
     "execution_count": 6,
     "metadata": {},
     "output_type": "execute_result"
    }
   ],
   "source": [
    "new_users.info(),\n",
    "new_users.head()"
   ]
  },
  {
   "cell_type": "code",
   "execution_count": 7,
   "id": "f1513770",
   "metadata": {},
   "outputs": [
    {
     "name": "stdout",
     "output_type": "stream",
     "text": [
      "<class 'pandas.core.frame.DataFrame'>\n",
      "RangeIndex: 18268 entries, 0 to 18267\n",
      "Data columns (total 3 columns):\n",
      " #   Column   Non-Null Count  Dtype \n",
      "---  ------   --------------  ----- \n",
      " 0   user_id  18268 non-null  object\n",
      " 1   group    18268 non-null  object\n",
      " 2   ab_test  18268 non-null  object\n",
      "dtypes: object(3)\n",
      "memory usage: 428.3+ KB\n"
     ]
    },
    {
     "data": {
      "text/html": [
       "<div>\n",
       "<style scoped>\n",
       "    .dataframe tbody tr th:only-of-type {\n",
       "        vertical-align: middle;\n",
       "    }\n",
       "\n",
       "    .dataframe tbody tr th {\n",
       "        vertical-align: top;\n",
       "    }\n",
       "\n",
       "    .dataframe thead th {\n",
       "        text-align: right;\n",
       "    }\n",
       "</style>\n",
       "<table border=\"1\" class=\"dataframe\">\n",
       "  <thead>\n",
       "    <tr style=\"text-align: right;\">\n",
       "      <th></th>\n",
       "      <th>user_id</th>\n",
       "      <th>group</th>\n",
       "      <th>ab_test</th>\n",
       "    </tr>\n",
       "  </thead>\n",
       "  <tbody>\n",
       "    <tr>\n",
       "      <th>0</th>\n",
       "      <td>D1ABA3E2887B6A73</td>\n",
       "      <td>A</td>\n",
       "      <td>recommender_system_test</td>\n",
       "    </tr>\n",
       "    <tr>\n",
       "      <th>1</th>\n",
       "      <td>A7A3664BD6242119</td>\n",
       "      <td>A</td>\n",
       "      <td>recommender_system_test</td>\n",
       "    </tr>\n",
       "    <tr>\n",
       "      <th>2</th>\n",
       "      <td>DABC14FDDFADD29E</td>\n",
       "      <td>A</td>\n",
       "      <td>recommender_system_test</td>\n",
       "    </tr>\n",
       "    <tr>\n",
       "      <th>3</th>\n",
       "      <td>04988C5DF189632E</td>\n",
       "      <td>A</td>\n",
       "      <td>recommender_system_test</td>\n",
       "    </tr>\n",
       "    <tr>\n",
       "      <th>4</th>\n",
       "      <td>482F14783456D21B</td>\n",
       "      <td>B</td>\n",
       "      <td>recommender_system_test</td>\n",
       "    </tr>\n",
       "  </tbody>\n",
       "</table>\n",
       "</div>"
      ],
      "text/plain": [
       "            user_id group                  ab_test\n",
       "0  D1ABA3E2887B6A73     A  recommender_system_test\n",
       "1  A7A3664BD6242119     A  recommender_system_test\n",
       "2  DABC14FDDFADD29E     A  recommender_system_test\n",
       "3  04988C5DF189632E     A  recommender_system_test\n",
       "4  482F14783456D21B     B  recommender_system_test"
      ]
     },
     "execution_count": 7,
     "metadata": {},
     "output_type": "execute_result"
    }
   ],
   "source": [
    "participants.info(),\n",
    "participants.head()"
   ]
  },
  {
   "cell_type": "markdown",
   "id": "7d746531",
   "metadata": {},
   "source": [
    "По информации о данных видим, что пропусков в данных нет. Приведем даты к типу datetime."
   ]
  },
  {
   "cell_type": "code",
   "execution_count": 8,
   "id": "65accfdf",
   "metadata": {},
   "outputs": [],
   "source": [
    "mk_events[['start_dt', 'finish_dt']] = mk_events[['start_dt', 'finish_dt']].apply(pd.to_datetime, errors='coerce')\n",
    "events['event_dt'] = pd.to_datetime(events['event_dt'])\n",
    "new_users['first_date'] = pd.to_datetime(new_users['first_date'])"
   ]
  },
  {
   "cell_type": "code",
   "execution_count": 9,
   "id": "8d7079e1",
   "metadata": {},
   "outputs": [
    {
     "data": {
      "text/plain": [
       "0"
      ]
     },
     "execution_count": 9,
     "metadata": {},
     "output_type": "execute_result"
    }
   ],
   "source": [
    "mk_events.duplicated().sum()"
   ]
  },
  {
   "cell_type": "code",
   "execution_count": 10,
   "id": "8061a9d8",
   "metadata": {},
   "outputs": [
    {
     "data": {
      "text/plain": [
       "0"
      ]
     },
     "execution_count": 10,
     "metadata": {},
     "output_type": "execute_result"
    }
   ],
   "source": [
    "events.duplicated().sum()"
   ]
  },
  {
   "cell_type": "code",
   "execution_count": 11,
   "id": "11490112",
   "metadata": {},
   "outputs": [
    {
     "data": {
      "text/plain": [
       "0"
      ]
     },
     "execution_count": 11,
     "metadata": {},
     "output_type": "execute_result"
    }
   ],
   "source": [
    "new_users.duplicated().sum()"
   ]
  },
  {
   "cell_type": "code",
   "execution_count": 12,
   "id": "c9c7ca23",
   "metadata": {},
   "outputs": [
    {
     "data": {
      "text/plain": [
       "0"
      ]
     },
     "execution_count": 12,
     "metadata": {},
     "output_type": "execute_result"
    }
   ],
   "source": [
    "participants.duplicated().sum()"
   ]
  },
  {
   "cell_type": "markdown",
   "id": "1235fe8d",
   "metadata": {},
   "source": [
    "На этапе предобработки данных мы изменили типы данных где это необходимо, пропусков и дубликатов не обнаружено.\n",
    "\n",
    "## Оценка корректности проведения теста."
   ]
  },
  {
   "cell_type": "code",
   "execution_count": 13,
   "id": "76b83fc7",
   "metadata": {},
   "outputs": [
    {
     "data": {
      "text/plain": [
       "interface_eu_test          11567\n",
       "recommender_system_test     6701\n",
       "Name: ab_test, dtype: int64"
      ]
     },
     "execution_count": 13,
     "metadata": {},
     "output_type": "execute_result"
    }
   ],
   "source": [
    "participants['ab_test'].value_counts()"
   ]
  },
  {
   "cell_type": "markdown",
   "id": "87e5909d",
   "metadata": {},
   "source": [
    "В данных видим информацию о двух A-В тестах. Нужно проверить пересечение пользователей между тестами."
   ]
  },
  {
   "cell_type": "code",
   "execution_count": 14,
   "id": "e75ca432",
   "metadata": {},
   "outputs": [
    {
     "name": "stdout",
     "output_type": "stream",
     "text": [
      "1602 пользователя участвуют в обоих A-B тестах, посмотрим как они распределены между группами теста.\n"
     ]
    }
   ],
   "source": [
    "dupl_users = participants.groupby('user_id').agg({'ab_test':'nunique'}).query('ab_test > 1')\n",
    "print(f'{len(dupl_users)} пользователя участвуют в обоих A-B тестах, посмотрим как они распределены между группами теста.')"
   ]
  },
  {
   "cell_type": "code",
   "execution_count": 15,
   "id": "7b42fdd7",
   "metadata": {},
   "outputs": [
    {
     "data": {
      "text/html": [
       "<div>\n",
       "<style scoped>\n",
       "    .dataframe tbody tr th:only-of-type {\n",
       "        vertical-align: middle;\n",
       "    }\n",
       "\n",
       "    .dataframe tbody tr th {\n",
       "        vertical-align: top;\n",
       "    }\n",
       "\n",
       "    .dataframe thead th {\n",
       "        text-align: right;\n",
       "    }\n",
       "</style>\n",
       "<table border=\"1\" class=\"dataframe\">\n",
       "  <thead>\n",
       "    <tr style=\"text-align: right;\">\n",
       "      <th></th>\n",
       "      <th>iet_A</th>\n",
       "      <th>iet_B</th>\n",
       "      <th>all_users</th>\n",
       "      <th>perc_A</th>\n",
       "      <th>perc_B</th>\n",
       "    </tr>\n",
       "    <tr>\n",
       "      <th>group</th>\n",
       "      <th></th>\n",
       "      <th></th>\n",
       "      <th></th>\n",
       "      <th></th>\n",
       "      <th></th>\n",
       "    </tr>\n",
       "  </thead>\n",
       "  <tbody>\n",
       "    <tr>\n",
       "      <th>A</th>\n",
       "      <td>482</td>\n",
       "      <td>439</td>\n",
       "      <td>3824</td>\n",
       "      <td>12.60</td>\n",
       "      <td>11.48</td>\n",
       "    </tr>\n",
       "    <tr>\n",
       "      <th>B</th>\n",
       "      <td>337</td>\n",
       "      <td>344</td>\n",
       "      <td>2877</td>\n",
       "      <td>11.71</td>\n",
       "      <td>11.96</td>\n",
       "    </tr>\n",
       "  </tbody>\n",
       "</table>\n",
       "</div>"
      ],
      "text/plain": [
       "       iet_A  iet_B  all_users  perc_A  perc_B\n",
       "group                                         \n",
       "A        482    439       3824   12.60   11.48\n",
       "B        337    344       2877   11.71   11.96"
      ]
     },
     "execution_count": 15,
     "metadata": {},
     "output_type": "execute_result"
    }
   ],
   "source": [
    "r_s_test = participants.query('ab_test==\"recommender_system_test\"')\n",
    "iet_a_list = participants.query('user_id in @dupl_users.index and ab_test==\"interface_eu_test\" and group==\"A\"')['user_id']\n",
    "iet_b_list = participants.query('user_id in @dupl_users.index and ab_test==\"interface_eu_test\" and group==\"B\"')['user_id']\n",
    "df = r_s_test.query('user_id in @iet_a_list').groupby('group')['user_id'].count().to_frame().rename(columns={'user_id':'iet_A'})\n",
    "df['iet_B'] = (r_s_test.query('user_id in @iet_b_list').groupby('group')['user_id'].count().to_frame()\n",
    ".rename(columns={'user_id':'iet_B'}))\n",
    "df['all_users'] = r_s_test.groupby('group')['user_id'].count()\n",
    "df['perc_A'] = round(df['iet_A']*100/df['all_users'],2)\n",
    "df['perc_B'] = round(df['iet_B']*100/df['all_users'],2)\n",
    "df"
   ]
  },
  {
   "cell_type": "markdown",
   "id": "28a7db30",
   "metadata": {},
   "source": [
    "Пользователи группы А конкурирующего теста составляют 12.6 и 11.7% процентов груп А и В нашего теста, группы В - 11.48 и 11.96% соответственно. Распределение между группами равномерное, тоесть конкурирующий тест одинаково влиял на группы А и В нашего теста, что в итоге на отношение конверсий не должно сказатся. \n",
    "\n",
    "Проверим пересечение пользователей между группами теста."
   ]
  },
  {
   "cell_type": "code",
   "execution_count": 16,
   "id": "76f764c7",
   "metadata": {},
   "outputs": [
    {
     "name": "stdout",
     "output_type": "stream",
     "text": [
      "0 пользователей участвуют в обоих группах A-В теста.\n"
     ]
    }
   ],
   "source": [
    "dupl_users_rst = r_s_test.groupby('user_id').agg({'group':'nunique'}).query('group > 1')\n",
    "print(f'{len(dupl_users_rst)} пользователей участвуют в обоих группах A-В теста.')"
   ]
  },
  {
   "cell_type": "markdown",
   "id": "0b673737",
   "metadata": {},
   "source": [
    "Оставим в датафреймах events и new_users только участников нашего теста."
   ]
  },
  {
   "cell_type": "code",
   "execution_count": 17,
   "id": "f3974839",
   "metadata": {},
   "outputs": [],
   "source": [
    "rs_list = r_s_test['user_id'].tolist()\n",
    "events = events.query('user_id in @rs_list')\n",
    "new_users = new_users.query('user_id in @rs_list')"
   ]
  },
  {
   "cell_type": "markdown",
   "id": "aac24d67",
   "metadata": {},
   "source": [
    "Проверим датасеты на соответствие дате запуска теста 2020-12-07."
   ]
  },
  {
   "cell_type": "code",
   "execution_count": 18,
   "id": "b2287819",
   "metadata": {},
   "outputs": [
    {
     "data": {
      "text/plain": [
       "Timestamp('2020-12-07 00:05:57')"
      ]
     },
     "execution_count": 18,
     "metadata": {},
     "output_type": "execute_result"
    }
   ],
   "source": [
    "events['event_dt'].min()"
   ]
  },
  {
   "cell_type": "code",
   "execution_count": 19,
   "id": "9642c447",
   "metadata": {},
   "outputs": [
    {
     "data": {
      "text/plain": [
       "Timestamp('2020-12-07 00:00:00')"
      ]
     },
     "execution_count": 19,
     "metadata": {},
     "output_type": "execute_result"
    }
   ],
   "source": [
    "new_users['first_date'].min()"
   ]
  },
  {
   "cell_type": "markdown",
   "id": "89dd4201",
   "metadata": {},
   "source": [
    "Даты соответствуют. Проверим датасет на соответствие дате остановки набора новых пользователей 2020-12-21."
   ]
  },
  {
   "cell_type": "code",
   "execution_count": 20,
   "id": "19acaa92",
   "metadata": {},
   "outputs": [
    {
     "data": {
      "text/plain": [
       "Timestamp('2020-12-21 00:00:00')"
      ]
     },
     "execution_count": 20,
     "metadata": {},
     "output_type": "execute_result"
    }
   ],
   "source": [
    "new_users['first_date'].max()"
   ]
  },
  {
   "cell_type": "markdown",
   "id": "38ad117a",
   "metadata": {},
   "source": [
    "Проверим датасет на соответствие дате остановки 2021-01-04."
   ]
  },
  {
   "cell_type": "code",
   "execution_count": 21,
   "id": "3bd17a2e",
   "metadata": {},
   "outputs": [
    {
     "data": {
      "text/plain": [
       "Timestamp('2020-12-30 12:42:57')"
      ]
     },
     "execution_count": 21,
     "metadata": {},
     "output_type": "execute_result"
    }
   ],
   "source": [
    "events['event_dt'].max()"
   ]
  },
  {
   "cell_type": "markdown",
   "id": "7a8e71b3",
   "metadata": {},
   "source": [
    "Дата окончания теста не соответствует, в данных не хватает информации за 4 дня. Проверим аудиторию теста, должно быть 15% новых пользователей из региона ЕU."
   ]
  },
  {
   "cell_type": "code",
   "execution_count": 22,
   "id": "f10add88",
   "metadata": {},
   "outputs": [
    {
     "name": "stdout",
     "output_type": "stream",
     "text": [
      "100.0 % новых пользователей из региона ЕU.\n"
     ]
    }
   ],
   "source": [
    "data = r_s_test.merge(new_users, on='user_id', how='left')\n",
    "print(data.query('region==\"EU\"')['user_id'].count()*100/new_users.query('region==\"EU\"')['user_id'].count(),\n",
    "      '% новых пользователей из региона ЕU.')"
   ]
  },
  {
   "cell_type": "code",
   "execution_count": 23,
   "id": "3854969d",
   "metadata": {},
   "outputs": [
    {
     "data": {
      "text/html": [
       "<div>\n",
       "<style scoped>\n",
       "    .dataframe tbody tr th:only-of-type {\n",
       "        vertical-align: middle;\n",
       "    }\n",
       "\n",
       "    .dataframe tbody tr th {\n",
       "        vertical-align: top;\n",
       "    }\n",
       "\n",
       "    .dataframe thead th {\n",
       "        text-align: right;\n",
       "    }\n",
       "</style>\n",
       "<table border=\"1\" class=\"dataframe\">\n",
       "  <thead>\n",
       "    <tr style=\"text-align: right;\">\n",
       "      <th></th>\n",
       "      <th>region</th>\n",
       "      <th>percent</th>\n",
       "    </tr>\n",
       "  </thead>\n",
       "  <tbody>\n",
       "    <tr>\n",
       "      <th>EU</th>\n",
       "      <td>6351</td>\n",
       "      <td>94.78</td>\n",
       "    </tr>\n",
       "    <tr>\n",
       "      <th>N.America</th>\n",
       "      <td>223</td>\n",
       "      <td>3.33</td>\n",
       "    </tr>\n",
       "    <tr>\n",
       "      <th>APAC</th>\n",
       "      <td>72</td>\n",
       "      <td>1.07</td>\n",
       "    </tr>\n",
       "    <tr>\n",
       "      <th>CIS</th>\n",
       "      <td>55</td>\n",
       "      <td>0.82</td>\n",
       "    </tr>\n",
       "  </tbody>\n",
       "</table>\n",
       "</div>"
      ],
      "text/plain": [
       "           region  percent\n",
       "EU           6351    94.78\n",
       "N.America     223     3.33\n",
       "APAC           72     1.07\n",
       "CIS            55     0.82"
      ]
     },
     "execution_count": 23,
     "metadata": {},
     "output_type": "execute_result"
    }
   ],
   "source": [
    "nu_region = new_users['region'].value_counts().to_frame()\n",
    "nu_region['percent'] = round(nu_region['region']*100/nu_region['region'].sum(),2)\n",
    "nu_region"
   ]
  },
  {
   "cell_type": "markdown",
   "id": "9ff31515",
   "metadata": {},
   "source": [
    "Невозможно обеспечить заявленные в ТЗ 15% новых пользователей из региона EU, так как 95% всех новых пользователей из этого региона."
   ]
  },
  {
   "cell_type": "code",
   "execution_count": 24,
   "id": "48b5f1f7",
   "metadata": {},
   "outputs": [
    {
     "name": "stdout",
     "output_type": "stream",
     "text": [
      "Количество участников теста 6701.\n"
     ]
    }
   ],
   "source": [
    "print(f'Количество участников теста {len(data)}.')"
   ]
  },
  {
   "cell_type": "markdown",
   "id": "58479c04",
   "metadata": {},
   "source": [
    "Количество участников теста соответствует ожидаемому количеству в 6000 и даже его превышает. Проверим совпадение теста и маркетинговых событий."
   ]
  },
  {
   "cell_type": "code",
   "execution_count": 25,
   "id": "35110faa",
   "metadata": {},
   "outputs": [
    {
     "data": {
      "text/html": [
       "<div>\n",
       "<style scoped>\n",
       "    .dataframe tbody tr th:only-of-type {\n",
       "        vertical-align: middle;\n",
       "    }\n",
       "\n",
       "    .dataframe tbody tr th {\n",
       "        vertical-align: top;\n",
       "    }\n",
       "\n",
       "    .dataframe thead th {\n",
       "        text-align: right;\n",
       "    }\n",
       "</style>\n",
       "<table border=\"1\" class=\"dataframe\">\n",
       "  <thead>\n",
       "    <tr style=\"text-align: right;\">\n",
       "      <th></th>\n",
       "      <th>name</th>\n",
       "      <th>regions</th>\n",
       "      <th>start_dt</th>\n",
       "      <th>finish_dt</th>\n",
       "    </tr>\n",
       "  </thead>\n",
       "  <tbody>\n",
       "    <tr>\n",
       "      <th>0</th>\n",
       "      <td>Christmas&amp;New Year Promo</td>\n",
       "      <td>EU, N.America</td>\n",
       "      <td>2020-12-25</td>\n",
       "      <td>2021-01-03</td>\n",
       "    </tr>\n",
       "    <tr>\n",
       "      <th>10</th>\n",
       "      <td>CIS New Year Gift Lottery</td>\n",
       "      <td>CIS</td>\n",
       "      <td>2020-12-30</td>\n",
       "      <td>2021-01-07</td>\n",
       "    </tr>\n",
       "  </tbody>\n",
       "</table>\n",
       "</div>"
      ],
      "text/plain": [
       "                         name        regions   start_dt  finish_dt\n",
       "0    Christmas&New Year Promo  EU, N.America 2020-12-25 2021-01-03\n",
       "10  CIS New Year Gift Lottery            CIS 2020-12-30 2021-01-07"
      ]
     },
     "execution_count": 25,
     "metadata": {},
     "output_type": "execute_result"
    }
   ],
   "source": [
    "(mk_events.\n",
    " query('(\"2021-01-04\"> start_dt >=\"2020-12-07\") or  (\"2021-01-04\"> finish_dt >=\"2020-12-07\") or ((start_dt <=\"2020-12-07\") and (finish_dt>=\"2021-01-04\"))'))"
   ]
  },
  {
   "cell_type": "markdown",
   "id": "461e5100",
   "metadata": {},
   "source": [
    "Проведение A-B теста совпадает с временем проведения Christmas&New Year Promo и CIS New Year Gift Lottery это безусловно повлияет на конверсию, на обе группы в равной мере. Попробуем отследить новых прользователей которые пришли во время проведения промоакции."
   ]
  },
  {
   "cell_type": "code",
   "execution_count": 26,
   "id": "846eb68e",
   "metadata": {},
   "outputs": [
    {
     "name": "stdout",
     "output_type": "stream",
     "text": [
      "Во время промоакции пришло 0 новых пользователей.\n"
     ]
    }
   ],
   "source": [
    "print('Во время промоакции пришло',len(data.query('\"2021-01-07\">first_date>=\"2020-12-25\"')),'новых пользователей.')"
   ]
  },
  {
   "cell_type": "code",
   "execution_count": 27,
   "id": "d437d334",
   "metadata": {},
   "outputs": [
    {
     "data": {
      "text/plain": [
       "group\n",
       "A    3824\n",
       "B    2877\n",
       "Name: user_id, dtype: int64"
      ]
     },
     "execution_count": 27,
     "metadata": {},
     "output_type": "execute_result"
    }
   ],
   "source": [
    "data.groupby('group')['user_id'].count()"
   ]
  },
  {
   "cell_type": "code",
   "execution_count": 28,
   "id": "b6f913fb",
   "metadata": {},
   "outputs": [
    {
     "data": {
      "text/plain": [
       "14.13"
      ]
     },
     "execution_count": 28,
     "metadata": {},
     "output_type": "execute_result"
    }
   ],
   "source": [
    "round((data.query('group==\"A\"')['user_id'].count()-data.query('group==\"B\"')['user_id'].count())*100/len(data),2)"
   ]
  },
  {
   "cell_type": "markdown",
   "id": "90c3c71d",
   "metadata": {},
   "source": [
    "Пользователи распределены между группами не равномерно, в группе А на 14% больше пользователей. Посмотрим есть ли пользователи которые не совершили ни одного события."
   ]
  },
  {
   "cell_type": "code",
   "execution_count": 29,
   "id": "7cad15a9",
   "metadata": {},
   "outputs": [],
   "source": [
    "data = data.merge(events, on='user_id', how='left')"
   ]
  },
  {
   "cell_type": "code",
   "execution_count": 30,
   "id": "c1f76c17",
   "metadata": {},
   "outputs": [
    {
     "name": "stdout",
     "output_type": "stream",
     "text": [
      "3026 пользователей не совершили ни одного события. Посмотрим на распределение таких пользователей по группам.\n"
     ]
    }
   ],
   "source": [
    "no_events_list = data.groupby('user_id')['event_name'].nunique().to_frame().query('event_name==0').index\n",
    "print(len(data.query('user_id in @no_events_list')),\n",
    "      'пользователей не совершили ни одного события. Посмотрим на распределение таких пользователей по группам.')"
   ]
  },
  {
   "cell_type": "code",
   "execution_count": 31,
   "id": "3691c8da",
   "metadata": {},
   "outputs": [
    {
     "data": {
      "text/html": [
       "<div>\n",
       "<style scoped>\n",
       "    .dataframe tbody tr th:only-of-type {\n",
       "        vertical-align: middle;\n",
       "    }\n",
       "\n",
       "    .dataframe tbody tr th {\n",
       "        vertical-align: top;\n",
       "    }\n",
       "\n",
       "    .dataframe thead th {\n",
       "        text-align: right;\n",
       "    }\n",
       "</style>\n",
       "<table border=\"1\" class=\"dataframe\">\n",
       "  <thead>\n",
       "    <tr style=\"text-align: right;\">\n",
       "      <th></th>\n",
       "      <th>no_events</th>\n",
       "      <th>all_users</th>\n",
       "      <th>percent</th>\n",
       "    </tr>\n",
       "    <tr>\n",
       "      <th>group</th>\n",
       "      <th></th>\n",
       "      <th></th>\n",
       "      <th></th>\n",
       "    </tr>\n",
       "  </thead>\n",
       "  <tbody>\n",
       "    <tr>\n",
       "      <th>A</th>\n",
       "      <td>1077</td>\n",
       "      <td>3824</td>\n",
       "      <td>28.16</td>\n",
       "    </tr>\n",
       "    <tr>\n",
       "      <th>B</th>\n",
       "      <td>1949</td>\n",
       "      <td>2877</td>\n",
       "      <td>67.74</td>\n",
       "    </tr>\n",
       "  </tbody>\n",
       "</table>\n",
       "</div>"
      ],
      "text/plain": [
       "       no_events  all_users  percent\n",
       "group                               \n",
       "A           1077       3824    28.16\n",
       "B           1949       2877    67.74"
      ]
     },
     "execution_count": 31,
     "metadata": {},
     "output_type": "execute_result"
    }
   ],
   "source": [
    "data_no_events= (data.query('user_id in @no_events_list')\n",
    "                  .groupby('group')['user_id'].count().to_frame()\n",
    "                  .rename(columns={'user_id':\"no_events\"}))\n",
    "data_no_events['all_users'] = data.groupby('group')['user_id'].nunique()\n",
    "data_no_events['percent'] = round(data_no_events['no_events']*100/data_no_events['all_users'],2)\n",
    "data_no_events"
   ]
  },
  {
   "cell_type": "markdown",
   "id": "0fa86279",
   "metadata": {},
   "source": [
    "В группе А 28% процентов пользователей не активны, в группе B - 67%."
   ]
  },
  {
   "cell_type": "code",
   "execution_count": 32,
   "id": "28bf2c83",
   "metadata": {},
   "outputs": [
    {
     "data": {
      "image/png": "[encoded data removed]",
      "text/plain": [
       "<Figure size 576x360 with 1 Axes>"
      ]
     },
     "metadata": {
      "needs_background": "light"
     },
     "output_type": "display_data"
    }
   ],
   "source": [
    "plt.figure(figsize=(8,5))\n",
    "sns.histplot(data=data.query('user_id in @no_events_list'), x='first_date', hue='group')\n",
    "plt.xticks(rotation=30)\n",
    "plt.title('Распределение не активных пользователей по группам теста.')\n",
    "plt.xlabel(None)\n",
    "plt.ylabel('Частота')\n",
    "sns.despine()"
   ]
  },
  {
   "cell_type": "markdown",
   "id": "c6e2af6e",
   "metadata": {},
   "source": [
    "Видим, что первую неделю в обоих группах появлялись не активные пользователи, после 2020-12-13 не активные пользователи появляются только в группе В. Очень похоже на технический сбой в записи логов, в группе А его обнаружили и устранили, а в группе В, всвязи с внедрением улучшенной рекомендательной системы не смогли. Распределение не активных пользователей точно не похоже на естественную конверсию, потому таких пользователей прийдется отфильтровать."
   ]
  },
  {
   "cell_type": "code",
   "execution_count": 33,
   "id": "891204f1",
   "metadata": {},
   "outputs": [],
   "source": [
    "data = data.query('user_id not in @no_events_list')"
   ]
  },
  {
   "cell_type": "markdown",
   "id": "e0f9d396",
   "metadata": {},
   "source": [
    "Отсечем события которые произошли позднее 14-ти дней с момента регистрации в системе."
   ]
  },
  {
   "cell_type": "code",
   "execution_count": 34,
   "id": "991c5fb5",
   "metadata": {},
   "outputs": [
    {
     "data": {
      "text/plain": [
       "group\n",
       "A    2747\n",
       "B     928\n",
       "Name: user_id, dtype: int64"
      ]
     },
     "execution_count": 34,
     "metadata": {},
     "output_type": "execute_result"
    }
   ],
   "source": [
    "data['lifetime'] = (data['event_dt']-data['first_date']).dt.days\n",
    "data = data.query('lifetime <= 14')\n",
    "data.groupby('group')['user_id'].nunique()"
   ]
  },
  {
   "cell_type": "code",
   "execution_count": 35,
   "id": "77314193",
   "metadata": {},
   "outputs": [
    {
     "name": "stdout",
     "output_type": "stream",
     "text": [
      "Распределение по группам стало еще более не равномерным - в группе А на 57.43 % пользователей больше.\n",
      "Количество участников теста составило 3675 и более не соответствует ожидаемому показателю в 6000.\n",
      "Всего  54.81 % новых пользователей из региона ЕU.\n"
     ]
    }
   ],
   "source": [
    "print('Распределение по группам стало еще более не равномерным - в группе А на',\n",
    "      round((data.query('group==\"A\"')['user_id'].count()-data.query('group==\"B\"')['user_id'].count())*100/len(data),2),\n",
    "      '% пользователей больше.')\n",
    "print(f'Количество участников теста составило {data.user_id.nunique()} и более не соответствует ожидаемому показателю в 6000.')\n",
    "print('Всего ',round(data.query('region==\"EU\"')['user_id'].nunique()*100/new_users.query('region==\"EU\"')['user_id'].count(),2),\n",
    "      '% новых пользователей из региона ЕU.')"
   ]
  },
  {
   "cell_type": "markdown",
   "id": "f039bd99",
   "metadata": {},
   "source": [
    "В итоге:\n",
    "- Часть участников теста участвует в конкурирующем тесте, их доля разделена равномерно между группами надеемся, что они повлияли на обе группы в одинаковой мере.\n",
    "- Дата окончания теста не соответствует, в данных не хватает информации за 4 дня.\n",
    "- Проведение A-B теста совпадает с временем проведения Christmas&New Year Promo и CIS New Year Gift Lottery, это безусловно повлияет на конверсию, на обе группы в равной мере. \n",
    "- Распределение по группам не равномерное - в группе А на 57.62 % пользователей больше.\n",
    "- Количество участников теста составило 3675 и более не соответствует заложеному в ТЗ показателю в 6000.\n",
    "- Всего  54,81 % новых пользователей из региона ЕU, что не соответствует заложеному в ТЗ показателю 15%.\n",
    "\n",
    "А-В тест не соответствует техническому заданию, это может негативно повлиять на его результат.\n",
    "\n",
    "## Исследовательский анализ данных.\n"
   ]
  },
  {
   "cell_type": "code",
   "execution_count": 36,
   "id": "3d5dc208",
   "metadata": {},
   "outputs": [
    {
     "name": "stdout",
     "output_type": "stream",
     "text": [
      "В среднем на пользователя приходится 7 событий.\n",
      "В среднем на пользователя из группы А приходится 7 событий.\n",
      "В среднем на пользователя из группы B приходится 6 событий.\n"
     ]
    }
   ],
   "source": [
    "print(f'В среднем на пользователя приходится {round(data.event_name.count()/data.user_id.nunique())} событий.')\n",
    "print(f'В среднем на пользователя из группы А приходится' , \n",
    "      round(data.query('group==\"A\"').event_name.count()/data.query('group==\"A\"').user_id.nunique()), 'событий.')\n",
    "print(f'В среднем на пользователя из группы B приходится' , \n",
    "      round(data.query('group==\"B\"').event_name.count()/data.query('group==\"B\"').user_id.nunique()), 'событий.')"
   ]
  },
  {
   "cell_type": "code",
   "execution_count": 37,
   "id": "015f943f",
   "metadata": {},
   "outputs": [
    {
     "data": {
      "image/png": "[encoded data removed]",
      "text/plain": [
       "<Figure size 720x360 with 1 Axes>"
      ]
     },
     "metadata": {
      "needs_background": "light"
     },
     "output_type": "display_data"
    }
   ],
   "source": [
    "plt.figure(figsize=(10,5))\n",
    "sns.histplot(data=data, x='event_dt', hue='group')\n",
    "plt.xticks(rotation=30)\n",
    "plt.title('Распределение числа событий в выборках по дням')\n",
    "plt.xlabel(None)\n",
    "plt.ylabel('Частота')\n",
    "sns.despine()"
   ]
  },
  {
   "cell_type": "markdown",
   "id": "82a63aac",
   "metadata": {},
   "source": [
    "В группе В относительно равномерное распределение событий в выборках по дням, в группе А картина была аналогична группе В, но после 2020-12-13 видим резкий рост количества событий с пиком в районе 2020-12-21, что соответсвует сезонному увеличению покупок всвязи с Рождественскими праздниками.\n",
    "\n",
    "Раннее мы выяснили, что после 2020-12-13 в группе А пропали пользователи с нулевым количеством событий, то есть распределение еще раз подтверждает версию о техничесокм сбое в записи данных."
   ]
  },
  {
   "cell_type": "markdown",
   "id": "4349e627",
   "metadata": {},
   "source": [
    "В воронке видим 4 события: \n",
    "1. login - регистрация;\n",
    "2. product_page - просмотр карточек товаров;\n",
    "3. product_cart - просмотр корзины;\n",
    "4. purchase - покупка.\n",
    "\n",
    "Посмотрим сколько пользователей соврешили каждое из этих событий"
   ]
  },
  {
   "cell_type": "code",
   "execution_count": 38,
   "id": "011c638d",
   "metadata": {},
   "outputs": [
    {
     "data": {
      "text/html": [
       "<div>\n",
       "<style scoped>\n",
       "    .dataframe tbody tr th:only-of-type {\n",
       "        vertical-align: middle;\n",
       "    }\n",
       "\n",
       "    .dataframe tbody tr th {\n",
       "        vertical-align: top;\n",
       "    }\n",
       "\n",
       "    .dataframe thead th {\n",
       "        text-align: right;\n",
       "    }\n",
       "</style>\n",
       "<table border=\"1\" class=\"dataframe\">\n",
       "  <thead>\n",
       "    <tr style=\"text-align: right;\">\n",
       "      <th></th>\n",
       "      <th>event_name</th>\n",
       "      <th>users</th>\n",
       "    </tr>\n",
       "  </thead>\n",
       "  <tbody>\n",
       "    <tr>\n",
       "      <th>0</th>\n",
       "      <td>login</td>\n",
       "      <td>2747</td>\n",
       "    </tr>\n",
       "    <tr>\n",
       "      <th>1</th>\n",
       "      <td>product_page</td>\n",
       "      <td>1780</td>\n",
       "    </tr>\n",
       "    <tr>\n",
       "      <th>2</th>\n",
       "      <td>product_cart</td>\n",
       "      <td>824</td>\n",
       "    </tr>\n",
       "    <tr>\n",
       "      <th>3</th>\n",
       "      <td>purchase</td>\n",
       "      <td>872</td>\n",
       "    </tr>\n",
       "  </tbody>\n",
       "</table>\n",
       "</div>"
      ],
      "text/plain": [
       "     event_name  users\n",
       "0         login   2747\n",
       "1  product_page   1780\n",
       "2  product_cart    824\n",
       "3      purchase    872"
      ]
     },
     "execution_count": 38,
     "metadata": {},
     "output_type": "execute_result"
    }
   ],
   "source": [
    "data_a = (data.query('group==\"A\"').groupby('event_name').agg({'user_id':'nunique'})\n",
    "            .rename(columns={'user_id':'users'})).reset_index()\n",
    "\n",
    "data_a1=data_a.copy()\n",
    "data_a1.iloc[1,:],data_a1.iloc[2,:]=data_a.iloc[2,:],data_a.iloc[1,:]\n",
    "data_a1"
   ]
  },
  {
   "cell_type": "code",
   "execution_count": 39,
   "id": "48d41205",
   "metadata": {},
   "outputs": [
    {
     "data": {
      "text/html": [
       "<div>\n",
       "<style scoped>\n",
       "    .dataframe tbody tr th:only-of-type {\n",
       "        vertical-align: middle;\n",
       "    }\n",
       "\n",
       "    .dataframe tbody tr th {\n",
       "        vertical-align: top;\n",
       "    }\n",
       "\n",
       "    .dataframe thead th {\n",
       "        text-align: right;\n",
       "    }\n",
       "</style>\n",
       "<table border=\"1\" class=\"dataframe\">\n",
       "  <thead>\n",
       "    <tr style=\"text-align: right;\">\n",
       "      <th></th>\n",
       "      <th>event_name</th>\n",
       "      <th>users</th>\n",
       "    </tr>\n",
       "  </thead>\n",
       "  <tbody>\n",
       "    <tr>\n",
       "      <th>0</th>\n",
       "      <td>login</td>\n",
       "      <td>927</td>\n",
       "    </tr>\n",
       "    <tr>\n",
       "      <th>1</th>\n",
       "      <td>product_page</td>\n",
       "      <td>523</td>\n",
       "    </tr>\n",
       "    <tr>\n",
       "      <th>2</th>\n",
       "      <td>product_cart</td>\n",
       "      <td>255</td>\n",
       "    </tr>\n",
       "    <tr>\n",
       "      <th>3</th>\n",
       "      <td>purchase</td>\n",
       "      <td>256</td>\n",
       "    </tr>\n",
       "  </tbody>\n",
       "</table>\n",
       "</div>"
      ],
      "text/plain": [
       "     event_name  users\n",
       "0         login    927\n",
       "1  product_page    523\n",
       "2  product_cart    255\n",
       "3      purchase    256"
      ]
     },
     "execution_count": 39,
     "metadata": {},
     "output_type": "execute_result"
    }
   ],
   "source": [
    "data_b = (data.query('group==\"B\"').groupby('event_name').agg({'user_id':'nunique'})\n",
    "            .rename(columns={'user_id':'users'})).reset_index()\n",
    "\n",
    "data_b1=data_b.copy()\n",
    "data_b1.iloc[1,:],data_b1.iloc[2,:]=data_b.iloc[2,:],data_b.iloc[1,:]\n",
    "data_b1"
   ]
  },
  {
   "cell_type": "code",
   "execution_count": 40,
   "id": "2584c8b8",
   "metadata": {},
   "outputs": [
    {
     "data": {
      "image/png": "[encoded data removed]"
     },
     "metadata": {},
     "output_type": "display_data"
    }
   ],
   "source": [
    "fig = go.Figure()\n",
    "\n",
    "fig.add_trace(go.Funnel(\n",
    "    name = 'Группа A',\n",
    "    y = data_a1['event_name'],\n",
    "    x = data_a1['users'],\n",
    "    textposition = \"inside\",\n",
    "    textinfo = \"value+percent previous\"))\n",
    "\n",
    "fig.add_trace(go.Funnel(\n",
    "    name = 'Группа B',\n",
    "    orientation = \"h\",\n",
    "    y = data_b1['event_name'],\n",
    "    x = data_b1['users'],\n",
    "    textposition = \"inside\",\n",
    "    textinfo = \"value+percent previous\"))\n",
    "\n",
    "fig.update_layout(title='Воронка событий', \n",
    "                 yaxis_title='Наименование событий')\n",
    "fig.show()"
   ]
  },
  {
   "cell_type": "markdown",
   "id": "f31b3d77",
   "metadata": {},
   "source": [
    "В обоих группах больше всего пользователей мы теряем при переходе от регистрации к просмотру карточек товара.\n",
    "От регистрации до успешной оплаты в группе А доходят около 14% пользователей, в группе В -13%.\n",
    "Просмотр корзины совершают меньше пользователей чем покупку, скорее всего сушествует схема покупки товара минуя корзину, наподобии кнопки быстрой покупки в карточке товара.\n",
    "\n",
    "Ожидаемый эффект группа В не показала:\n",
    "- конверсия в просмотр карточек товаров — событие product_page в группе В на 9% ниже, чем в группе А.\n",
    "- конверсия в просмотры корзины — product_cart в группе В на 3% выше группы А\n",
    "- конверсия в покупки — purchase (этот показатель целесообразно рассматривать в отношении от общего количества участников, так как не все покупатели прошли этап добавления товаров в корзину) в группе B на 1% ниже, чем в группе А.\n",
    "\n",
    "## Оценка результатов А-В тестирования\n",
    "\n",
    "В соответствии с воронкой событий ожидаемый эффект, что за 14 дней с момента регистрации в системе пользователи покажут улучшение каждой метрики не менее, чем на 10%, группа В не показала. Но необходимо подтвердить, что разница является статистически значимой. Так как мы будем сравнивать доли, применим z-критерий. Чтобы снизить вероятность ложнопозитивного результата при множественном тестировании гипотез, применим метод Шидака.  "
   ]
  },
  {
   "cell_type": "code",
   "execution_count": 41,
   "id": "e13c020b",
   "metadata": {},
   "outputs": [
    {
     "data": {
      "text/html": [
       "<div>\n",
       "<style scoped>\n",
       "    .dataframe tbody tr th:only-of-type {\n",
       "        vertical-align: middle;\n",
       "    }\n",
       "\n",
       "    .dataframe tbody tr th {\n",
       "        vertical-align: top;\n",
       "    }\n",
       "\n",
       "    .dataframe thead th {\n",
       "        text-align: right;\n",
       "    }\n",
       "</style>\n",
       "<table border=\"1\" class=\"dataframe\">\n",
       "  <thead>\n",
       "    <tr style=\"text-align: right;\">\n",
       "      <th>group</th>\n",
       "      <th>event_name</th>\n",
       "      <th>A</th>\n",
       "      <th>B</th>\n",
       "      <th>total</th>\n",
       "    </tr>\n",
       "  </thead>\n",
       "  <tbody>\n",
       "    <tr>\n",
       "      <th>0</th>\n",
       "      <td>login</td>\n",
       "      <td>2747</td>\n",
       "      <td>927</td>\n",
       "      <td>3674</td>\n",
       "    </tr>\n",
       "    <tr>\n",
       "      <th>1</th>\n",
       "      <td>product_page</td>\n",
       "      <td>1780</td>\n",
       "      <td>523</td>\n",
       "      <td>2303</td>\n",
       "    </tr>\n",
       "    <tr>\n",
       "      <th>2</th>\n",
       "      <td>product_cart</td>\n",
       "      <td>824</td>\n",
       "      <td>255</td>\n",
       "      <td>1079</td>\n",
       "    </tr>\n",
       "    <tr>\n",
       "      <th>3</th>\n",
       "      <td>purchase</td>\n",
       "      <td>872</td>\n",
       "      <td>256</td>\n",
       "      <td>1128</td>\n",
       "    </tr>\n",
       "  </tbody>\n",
       "</table>\n",
       "</div>"
      ],
      "text/plain": [
       "group    event_name     A    B  total\n",
       "0             login  2747  927   3674\n",
       "1      product_page  1780  523   2303\n",
       "2      product_cart   824  255   1079\n",
       "3          purchase   872  256   1128"
      ]
     },
     "execution_count": 41,
     "metadata": {},
     "output_type": "execute_result"
    }
   ],
   "source": [
    "values = (data.pivot_table(index='event_name', values='user_id', columns='group', aggfunc='nunique')\n",
    ".reset_index())\n",
    "values['total'] = values['A']+ values['B']\n",
    "values_1=values.copy()\n",
    "values_1.iloc[1,:],values_1.iloc[2,:]=values.iloc[2,:],values.iloc[1,:]\n",
    "values_1"
   ]
  },
  {
   "cell_type": "code",
   "execution_count": 42,
   "id": "ce063823",
   "metadata": {},
   "outputs": [
    {
     "data": {
      "text/plain": [
       "group\n",
       "A    2747\n",
       "B     928\n",
       "Name: user_id, dtype: int64"
      ]
     },
     "execution_count": 42,
     "metadata": {},
     "output_type": "execute_result"
    }
   ],
   "source": [
    "group = data.groupby('group')['user_id'].nunique()\n",
    "group"
   ]
  },
  {
   "cell_type": "markdown",
   "id": "60eceb6e",
   "metadata": {},
   "source": [
    "Обозначим функцию для подсчета z-критерия."
   ]
  },
  {
   "cell_type": "code",
   "execution_count": 43,
   "id": "61ec0237",
   "metadata": {},
   "outputs": [],
   "source": [
    "def z_critery(values, trials, col1, col2):\n",
    "    for i in range(1, 4):\n",
    "        # критический уровень статистической значимости  \n",
    "        alpha = 0.05\n",
    "        # количество сравнений\n",
    "        m = 3\n",
    "        # новый уровень значимости\n",
    "        alpha_m =  1 - (1 - alpha)**(1/m)\n",
    "        \n",
    "        successes = np.array([values.loc[i, col1], values.loc[i, col2]])  \n",
    "        \n",
    "        # пропорция успехов в первой группе:\n",
    "        p1 = successes[0]/trials[0]    \n",
    "        \n",
    "        # пропорция успехов во второй группе:\n",
    "        p2 = successes[1]/trials[1]   \n",
    "        \n",
    "        # пропорция успехов в комбинированном датасете:\n",
    "        p_combined = (successes[0] + successes[1]) / (trials[0] + trials[1])   \n",
    "        \n",
    "        # разница пропорций в датасетах\n",
    "        difference = p1 - p2    \n",
    "        \n",
    "        #считаем статистику в ст.отклонениях стандартного нормального распределения\n",
    "        z_value = difference / mth.sqrt(p_combined * (1 - p_combined) * (1/trials[0] + 1/trials[1]))   \n",
    "        \n",
    "        # задаем стандартное нормальное распределение (среднее 0, ст.отклонение 1)\n",
    "        distr = st.norm(0, 1)   \n",
    "        \n",
    "        p_value = (1 - distr.cdf(abs(z_value))) * 2  \n",
    "         \n",
    "        print('{} p-значение: {}'.format(values['event_name'][i], p_value))\n",
    "        if p_value < alpha_m:\n",
    "            print('Отвергаем нулевую гипотезу: между долями есть значимая разница')\n",
    "        else:\n",
    "            print('Не получилось отвергнуть нулевую гипотезу, нет оснований считать доли разными')\n",
    "        print('---------------------------------------------------------------------------------')            "
   ]
  },
  {
   "cell_type": "markdown",
   "id": "3f055739",
   "metadata": {},
   "source": [
    "Проверим, есть ли разница между выборками А и В при помощи z-критерия. Сформулируем гипотезы:\n",
    "\n",
    "Н0: Между долями нет статистически значимой разницы;\n",
    "Н1: Между долями есть статистически значимая разница."
   ]
  },
  {
   "cell_type": "code",
   "execution_count": 44,
   "id": "197d6edc",
   "metadata": {},
   "outputs": [
    {
     "name": "stdout",
     "output_type": "stream",
     "text": [
      "product_cart p-значение: 0.14534814557238196\n",
      "Не получилось отвергнуть нулевую гипотезу, нет оснований считать доли разными\n",
      "---------------------------------------------------------------------------------\n",
      "product_page p-значение: 4.310980554755872e-06\n",
      "Отвергаем нулевую гипотезу: между долями есть значимая разница\n",
      "---------------------------------------------------------------------------------\n",
      "purchase p-значение: 0.017592402663314743\n",
      "Не получилось отвергнуть нулевую гипотезу, нет оснований считать доли разными\n",
      "---------------------------------------------------------------------------------\n"
     ]
    }
   ],
   "source": [
    " z_critery(values, group, 'A', 'B')"
   ]
  },
  {
   "cell_type": "markdown",
   "id": "f9fe7c19",
   "metadata": {},
   "source": [
    "В соответствии с z-критерием:\n",
    "\n",
    "- конверсия в просмотр карточек товаров (событие product_page) в группе В на 9% ниже, чем в группе А и эта разница является статистически значимой.\n",
    "- конверсия в просмотры корзины (product_cart) в группе В на 3% выше группы А и эта разница не является статистически значимой.\n",
    "- конверсия в покупки (purchase) в группе B на 1% ниже, чем в группе А и эта разница является статистически значимой.\n",
    "\n",
    "Проверка z-критерием подтвердила, что внедрение улучшенной рекомендательной системы ожидаемых результатов не показало.\n",
    "\n",
    "## Выводы\n",
    "\n",
    "Цель анализа — провести оценку результатов A/B-теста.\n",
    "\n",
    "В обоих группах больше всего пользователей мы теряем при переходе от регистрации к просмотру карточек товара. От регистрации до успешной оплаты в группе А доходят около 14% пользователей, в группе В -13%. Просмотр корзины совершают меньше пользователей чем покупку, скорее всего существует схема покупки товара минуя корзину, на подобии кнопки быстрой покупки в карточке товара.\n",
    "\n",
    "В соответствии с воронкой событий и z-критерием:\n",
    "- конверсия в просмотр карточек товаров (событие product_page) в группе В на 9% ниже, чем в группе А и эта разница является статистически значимой.\n",
    "- конверсия в просмотры корзины (product_cart) в группе В на 3% выше группы А и эта разница не является статистически значимой.\n",
    "- конверсия в покупки (purchase) в группе B на 1% ниже, чем в группе А и эта разница является статистически значимой.\n",
    "\n",
    "Проверка z-критерием подтвердила, что внедрение улучшенной рекомендательной системы ожидаемых результатов не принесло. Но стоит учесть, что А-В тест проведен не в соответствии с ТЗ, а именно: \n",
    "- Дата окончания теста не соответствует, в данных не хватает информации за 4 дня.\n",
    "- Проведение A-B теста совпадает с временем проведения Christmas&New Year Promo и CIS New Year Gift Lottery, это безусловно повлияет на конверсию, на обе группы в равной мере.\n",
    "- Распределение по группам не равномерное - в группе А на 57.62 % пользователей больше.\n",
    "- Количество участников теста составило 3675 и более не соответствует заложеному в ТЗ показателю в 6000.\n",
    "- Всего 54,81 % новых пользователей из региона ЕU, что не соответствует заложеному в ТЗ показателю 15%.\n",
    "\n",
    "**А-В тест не соответствует техническому заданию, и это могло негативно повлиять на его результат.**"
   ]
  },
  {
   "cell_type": "code",
   "execution_count": null,
   "id": "e58cf25e",
   "metadata": {},
   "outputs": [],
   "source": []
  }
 ],
 "metadata": {
  "ExecuteTimeLog": [
   {
    "duration": 1280,
    "start_time": "2023-03-04T05:00:25.767Z"
   },
   {
    "duration": 668,
    "start_time": "2023-03-04T05:00:27.049Z"
   },
   {
    "duration": 20,
    "start_time": "2023-03-04T05:00:27.718Z"
   },
   {
    "duration": 75,
    "start_time": "2023-03-04T05:00:27.739Z"
   },
   {
    "duration": 30,
    "start_time": "2023-03-04T05:00:27.817Z"
   },
   {
    "duration": 20,
    "start_time": "2023-03-04T05:00:27.850Z"
   },
   {
    "duration": 127,
    "start_time": "2023-03-04T05:00:27.871Z"
   },
   {
    "duration": 6,
    "start_time": "2023-03-04T05:00:28.000Z"
   },
   {
    "duration": 206,
    "start_time": "2023-03-04T05:00:28.007Z"
   },
   {
    "duration": 41,
    "start_time": "2023-03-04T05:00:28.214Z"
   },
   {
    "duration": 13,
    "start_time": "2023-03-04T05:00:28.256Z"
   },
   {
    "duration": 8,
    "start_time": "2023-03-04T05:00:28.271Z"
   },
   {
    "duration": 30,
    "start_time": "2023-03-04T05:00:28.280Z"
   },
   {
    "duration": 62,
    "start_time": "2023-03-04T05:00:28.314Z"
   },
   {
    "duration": 14,
    "start_time": "2023-03-04T05:00:28.378Z"
   },
   {
    "duration": 5,
    "start_time": "2023-03-04T05:00:28.394Z"
   },
   {
    "duration": 6,
    "start_time": "2023-03-04T05:00:28.401Z"
   },
   {
    "duration": 37,
    "start_time": "2023-03-04T05:00:28.409Z"
   },
   {
    "duration": 8,
    "start_time": "2023-03-04T05:00:28.447Z"
   },
   {
    "duration": 10,
    "start_time": "2023-03-04T05:00:28.457Z"
   },
   {
    "duration": 43,
    "start_time": "2023-03-04T05:00:28.469Z"
   },
   {
    "duration": 3,
    "start_time": "2023-03-04T05:00:28.514Z"
   },
   {
    "duration": 36,
    "start_time": "2023-03-04T05:00:28.518Z"
   },
   {
    "duration": 9,
    "start_time": "2023-03-04T05:00:28.556Z"
   },
   {
    "duration": 8,
    "start_time": "2023-03-04T05:00:28.567Z"
   },
   {
    "duration": 15,
    "start_time": "2023-03-04T05:00:28.577Z"
   },
   {
    "duration": 158,
    "start_time": "2023-03-04T05:00:28.594Z"
   },
   {
    "duration": 28,
    "start_time": "2023-03-04T05:00:28.754Z"
   },
   {
    "duration": 22,
    "start_time": "2023-03-04T05:00:28.784Z"
   },
   {
    "duration": 389,
    "start_time": "2023-03-04T05:00:28.807Z"
   },
   {
    "duration": 16,
    "start_time": "2023-03-04T05:00:29.198Z"
   },
   {
    "duration": 47,
    "start_time": "2023-03-04T05:00:29.215Z"
   },
   {
    "duration": 25,
    "start_time": "2023-03-04T05:00:29.264Z"
   },
   {
    "duration": 401,
    "start_time": "2023-03-04T05:00:29.291Z"
   },
   {
    "duration": 10,
    "start_time": "2023-03-04T05:00:29.694Z"
   },
   {
    "duration": 21,
    "start_time": "2023-03-04T05:00:29.705Z"
   },
   {
    "duration": 17,
    "start_time": "2023-03-04T05:00:29.744Z"
   },
   {
    "duration": 4770,
    "start_time": "2023-03-04T05:00:29.762Z"
   },
   {
    "duration": 40,
    "start_time": "2023-03-04T05:00:34.533Z"
   },
   {
    "duration": 12,
    "start_time": "2023-03-04T05:00:34.575Z"
   },
   {
    "duration": 10,
    "start_time": "2023-03-04T05:00:34.645Z"
   },
   {
    "duration": 20,
    "start_time": "2023-03-04T05:00:34.656Z"
   },
   {
    "duration": 53,
    "start_time": "2023-03-17T20:49:01.701Z"
   },
   {
    "duration": 1531,
    "start_time": "2023-03-17T20:49:13.364Z"
   },
   {
    "duration": 980,
    "start_time": "2023-03-17T20:49:14.899Z"
   },
   {
    "duration": 20,
    "start_time": "2023-03-17T20:49:15.881Z"
   },
   {
    "duration": 81,
    "start_time": "2023-03-17T20:49:15.903Z"
   },
   {
    "duration": 24,
    "start_time": "2023-03-17T20:49:15.986Z"
   },
   {
    "duration": 18,
    "start_time": "2023-03-17T20:49:16.012Z"
   },
   {
    "duration": 132,
    "start_time": "2023-03-17T20:49:16.032Z"
   },
   {
    "duration": 12,
    "start_time": "2023-03-17T20:49:16.166Z"
   },
   {
    "duration": 205,
    "start_time": "2023-03-17T20:49:16.179Z"
   },
   {
    "duration": 32,
    "start_time": "2023-03-17T20:49:16.386Z"
   },
   {
    "duration": 10,
    "start_time": "2023-03-17T20:49:16.419Z"
   },
   {
    "duration": 6,
    "start_time": "2023-03-17T20:49:16.431Z"
   },
   {
    "duration": 55,
    "start_time": "2023-03-17T20:49:16.439Z"
   },
   {
    "duration": 36,
    "start_time": "2023-03-17T20:49:16.495Z"
   },
   {
    "duration": 40,
    "start_time": "2023-03-17T20:49:16.533Z"
   },
   {
    "duration": 57,
    "start_time": "2023-03-17T20:49:16.575Z"
   },
   {
    "duration": 5,
    "start_time": "2023-03-17T20:49:16.634Z"
   },
   {
    "duration": 6,
    "start_time": "2023-03-17T20:49:16.640Z"
   },
   {
    "duration": 26,
    "start_time": "2023-03-17T20:49:16.648Z"
   },
   {
    "duration": 5,
    "start_time": "2023-03-17T20:49:16.675Z"
   },
   {
    "duration": 22,
    "start_time": "2023-03-17T20:49:16.681Z"
   },
   {
    "duration": 11,
    "start_time": "2023-03-17T20:49:16.704Z"
   },
   {
    "duration": 6,
    "start_time": "2023-03-17T20:49:16.717Z"
   },
   {
    "duration": 16,
    "start_time": "2023-03-17T20:49:16.725Z"
   },
   {
    "duration": 7,
    "start_time": "2023-03-17T20:49:16.773Z"
   },
   {
    "duration": 9,
    "start_time": "2023-03-17T20:49:16.782Z"
   },
   {
    "duration": 10,
    "start_time": "2023-03-17T20:49:16.792Z"
   },
   {
    "duration": 18,
    "start_time": "2023-03-17T20:49:16.805Z"
   },
   {
    "duration": 59,
    "start_time": "2023-03-17T20:49:16.824Z"
   },
   {
    "duration": 20,
    "start_time": "2023-03-17T20:49:16.885Z"
   },
   {
    "duration": 396,
    "start_time": "2023-03-17T20:49:16.907Z"
   },
   {
    "duration": 10,
    "start_time": "2023-03-17T20:49:17.305Z"
   },
   {
    "duration": 21,
    "start_time": "2023-03-17T20:49:17.318Z"
   },
   {
    "duration": 48,
    "start_time": "2023-03-17T20:49:17.341Z"
   },
   {
    "duration": 27,
    "start_time": "2023-03-17T20:49:17.391Z"
   },
   {
    "duration": 414,
    "start_time": "2023-03-17T20:49:17.419Z"
   },
   {
    "duration": 19,
    "start_time": "2023-03-17T20:49:17.835Z"
   },
   {
    "duration": 28,
    "start_time": "2023-03-17T20:49:17.856Z"
   },
   {
    "duration": 241,
    "start_time": "2023-03-17T20:49:17.886Z"
   },
   {
    "duration": 45,
    "start_time": "2023-03-17T20:49:18.129Z"
   },
   {
    "duration": 10,
    "start_time": "2023-03-17T20:49:18.175Z"
   },
   {
    "duration": 6,
    "start_time": "2023-03-17T20:49:18.187Z"
   },
   {
    "duration": 201,
    "start_time": "2023-03-17T20:49:18.195Z"
   },
   {
    "duration": 9,
    "start_time": "2023-03-17T20:49:33.657Z"
   },
   {
    "duration": 1461,
    "start_time": "2023-03-17T20:51:40.247Z"
   },
   {
    "duration": 668,
    "start_time": "2023-03-17T20:51:41.710Z"
   },
   {
    "duration": 20,
    "start_time": "2023-03-17T20:51:42.380Z"
   },
   {
    "duration": 87,
    "start_time": "2023-03-17T20:51:42.402Z"
   },
   {
    "duration": 25,
    "start_time": "2023-03-17T20:51:42.491Z"
   },
   {
    "duration": 18,
    "start_time": "2023-03-17T20:51:42.518Z"
   },
   {
    "duration": 136,
    "start_time": "2023-03-17T20:51:42.537Z"
   },
   {
    "duration": 6,
    "start_time": "2023-03-17T20:51:42.675Z"
   },
   {
    "duration": 212,
    "start_time": "2023-03-17T20:51:42.683Z"
   },
   {
    "duration": 33,
    "start_time": "2023-03-17T20:51:42.898Z"
   },
   {
    "duration": 10,
    "start_time": "2023-03-17T20:51:42.933Z"
   },
   {
    "duration": 7,
    "start_time": "2023-03-17T20:51:42.945Z"
   },
   {
    "duration": 30,
    "start_time": "2023-03-17T20:51:42.973Z"
   },
   {
    "duration": 34,
    "start_time": "2023-03-17T20:51:43.004Z"
   },
   {
    "duration": 37,
    "start_time": "2023-03-17T20:51:43.040Z"
   },
   {
    "duration": 55,
    "start_time": "2023-03-17T20:51:43.078Z"
   },
   {
    "duration": 4,
    "start_time": "2023-03-17T20:51:43.135Z"
   },
   {
    "duration": 7,
    "start_time": "2023-03-17T20:51:43.141Z"
   },
   {
    "duration": 26,
    "start_time": "2023-03-17T20:51:43.150Z"
   },
   {
    "duration": 13,
    "start_time": "2023-03-17T20:51:43.179Z"
   },
   {
    "duration": 19,
    "start_time": "2023-03-17T20:51:43.194Z"
   },
   {
    "duration": 11,
    "start_time": "2023-03-17T20:51:43.215Z"
   },
   {
    "duration": 6,
    "start_time": "2023-03-17T20:51:43.228Z"
   },
   {
    "duration": 45,
    "start_time": "2023-03-17T20:51:43.236Z"
   },
   {
    "duration": 7,
    "start_time": "2023-03-17T20:51:43.283Z"
   },
   {
    "duration": 11,
    "start_time": "2023-03-17T20:51:43.292Z"
   },
   {
    "duration": 11,
    "start_time": "2023-03-17T20:51:43.304Z"
   },
   {
    "duration": 17,
    "start_time": "2023-03-17T20:51:43.318Z"
   },
   {
    "duration": 55,
    "start_time": "2023-03-17T20:51:43.336Z"
   },
   {
    "duration": 21,
    "start_time": "2023-03-17T20:51:43.393Z"
   },
   {
    "duration": 383,
    "start_time": "2023-03-17T20:51:43.416Z"
   },
   {
    "duration": 9,
    "start_time": "2023-03-17T20:51:43.801Z"
   },
   {
    "duration": 16,
    "start_time": "2023-03-17T20:51:43.812Z"
   },
   {
    "duration": 50,
    "start_time": "2023-03-17T20:51:43.829Z"
   },
   {
    "duration": 28,
    "start_time": "2023-03-17T20:51:43.881Z"
   },
   {
    "duration": 501,
    "start_time": "2023-03-17T20:51:43.910Z"
   },
   {
    "duration": 20,
    "start_time": "2023-03-17T20:51:44.412Z"
   },
   {
    "duration": 16,
    "start_time": "2023-03-17T20:51:44.433Z"
   },
   {
    "duration": 167,
    "start_time": "2023-03-17T20:51:44.450Z"
   },
   {
    "duration": 0,
    "start_time": "2023-03-17T20:51:44.618Z"
   },
   {
    "duration": 0,
    "start_time": "2023-03-17T20:51:44.619Z"
   },
   {
    "duration": 0,
    "start_time": "2023-03-17T20:51:44.620Z"
   },
   {
    "duration": 1,
    "start_time": "2023-03-17T20:51:44.621Z"
   },
   {
    "duration": 9104,
    "start_time": "2023-03-17T20:52:23.431Z"
   },
   {
    "duration": 2649,
    "start_time": "2023-03-17T20:52:47.026Z"
   },
   {
    "duration": 1388,
    "start_time": "2023-03-17T20:52:49.678Z"
   },
   {
    "duration": 672,
    "start_time": "2023-03-17T20:52:51.068Z"
   },
   {
    "duration": 20,
    "start_time": "2023-03-17T20:52:51.742Z"
   },
   {
    "duration": 71,
    "start_time": "2023-03-17T20:52:51.764Z"
   },
   {
    "duration": 24,
    "start_time": "2023-03-17T20:52:51.837Z"
   },
   {
    "duration": 18,
    "start_time": "2023-03-17T20:52:51.872Z"
   },
   {
    "duration": 130,
    "start_time": "2023-03-17T20:52:51.891Z"
   },
   {
    "duration": 6,
    "start_time": "2023-03-17T20:52:52.023Z"
   },
   {
    "duration": 222,
    "start_time": "2023-03-17T20:52:52.030Z"
   },
   {
    "duration": 39,
    "start_time": "2023-03-17T20:52:52.254Z"
   },
   {
    "duration": 10,
    "start_time": "2023-03-17T20:52:52.294Z"
   },
   {
    "duration": 7,
    "start_time": "2023-03-17T20:52:52.306Z"
   },
   {
    "duration": 30,
    "start_time": "2023-03-17T20:52:52.316Z"
   },
   {
    "duration": 59,
    "start_time": "2023-03-17T20:52:52.348Z"
   },
   {
    "duration": 16,
    "start_time": "2023-03-17T20:52:52.408Z"
   },
   {
    "duration": 82,
    "start_time": "2023-03-17T20:52:52.426Z"
   },
   {
    "duration": 5,
    "start_time": "2023-03-17T20:52:52.509Z"
   },
   {
    "duration": 6,
    "start_time": "2023-03-17T20:52:52.516Z"
   },
   {
    "duration": 6,
    "start_time": "2023-03-17T20:52:52.524Z"
   },
   {
    "duration": 6,
    "start_time": "2023-03-17T20:52:52.532Z"
   },
   {
    "duration": 46,
    "start_time": "2023-03-17T20:52:52.540Z"
   },
   {
    "duration": 11,
    "start_time": "2023-03-17T20:52:52.588Z"
   },
   {
    "duration": 6,
    "start_time": "2023-03-17T20:52:52.601Z"
   },
   {
    "duration": 14,
    "start_time": "2023-03-17T20:52:52.609Z"
   },
   {
    "duration": 8,
    "start_time": "2023-03-17T20:52:52.626Z"
   },
   {
    "duration": 42,
    "start_time": "2023-03-17T20:52:52.636Z"
   },
   {
    "duration": 11,
    "start_time": "2023-03-17T20:52:52.680Z"
   },
   {
    "duration": 16,
    "start_time": "2023-03-17T20:52:52.693Z"
   },
   {
    "duration": 26,
    "start_time": "2023-03-17T20:52:52.711Z"
   },
   {
    "duration": 53,
    "start_time": "2023-03-17T20:52:52.739Z"
   },
   {
    "duration": 397,
    "start_time": "2023-03-17T20:52:52.794Z"
   },
   {
    "duration": 10,
    "start_time": "2023-03-17T20:52:53.193Z"
   },
   {
    "duration": 21,
    "start_time": "2023-03-17T20:52:53.205Z"
   },
   {
    "duration": 45,
    "start_time": "2023-03-17T20:52:53.228Z"
   },
   {
    "duration": 27,
    "start_time": "2023-03-17T20:52:53.275Z"
   },
   {
    "duration": 476,
    "start_time": "2023-03-17T20:52:53.304Z"
   },
   {
    "duration": 20,
    "start_time": "2023-03-17T20:52:53.782Z"
   },
   {
    "duration": 15,
    "start_time": "2023-03-17T20:52:53.805Z"
   },
   {
    "duration": 986,
    "start_time": "2023-03-17T20:52:53.822Z"
   },
   {
    "duration": 34,
    "start_time": "2023-03-17T20:52:54.814Z"
   },
   {
    "duration": 34,
    "start_time": "2023-03-17T20:52:54.849Z"
   },
   {
    "duration": 7,
    "start_time": "2023-03-17T20:52:54.885Z"
   },
   {
    "duration": 13,
    "start_time": "2023-03-17T20:52:54.894Z"
   }
  ],
  "kernelspec": {
   "display_name": "Python 3 (ipykernel)",
   "language": "python",
   "name": "python3"
  },
  "language_info": {
   "codemirror_mode": {
    "name": "ipython",
    "version": 3
   },
   "file_extension": ".py",
   "mimetype": "text/x-python",
   "name": "python",
   "nbconvert_exporter": "python",
   "pygments_lexer": "ipython3",
   "version": "3.9.13"
  },
  "toc": {
   "base_numbering": 1,
   "nav_menu": {},
   "number_sections": true,
   "sideBar": true,
   "skip_h1_title": true,
   "title_cell": "Содержание",
   "title_sidebar": "Contents",
   "toc_cell": true,
   "toc_position": {
    "height": "calc(100% - 180px)",
    "left": "10px",
    "top": "150px",
    "width": "165px"
   },
   "toc_section_display": true,
   "toc_window_display": true
  }
 },
 "nbformat": 4,
 "nbformat_minor": 5
}
